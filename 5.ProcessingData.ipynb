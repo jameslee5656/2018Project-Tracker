{
 "cells": [
  {
   "cell_type": "code",
   "execution_count": 50,
   "metadata": {},
   "outputs": [],
   "source": [
    "data = []\n",
    "with open(r'C:\\Users\\james\\Desktop\\motor.txt','r') as f:\n",
    "    for line in f:\n",
    "        string = ''\n",
    "        if (line != '\\n') and (line != '\\r'):\n",
    "            data.append(line[:-1])\n",
    "            "
   ]
  },
  {
   "cell_type": "code",
   "execution_count": 51,
   "metadata": {},
   "outputs": [],
   "source": [
    "dataSplit = []\n",
    "for x in data:\n",
    "    dataSplit.append(x.split(':'))"
   ]
  },
  {
   "cell_type": "code",
   "execution_count": 52,
   "metadata": {},
   "outputs": [],
   "source": [
    "import numpy as np\n",
    "lag = []\n",
    "for x in dataSplit:\n",
    "    lag.append(float(x[5]) - float(x[3]))"
   ]
  },
  {
   "cell_type": "code",
   "execution_count": 53,
   "metadata": {},
   "outputs": [],
   "source": [
    "lag = lag[:100]"
   ]
  },
  {
   "cell_type": "code",
   "execution_count": 54,
   "metadata": {},
   "outputs": [
    {
     "data": {
      "image/png": "[encoded data removed]",
      "text/plain": [
       "<Figure size 432x288 with 1 Axes>"
      ]
     },
     "metadata": {},
     "output_type": "display_data"
    }
   ],
   "source": [
    "import matplotlib.pyplot as plt\n",
    "\n",
    "plt.plot(list(range(100)),lag,'ro')\n",
    "# plt.axis([dataSplit[0][4], dataSplit[99][4], 0, x])\n",
    "plt.show()"
   ]
  },
  {
   "cell_type": "code",
   "execution_count": 42,
   "metadata": {},
   "outputs": [],
   "source": [
    "data = dataSplit[-940:]"
   ]
  },
  {
   "cell_type": "code",
   "execution_count": 3,
   "metadata": {},
   "outputs": [],
   "source": [
    "data = dataSplit"
   ]
  },
  {
   "cell_type": "code",
   "execution_count": 4,
   "metadata": {},
   "outputs": [],
   "source": [
    "lagAverage = 0\n",
    "for x in data:\n",
    "    lagAverage += (float(x[4]) - float(x[3]))"
   ]
  },
  {
   "cell_type": "code",
   "execution_count": 10,
   "metadata": {},
   "outputs": [
    {
     "name": "stdout",
     "output_type": "stream",
     "text": [
      "['121.36842', '24.94579', '187', '1539595360.3726988', '1539595399.2342334']\n",
      "187\n"
     ]
    }
   ],
   "source": [
    "print(x)\n",
    "print(int(data[len(data) - 1][2]))"
   ]
  },
  {
   "cell_type": "code",
   "execution_count": 6,
   "metadata": {},
   "outputs": [
    {
     "name": "stdout",
     "output_type": "stream",
     "text": [
      "1\n",
      "0.53475935828877\n"
     ]
    }
   ],
   "source": [
    "print(int(data[len(data) - 1][2]) - len(data))\n",
    "print((int(data[len(data) - 1][2]) - len(data))/ int(data[len(data) - 1][2]) * 100)"
   ]
  },
  {
   "cell_type": "code",
   "execution_count": 7,
   "metadata": {},
   "outputs": [
    {
     "name": "stdout",
     "output_type": "stream",
     "text": [
      "37.07079336720128\n"
     ]
    }
   ],
   "source": [
    "print(lagAverage/len(data))"
   ]
  },
  {
   "cell_type": "code",
   "execution_count": null,
   "metadata": {},
   "outputs": [],
   "source": []
  }
 ],
 "metadata": {
  "kernelspec": {
   "display_name": "Python 3",
   "language": "python",
   "name": "python3"
  },
  "language_info": {
   "codemirror_mode": {
    "name": "ipython",
    "version": 3
   },
   "file_extension": ".py",
   "mimetype": "text/x-python",
   "name": "python",
   "nbconvert_exporter": "python",
   "pygments_lexer": "ipython3",
   "version": "3.6.5"
  }
 },
 "nbformat": 4,
 "nbformat_minor": 2
}
