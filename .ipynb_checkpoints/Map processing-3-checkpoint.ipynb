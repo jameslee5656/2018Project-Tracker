{
 "cells": [
  {
   "cell_type": "code",
   "execution_count": 9,
   "metadata": {},
   "outputs": [],
   "source": [
    "import math\n",
    "from pymongo import MongoClient\n",
    "from xml.etree import ElementTree\n",
    "import pprint\n",
    "import json\n",
    "import matplotlib.pyplot as plt\n",
    "import matplotlib.path as mplPath\n",
    "import numpy as np\n",
    "import urllib.request, json\n",
    "\n",
    "class electricFence():\n",
    "    def __init__(self):\n",
    "        self.latitude = []\n",
    "        self.longitude = []\n",
    "        self.location = []\n",
    "        self.frequency = {}\n",
    "        self.chosenPoint = []\n",
    "        self.user = []\n",
    "        \n",
    "    def pullData(self, user): #pull latitude and longitude\n",
    "        \n",
    "        for x in user:\n",
    "            self.user = user\n",
    "\n",
    "            client = MongoClient('120.126.136.17',27017)\n",
    "            db = client['Tracker']\n",
    "            collection = db[x]\n",
    "            cursor = collection.find({})\n",
    "\n",
    "            jsonData = [d for d in cursor]\n",
    "\n",
    "            for y in jsonData:\n",
    "                self.latitude.append(float(y['latitude']))\n",
    "                self.longitude.append(float(y['longitude']))\n",
    "            \n",
    "    def onlySanxia(self):\n",
    "        \n",
    "        with open('geography.gml', encoding = 'utf8') as file:\n",
    "            tree = ElementTree.parse(file)\n",
    "            root = tree.getroot()\n",
    "            for i in range(len(root)):\n",
    "                if root[i][0][0].text == '新北市三峽區':\n",
    "                    data = root[1][0][1][0][0][0][0][0][0].text\n",
    "        data = data.split(' ')\n",
    "        boardData = []\n",
    "        for x in data:\n",
    "            x = x.split(',')\n",
    "            x[0] = float(x[0])\n",
    "            x[1] = float(x[1])\n",
    "            boardData.append([x[0],x[1]])\n",
    "#             data = json.loads(url.read().decode())\n",
    "        \n",
    "#         # from scipy.spatial import ConvexHull\n",
    "#         boarderData = data['features'][0]['geometry']['coordinates'][0]\n",
    "        \n",
    "#         #make out a path\n",
    "        borderPath = mplPath.Path(boardData) \n",
    "        \n",
    "        for x in range(len(self.latitude)):\n",
    "            if borderPath.contains_points(np.array([[self.longitude[x], self.latitude[x]]])):       \n",
    "                self.location.append([round(self.latitude[x],4), round(self.longitude[x],4)])\n",
    "                \n",
    "    def removeOutlier(self):\n",
    "        #remove that the variance is too large\n",
    "        trainingset = np.array(self.location)\n",
    "        mean = np.mean(trainingset, axis=0)\n",
    "        sd = np.std(trainingset, axis=0)\n",
    "        final_list = [x for x in self.location if ((x[0] > mean[0] - 6 * sd[0])and(x[1] > mean[1] - 6 * sd[1]))]\n",
    "        final_list = [x for x in final_list if ((x[0] < mean[0] + 6 * sd[0])and(x[1] < mean[1] + 6 * sd[1]))]       \n",
    "        self.location = final_list\n",
    "        \n",
    "    def abDistance(a, b):# calculate a and b distance  a[a緯, a經], b[b緯, b經]\n",
    "        \"\"\"\n",
    "        兩點間距離D(x1,y1,x2,y2)=r×acos(sin(x1) ×sin(x2)+cos(x1) ×cos(x2) ×cos(y1-y2))\n",
    "        x,y是緯度，經度的弧度單位，r是地球半徑\n",
    "        \"\"\"\n",
    "        op = math.pi/180\n",
    "        r = 6378.39\n",
    "        return r*math.acos(math.sin(a[0]*op) * math.sin(b[0]*op) + \n",
    "                           math.cos(a[0]*op) * math.cos(b[0]*op) * math.cos(a[1]*op-b[1]*op))\n",
    "    \n",
    "    #establish a dict to count how many duplicate location\n",
    "#     def addFrequency(self):\n",
    "#         for x in self.location:\n",
    "#             if tuple(x) in self.frequency:\n",
    "#                 self.frequency[tuple(x)] += 1\n",
    "#             else:\n",
    "#                 self.frequency[tuple(x)] = 1\n",
    "                \n",
    "    def chosePoint(self):#point without duplicate\n",
    "        #map out a tuplelist that it`s element is tuple type\n",
    "        tuplelist = list(map(tuple, self.location))\n",
    "        self.chosenPoint = list(set(tuplelist))\n",
    "        return self.chosenPoint\n",
    "    \n",
    "    #make the bounds\n",
    "    def squareBounds(self,boundScale = 1):\n",
    "        #checking boundScale\n",
    "        if type(boundScale) != 'int':\n",
    "            boundScale = int(boundScale)\n",
    "        if boundScale < 1:\n",
    "            boundScale = 1\n",
    "        elif boundScale > 10:\n",
    "            boundScale = 10\n",
    "            \n",
    "        downlat = 24.938590 \n",
    "        leftlong = 121.360761\n",
    "        toplat = 24.94884\n",
    "        rightlong = 121.373937\n",
    "\n",
    "        temptlist = [[round(x[0],4), round(x[1],4)] for x in self.location]\n",
    "\n",
    "        squarefreq = {}\n",
    "        #make out a dic that is the smallest boundScale = 1\n",
    "        for i in range(int(round(toplat - downlat,4)*10000)):\n",
    "            for j in range(int(round(rightlong - leftlong,4)*10000)):\n",
    "                squarefreq[tuple([round(downlat + i/10000 ,4), round(leftlong + j/10000,4)])]=0\n",
    "\n",
    "        for x in temptlist:\n",
    "            if tuple(x) in squarefreq:\n",
    "                #the way i think: use mod to divide into two group just like roundup\n",
    "                if round((x[0] - downlat)*10000,0) % boundScale != 0:\n",
    "                    #less or equal than boundScale/2 = the smaller on \n",
    "                    if round((x[0] - downlat)*10000,0)% boundScale <= boundScale/2:\n",
    "                        x[0] -= (round((x[0] - downlat)*10000,0) % boundScale)/10000\n",
    "                    else:\n",
    "                        x[0] += (boundScale - (round((x[0] - downlat)*10000,0) % boundScale))\n",
    "                    x[0] = round(x[0],4)\n",
    "                if round((x[1] - leftlong)*10000,0) % boundScale != 0:\n",
    "                    if round((x[0] - leftlong)*10000,0) % boundScale != 0:\n",
    "                        x[1] -= (round((x[0] - leftlong)*10000,0) % boundScale)/10000\n",
    "                    else:\n",
    "                        x[1] += (boundScale - (round((x[0] - leftlong)*10000,0) % boundScale))\n",
    "                    x[1] = round(x[1],4)\n",
    "                if tuple(x) in squarefreq:\n",
    "                    squarefreq[tuple(x)] += 1\n",
    "\n",
    "        #divide into different percentage\n",
    "        boundlist = []\n",
    "        squarefreqMax = max(squarefreq.values())\n",
    "        if squarefreqMax != 0:\n",
    "            squarefreqMax = math.log10(max(squarefreq.values()))\n",
    "        for k,values in squarefreq.items():\n",
    "            key = list(k)\n",
    "            if round((key[0] - downlat)*10000,0) % boundScale == 0:\n",
    "                if round((key[1] - leftlong)*10000,0) % boundScale == 0:\n",
    "                    lt = [round(key[0] + 0.00005*boundScale,5), round(key[1] - 0.00005*boundScale,5)]\n",
    "                    rt = [round(key[0] + 0.00005*boundScale,5), round(key[1] + 0.00005*boundScale,5)]\n",
    "                    rd = [round(key[0] - 0.00005*boundScale,5), round(key[1] + 0.00005*boundScale,5)]\n",
    "                    ld = [round(key[0] - 0.00005*boundScale,5), round(key[1] - 0.00005*boundScale,5)]\n",
    "                    precentage = 0\n",
    "                    if values!=0:\n",
    "                        values = math.log10(values)\n",
    "                    if(values>=0)and(values<squarefreqMax/5):\n",
    "                        precentage = 0\n",
    "                    elif (values>=squarefreqMax/5)and(values<2*squarefreqMax/5):\n",
    "                        precentage = 1\n",
    "                    elif (values>=2*squarefreqMax/5)and(values<3*squarefreqMax/5):\n",
    "                        precentage = 2\n",
    "                    elif (values>=3*squarefreqMax/5)and(values<4*squarefreqMax/5):\n",
    "                        precentage = 3\n",
    "                    else:\n",
    "                        precentage = 4\n",
    "                    boundlist.append([lt,rt,rd,ld,precentage])\n",
    "                    \n",
    "        squarelen = int(math.sqrt(len(boundlist)))\n",
    "        spacelist = []\n",
    "        #imply from bottomleft to topright\n",
    "        # temptlist.append(boundlist[0][3])\n",
    "        # temptlist.append(boundlist[0][2])\n",
    "        # temptlist.append(boundlist[0][0])\n",
    "        # temptlist.append(boundlist[0][1])\n",
    "\n",
    "        # temptlist.append(boundlist[0][3])\n",
    "        # temptlist.append(boundlist[10][1])\n",
    "        # temptlist.append(boundlist[1][3])\n",
    "        # temptlist.append([boundlist[10][1][0],boundlist[1][3][1]])\n",
    "\n",
    "        #imply from topright to bottomleft\n",
    "        # temptlist.append(boundlist[squarelen*squarelen - 1][1])\n",
    "        # temptlist.append(boundlist[squarelen*squarelen - 1][3])\n",
    "        # temptlist.append(boundlist[squarelen*squarelen - 1][2])\n",
    "        # temptlist.append(boundlist[squarelen*squarelen - 1][0])\n",
    "\n",
    "        # temptlist.append(boundlist[squarelen*squarelen - 2][0])\n",
    "        # temptlist.append(boundlist[squarelen*(squarelen-1) - 1][2])\n",
    "        # temptlist.append([boundlist[squarelen*(squarelen-1) - 1][3][0],boundlist[squarelen*squarelen - 2][0][1]])\n",
    "        for x in range(squarelen):\n",
    "            temptlist = []\n",
    "            temptlist.append(boundlist[0][3])\n",
    "            temptlist.append(boundlist[x * squarelen][0])\n",
    "            temptlist.append(boundlist[x][2])\n",
    "            temptlist.append([boundlist[x * squarelen][0][0],boundlist[x][2][1]])\n",
    "            spacelist.append(temptlist)\n",
    "\n",
    "        for x in range(squarelen - 1):\n",
    "            temptlist = []\n",
    "            temptlist.append(boundlist[squarelen*squarelen - 1][1])\n",
    "            temptlist.append(boundlist[squarelen*squarelen - 1 - x][0])\n",
    "            temptlist.append(boundlist[squarelen*(squarelen-x) - 1][2])\n",
    "            temptlist.append([boundlist[squarelen*(squarelen-x) - 1][3][0],boundlist[squarelen*squarelen - 1 - x][0][1]])\n",
    "            spacelist.append(temptlist)\n",
    "            \n",
    "        valuelist=[]\n",
    "        for x in boundlist:\n",
    "            if x[4] != 0:\n",
    "                valuelist.append(x)\n",
    "        \n",
    "        return spacelist,valuelist "
   ]
  },
  {
   "cell_type": "code",
   "execution_count": 10,
   "metadata": {},
   "outputs": [
    {
     "name": "stderr",
     "output_type": "stream",
     "text": [
      "F:\\Anaconda3\\lib\\site-packages\\numpy\\core\\fromnumeric.py:2957: RuntimeWarning: Mean of empty slice.\n",
      "  out=out, **kwargs)\n",
      "F:\\Anaconda3\\lib\\site-packages\\numpy\\core\\_methods.py:80: RuntimeWarning: invalid value encountered in double_scalars\n",
      "  ret = ret.dtype.type(ret / rcount)\n",
      "F:\\Anaconda3\\lib\\site-packages\\numpy\\core\\_methods.py:135: RuntimeWarning: Degrees of freedom <= 0 for slice\n",
      "  keepdims=keepdims)\n",
      "F:\\Anaconda3\\lib\\site-packages\\numpy\\core\\_methods.py:105: RuntimeWarning: invalid value encountered in true_divide\n",
      "  arrmean, rcount, out=arrmean, casting='unsafe', subok=False)\n",
      "F:\\Anaconda3\\lib\\site-packages\\numpy\\core\\_methods.py:127: RuntimeWarning: invalid value encountered in double_scalars\n",
      "  ret = ret.dtype.type(ret / rcount)\n"
     ]
    },
    {
     "ename": "IndexError",
     "evalue": "too many indices for array",
     "output_type": "error",
     "traceback": [
      "\u001b[1;31m---------------------------------------------------------------------------\u001b[0m",
      "\u001b[1;31mIndexError\u001b[0m                                Traceback (most recent call last)",
      "\u001b[1;32m<ipython-input-10-0114c88682ed>\u001b[0m in \u001b[0;36m<module>\u001b[1;34m()\u001b[0m\n\u001b[0;32m      8\u001b[0m \u001b[1;33m\u001b[0m\u001b[0m\n\u001b[0;32m      9\u001b[0m \u001b[0mtrainingset\u001b[0m \u001b[1;33m=\u001b[0m \u001b[0mnp\u001b[0m\u001b[1;33m.\u001b[0m\u001b[0marray\u001b[0m\u001b[1;33m(\u001b[0m\u001b[0mlis\u001b[0m\u001b[1;33m)\u001b[0m\u001b[1;33m\u001b[0m\u001b[0m\n\u001b[1;32m---> 10\u001b[1;33m \u001b[0mplt\u001b[0m\u001b[1;33m.\u001b[0m\u001b[0mplot\u001b[0m\u001b[1;33m(\u001b[0m\u001b[0mtrainingset\u001b[0m\u001b[1;33m[\u001b[0m\u001b[1;33m:\u001b[0m\u001b[1;33m,\u001b[0m\u001b[1;36m1\u001b[0m\u001b[1;33m]\u001b[0m\u001b[1;33m,\u001b[0m \u001b[0mtrainingset\u001b[0m\u001b[1;33m[\u001b[0m\u001b[1;33m:\u001b[0m\u001b[1;33m,\u001b[0m\u001b[1;36m0\u001b[0m\u001b[1;33m]\u001b[0m\u001b[1;33m,\u001b[0m \u001b[1;34m'o'\u001b[0m\u001b[1;33m)\u001b[0m\u001b[1;33m\u001b[0m\u001b[0m\n\u001b[0m\u001b[0;32m     11\u001b[0m \u001b[0mplt\u001b[0m\u001b[1;33m.\u001b[0m\u001b[0mshow\u001b[0m\u001b[1;33m(\u001b[0m\u001b[1;33m)\u001b[0m\u001b[1;33m\u001b[0m\u001b[0m\n",
      "\u001b[1;31mIndexError\u001b[0m: too many indices for array"
     ]
    }
   ],
   "source": [
    "user = ['james','leo']\n",
    "elFence = electricFence()\n",
    "elFence.pullData(user)\n",
    "elFence.onlySanxia()\n",
    "elFence.removeOutlier()\n",
    "spacelist,valuelist = elFence.squareBounds()\n",
    "lis = elFence.chosePoint()# == (lis = elFence.chosenPoint)\n",
    "\n",
    "trainingset = np.array(lis)\n",
    "plt.plot(trainingset[:,1], trainingset[:,0], 'o')\n",
    "plt.show()"
   ]
  },
  {
   "cell_type": "code",
   "execution_count": 48,
   "metadata": {},
   "outputs": [],
   "source": [
    "with open('geography.gml', encoding = 'utf8') as file:\n",
    "    tree = ElementTree.parse(file)\n",
    "    root = tree.getroot()\n",
    "    for i in range(len(root)):\n",
    "        if root[i][0][0].text == '新北市三峽區':\n",
    "            data = root[i][0][1][0][0][0][0][0][0].text\n",
    "data = data.split(' ')\n",
    "boardData = []\n",
    "for x in data:\n",
    "    x = x.split(',')\n",
    "    x[0] = float(x[0])\n",
    "    x[1] = float(x[1])\n",
    "    boardData.append([x[0],x[1]])\n",
    "\n",
    "borderPath = mplPath.Path(boardData) \n",
    "\n",
    "for x in range(len(elFence.latitude)):\n",
    "    if borderPath.contains_points(np.array([[elFence.longitude[x], elFence.latitude[x]]])):\n",
    "        print(x)\n",
    "#         self.location.append([round(elFence.latitude[x],4), round(elFence.longitude[x],4)])"
   ]
  },
  {
   "cell_type": "code",
   "execution_count": 50,
   "metadata": {
    "scrolled": true
   },
   "outputs": [
    {
     "data": {
      "text/plain": [
       "[<matplotlib.lines.Line2D at 0x1c4dfadc208>]"
      ]
     },
     "execution_count": 50,
     "metadata": {},
     "output_type": "execute_result"
    },
    {
     "data": {
      "image/png": "[encoded data removed]",
      "text/plain": [
       "<Figure size 432x288 with 1 Axes>"
      ]
     },
     "metadata": {},
     "output_type": "display_data"
    }
   ],
   "source": [
    "boardData = np.array(boardData)\n",
    "plt.plot(boardData[:,0], boardData[:,1], 'o')"
   ]
  },
  {
   "cell_type": "code",
   "execution_count": 31,
   "metadata": {},
   "outputs": [
    {
     "data": {
      "text/plain": [
       "array([False])"
      ]
     },
     "execution_count": 31,
     "metadata": {},
     "output_type": "execute_result"
    }
   ],
   "source": [
    "borderPath.contains_points(np.array([[121.373229,  24.946475]]))"
   ]
  },
  {
   "cell_type": "code",
   "execution_count": 32,
   "metadata": {},
   "outputs": [
    {
     "data": {
      "text/plain": [
       "(24.946475,)"
      ]
     },
     "execution_count": 32,
     "metadata": {},
     "output_type": "execute_result"
    }
   ],
   "source": [
    "24.946475, 121.373229"
   ]
  },
  {
   "cell_type": "code",
   "execution_count": null,
   "metadata": {},
   "outputs": [],
   "source": []
  }
 ],
 "metadata": {
  "kernelspec": {
   "display_name": "Python 3",
   "language": "python",
   "name": "python3"
  },
  "language_info": {
   "codemirror_mode": {
    "name": "ipython",
    "version": 3
   },
   "file_extension": ".py",
   "mimetype": "text/x-python",
   "name": "python",
   "nbconvert_exporter": "python",
   "pygments_lexer": "ipython3",
   "version": "3.6.5"
  }
 },
 "nbformat": 4,
 "nbformat_minor": 2
}
