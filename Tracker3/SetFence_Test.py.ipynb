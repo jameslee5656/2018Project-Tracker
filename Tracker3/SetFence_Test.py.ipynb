{
 "cells": [
  {
   "cell_type": "code",
   "execution_count": 10,
   "metadata": {},
   "outputs": [],
   "source": [
    "import math\n",
    "from pymongo import MongoClient\n",
    "from xml.etree import ElementTree\n",
    "import pprint\n",
    "import json \n",
    "import matplotlib.pyplot as plt\n",
    "import matplotlib.path as mplPath\n",
    "import numpy as np\n",
    "import urllib.request, json\n",
    "\n",
    "import operator\n",
    "import pandas as pd\n",
    "import numpy as np"
   ]
  },
  {
   "cell_type": "code",
   "execution_count": 46,
   "metadata": {},
   "outputs": [
    {
     "name": "stdout",
     "output_type": "stream",
     "text": [
      "--- 13.788395881652832 seconds ---\n"
     ]
    }
   ],
   "source": [
    "start_time = time.time()\n",
    "conn = MongoClient('120.126.136.17')\n",
    "db = conn.Tracker\n",
    "collection = [db.james]# db.db2, db.dn2, db.james, db.leo\n",
    "userInfo = []\n",
    "end = datetime.datetime.now().timestamp()\n",
    "start = (datetime.datetime.now() + datetime.timedelta(days = -14)).timestamp()\n",
    "for col in collection:\n",
    "    cursor = col.find({'timestamp': {'$gte': start, '$lt': end}})\n",
    "    df = pd.DataFrame(list(cursor))\n",
    "df.replace('', np.nan, inplace=True)\n",
    "df.fillna(method='ffill', inplace=True)\n",
    "df['latitude'] = df['latitude'].astype(float).round(4)\n",
    "df['longitude'] = df['longitude'].astype(float).round(4)\n",
    "print(\"--- %s seconds ---\" % (time.time() - start_time))"
   ]
  },
  {
   "cell_type": "code",
   "execution_count": 47,
   "metadata": {},
   "outputs": [
    {
     "data": {
      "text/html": [
       "<div>\n",
       "<style scoped>\n",
       "    .dataframe tbody tr th:only-of-type {\n",
       "        vertical-align: middle;\n",
       "    }\n",
       "\n",
       "    .dataframe tbody tr th {\n",
       "        vertical-align: top;\n",
       "    }\n",
       "\n",
       "    .dataframe thead th {\n",
       "        text-align: right;\n",
       "    }\n",
       "</style>\n",
       "<table border=\"1\" class=\"dataframe\">\n",
       "  <thead>\n",
       "    <tr style=\"text-align: right;\">\n",
       "      <th></th>\n",
       "      <th>_id</th>\n",
       "      <th>day</th>\n",
       "      <th>hour</th>\n",
       "      <th>hr_value</th>\n",
       "      <th>latitude</th>\n",
       "      <th>longitude</th>\n",
       "      <th>minute</th>\n",
       "      <th>month</th>\n",
       "      <th>o2_value</th>\n",
       "      <th>second</th>\n",
       "      <th>step_value</th>\n",
       "      <th>timestamp</th>\n",
       "      <th>year</th>\n",
       "    </tr>\n",
       "  </thead>\n",
       "  <tbody>\n",
       "    <tr>\n",
       "      <th>0</th>\n",
       "      <td>5cc1aef8c4e5a668b7efcca4</td>\n",
       "      <td>25</td>\n",
       "      <td>20</td>\n",
       "      <td>80</td>\n",
       "      <td>24.9522</td>\n",
       "      <td>121.375</td>\n",
       "      <td>58</td>\n",
       "      <td>4</td>\n",
       "      <td>97</td>\n",
       "      <td>9</td>\n",
       "      <td>0</td>\n",
       "      <td>1.556197e+09</td>\n",
       "      <td>2019</td>\n",
       "    </tr>\n",
       "    <tr>\n",
       "      <th>1</th>\n",
       "      <td>5cc1af38c4e5a668b7efcca6</td>\n",
       "      <td>25</td>\n",
       "      <td>20</td>\n",
       "      <td>80</td>\n",
       "      <td>24.9522</td>\n",
       "      <td>121.375</td>\n",
       "      <td>59</td>\n",
       "      <td>4</td>\n",
       "      <td>97</td>\n",
       "      <td>13</td>\n",
       "      <td>0</td>\n",
       "      <td>1.556197e+09</td>\n",
       "      <td>2019</td>\n",
       "    </tr>\n",
       "    <tr>\n",
       "      <th>2</th>\n",
       "      <td>5cc1af53c4e5a668b7efcca8</td>\n",
       "      <td>25</td>\n",
       "      <td>20</td>\n",
       "      <td>87</td>\n",
       "      <td>24.9522</td>\n",
       "      <td>121.375</td>\n",
       "      <td>59</td>\n",
       "      <td>4</td>\n",
       "      <td>97</td>\n",
       "      <td>40</td>\n",
       "      <td>0</td>\n",
       "      <td>1.556197e+09</td>\n",
       "      <td>2019</td>\n",
       "    </tr>\n",
       "    <tr>\n",
       "      <th>3</th>\n",
       "      <td>5cc1af6cc4e5a668b7efccaa</td>\n",
       "      <td>25</td>\n",
       "      <td>21</td>\n",
       "      <td>87</td>\n",
       "      <td>24.9522</td>\n",
       "      <td>121.375</td>\n",
       "      <td>0</td>\n",
       "      <td>4</td>\n",
       "      <td>97</td>\n",
       "      <td>5</td>\n",
       "      <td>0</td>\n",
       "      <td>1.556197e+09</td>\n",
       "      <td>2019</td>\n",
       "    </tr>\n",
       "    <tr>\n",
       "      <th>4</th>\n",
       "      <td>5cc1af89c4e5a668b7efccac</td>\n",
       "      <td>25</td>\n",
       "      <td>21</td>\n",
       "      <td>87</td>\n",
       "      <td>24.9522</td>\n",
       "      <td>121.375</td>\n",
       "      <td>0</td>\n",
       "      <td>4</td>\n",
       "      <td>97</td>\n",
       "      <td>35</td>\n",
       "      <td>0</td>\n",
       "      <td>1.556197e+09</td>\n",
       "      <td>2019</td>\n",
       "    </tr>\n",
       "  </tbody>\n",
       "</table>\n",
       "</div>"
      ],
      "text/plain": [
       "                        _id  day  hour hr_value  latitude  longitude  minute  \\\n",
       "0  5cc1aef8c4e5a668b7efcca4   25    20       80   24.9522    121.375      58   \n",
       "1  5cc1af38c4e5a668b7efcca6   25    20       80   24.9522    121.375      59   \n",
       "2  5cc1af53c4e5a668b7efcca8   25    20       87   24.9522    121.375      59   \n",
       "3  5cc1af6cc4e5a668b7efccaa   25    21       87   24.9522    121.375       0   \n",
       "4  5cc1af89c4e5a668b7efccac   25    21       87   24.9522    121.375       0   \n",
       "\n",
       "   month o2_value  second step_value     timestamp  year  \n",
       "0      4       97       9          0  1.556197e+09  2019  \n",
       "1      4       97      13          0  1.556197e+09  2019  \n",
       "2      4       97      40          0  1.556197e+09  2019  \n",
       "3      4       97       5          0  1.556197e+09  2019  \n",
       "4      4       97      35          0  1.556197e+09  2019  "
      ]
     },
     "execution_count": 47,
     "metadata": {},
     "output_type": "execute_result"
    }
   ],
   "source": [
    "df.head()"
   ]
  },
  {
   "cell_type": "code",
   "execution_count": 49,
   "metadata": {},
   "outputs": [
    {
     "name": "stdout",
     "output_type": "stream",
     "text": [
      "24.9478 121.3745\n"
     ]
    }
   ],
   "source": [
    "lattestData = df[-1:]\n",
    "baseLocation = [lattestData['latitude'], lattestData['longitude']]\n",
    "downlat = float(baseLocation[0]) - 0.01#24.938590 \n",
    "leftlong = float(baseLocation[1]) - 0.01#121.360761"
   ]
  },
  {
   "cell_type": "code",
   "execution_count": 56,
   "metadata": {},
   "outputs": [],
   "source": [
    "squarefreq = df.groupby(df[['longitude','latitude']].columns.tolist(),as_index=False).size()"
   ]
  },
  {
   "cell_type": "code",
   "execution_count": 62,
   "metadata": {},
   "outputs": [
    {
     "data": {
      "text/plain": [
       "(121.3519, 24.9546)"
      ]
     },
     "execution_count": 62,
     "metadata": {},
     "output_type": "execute_result"
    }
   ],
   "source": [
    "squarefreq"
   ]
  },
  {
   "cell_type": "code",
   "execution_count": null,
   "metadata": {},
   "outputs": [],
   "source": []
  }
 ],
 "metadata": {
  "kernelspec": {
   "display_name": "Python 3",
   "language": "python",
   "name": "python3"
  },
  "language_info": {
   "codemirror_mode": {
    "name": "ipython",
    "version": 3
   },
   "file_extension": ".py",
   "mimetype": "text/x-python",
   "name": "python",
   "nbconvert_exporter": "python",
   "pygments_lexer": "ipython3",
   "version": "3.6.7"
  }
 },
 "nbformat": 4,
 "nbformat_minor": 2
}
