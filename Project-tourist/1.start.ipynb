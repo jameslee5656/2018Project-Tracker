{
 "cells": [
  {
   "cell_type": "code",
   "execution_count": 262,
   "metadata": {},
   "outputs": [],
   "source": [
    "from selenium import webdriver\n",
    "from selenium.webdriver.common.by import By\n",
    "from selenium.webdriver.common.keys import Keys\n",
    "from selenium.webdriver.support.ui import Select\n",
    "from selenium.webdriver.support import expected_conditions as EC\n",
    "from selenium.webdriver.support.ui import WebDriverWait as wait\n",
    "\n",
    "import pandas as pd\n",
    "\n",
    "import time\n",
    "import datetime\n",
    "\n",
    "from bs4 import BeautifulSoup as bs\n",
    "\n",
    "import smtplib\n",
    "from email.mime.multipart import MIMEMultipart"
   ]
  },
  {
   "cell_type": "code",
   "execution_count": 265,
   "metadata": {},
   "outputs": [
    {
     "ename": "AttributeError",
     "evalue": "module 'selenium.webdriver' has no attribute 'set_window_position'",
     "output_type": "error",
     "traceback": [
      "\u001b[0;31m---------------------------------------------------------------------------\u001b[0m",
      "\u001b[0;31mAttributeError\u001b[0m                            Traceback (most recent call last)",
      "\u001b[0;32m<ipython-input-265-c39445109f4c>\u001b[0m in \u001b[0;36m<module>\u001b[0;34m\u001b[0m\n\u001b[0;32m----> 1\u001b[0;31m \u001b[0mwebdriver\u001b[0m\u001b[0;34m.\u001b[0m\u001b[0mset_window_position\u001b[0m\u001b[0;34m(\u001b[0m\u001b[0;36m10000\u001b[0m\u001b[0;34m,\u001b[0m\u001b[0;36m0\u001b[0m\u001b[0;34m)\u001b[0m\u001b[0;34m\u001b[0m\u001b[0;34m\u001b[0m\u001b[0m\n\u001b[0m\u001b[1;32m      2\u001b[0m \u001b[0;32mfor\u001b[0m \u001b[0mi\u001b[0m \u001b[0;32min\u001b[0m \u001b[0mrange\u001b[0m\u001b[0;34m(\u001b[0m\u001b[0;36m100\u001b[0m\u001b[0;34m)\u001b[0m\u001b[0;34m:\u001b[0m\u001b[0;34m\u001b[0m\u001b[0;34m\u001b[0m\u001b[0m\n\u001b[1;32m      3\u001b[0m     \u001b[0mtoday\u001b[0m \u001b[0;34m=\u001b[0m \u001b[0mdatetime\u001b[0m\u001b[0;34m.\u001b[0m\u001b[0mdatetime\u001b[0m\u001b[0;34m.\u001b[0m\u001b[0mnow\u001b[0m\u001b[0;34m(\u001b[0m\u001b[0;34m)\u001b[0m \u001b[0;34m+\u001b[0m \u001b[0mdatetime\u001b[0m\u001b[0;34m.\u001b[0m\u001b[0mtimedelta\u001b[0m\u001b[0;34m(\u001b[0m\u001b[0mdays\u001b[0m\u001b[0;34m=\u001b[0m\u001b[0mi\u001b[0m\u001b[0;34m)\u001b[0m\u001b[0;34m\u001b[0m\u001b[0;34m\u001b[0m\u001b[0m\n\u001b[1;32m      4\u001b[0m     \u001b[0mtostr\u001b[0m \u001b[0;34m=\u001b[0m \u001b[0mtoday\u001b[0m\u001b[0;34m.\u001b[0m\u001b[0mstrftime\u001b[0m\u001b[0;34m(\u001b[0m\u001b[0;34m'%Y/%m/%d'\u001b[0m\u001b[0;34m)\u001b[0m\u001b[0;34m\u001b[0m\u001b[0;34m\u001b[0m\u001b[0m\n\u001b[1;32m      5\u001b[0m \u001b[0;31m#     end_date = today + datetime.timedelta(days=5) + datetime.timedelta(days=i)\u001b[0m\u001b[0;34m\u001b[0m\u001b[0;34m\u001b[0m\u001b[0;34m\u001b[0m\u001b[0m\n",
      "\u001b[0;31mAttributeError\u001b[0m: module 'selenium.webdriver' has no attribute 'set_window_position'"
     ]
    }
   ],
   "source": [
    "webdriver.set_window_position(10000,0)\n",
    "for i in range(100):\n",
    "    today = datetime.datetime.now() + datetime.timedelta(days=i)\n",
    "    tostr = today.strftime('%Y/%m/%d')\n",
    "#     end_date = today + datetime.timedelta(days=5) + datetime.timedelta(days=i)\n",
    "#     enstr = end_date.strftime('%Y/%m/%d')\n",
    "    \n",
    "    browser = webdriver.Chrome(executable_path='driver/chromedriver',options=options)\n",
    "    browser.get('https://www.tigerairtw.com/zh-tw')\n",
    "    print(tostr,enstr)\n",
    "\n",
    "    try:\n",
    "        time.sleep(4)\n",
    "        #checkbox\n",
    "        browser.execute_script(\"document.getElementsByClassName('class_type')[1].setAttribute('checked', true)\")\n",
    "#         checkboxs=browser.find_elements_by_class_name('class_type')\n",
    "#         for checkbox in checkboxs:\n",
    "#             print(checkbox.get_attribute('value'),checkbox.get_attribute('checked')\n",
    "        \n",
    "        # select part\n",
    "        s1 = Select(browser.find_element_by_class_name('selectOrigin'))\n",
    "    #     for select in s1.options:\n",
    "    #         print(select.text, select.get_attribute('value'))\n",
    "        s1.select_by_value(\"XX3\")\n",
    "        s2 = Select(browser.find_element_by_class_name('selectDestination'))\n",
    "        # for select in s2.options:\n",
    "        #     print(select.text)\n",
    "        s2.select_by_value('XX5')\n",
    "\n",
    "        # The data table\n",
    "        browser.execute_script(\"var t1 = document.getElementsByClassName('datepickerfrom')[0]; t1.value='\" +str(tostr)+ \"';\");\n",
    "#         browser.execute_script(\"var t2 = document.getElementsByClassName('datepickerto')[0]; t2.value='\" +str(enstr)+ \"';\");\n",
    "\n",
    "        #how many people\n",
    "    #     browser.execute_script(\"var t3 = document.getElementsByClassName('total_pass_input')[0]; t3.value=3;\");\n",
    "    #     browser.execute_script(\"var t2 = document.getElementsByClassName('datepickerto')[0]; t2.value='2019/04/17';\");\n",
    "        \n",
    "        \n",
    "        browser.find_element_by_css_selector('.btn.btn-primary').submit()\n",
    "        time.sleep(3)\n",
    "        if browser.find_element_by_class_name('error-title') != []:\n",
    "            print(browser.find_element_by_class_name('error-title').text)\n",
    "\n",
    "        else:\n",
    "            print('no error')\n",
    "            \n",
    "            \n",
    "    #     soup = bs(browser.page_source,'html.parser')\n",
    "    #     print(soup.prettify())\n",
    "    except Exception as e:\n",
    "        print(str(e))\n",
    "        pass\n",
    "\n",
    "    browser.quit()"
   ]
  },
  {
   "cell_type": "code",
   "execution_count": null,
   "metadata": {},
   "outputs": [],
   "source": []
  }
 ],
 "metadata": {
  "kernelspec": {
   "display_name": "Python 3",
   "language": "python",
   "name": "python3"
  },
  "language_info": {
   "codemirror_mode": {
    "name": "ipython",
    "version": 3
   },
   "file_extension": ".py",
   "mimetype": "text/x-python",
   "name": "python",
   "nbconvert_exporter": "python",
   "pygments_lexer": "ipython3",
   "version": "3.6.7"
  }
 },
 "nbformat": 4,
 "nbformat_minor": 2
}
