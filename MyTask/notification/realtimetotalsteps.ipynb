{
 "cells": [
  {
   "cell_type": "code",
   "execution_count": 1,
   "metadata": {},
   "outputs": [],
   "source": [
    "from pymongo import MongoClient\n",
    "from bson.objectid import ObjectId\n",
    "\n",
    "import time,datetime\n",
    "import os \n",
    "import schedule\n",
    "\n",
    "import pandas as pd\n",
    "import pandas_datareader.data as web\n",
    "import numpy as np\n",
    "\n",
    "import matplotlib.pyplot as plt\n",
    "from matplotlib import style\n",
    "\n",
    "from copy import deepcopy\n",
    "from IPython.display import clear_output"
   ]
  },
  {
   "cell_type": "code",
   "execution_count": 2,
   "metadata": {},
   "outputs": [],
   "source": [
    "def lazyreminder():\n",
    "    conn = MongoClient('120.126.136.17')\n",
    "    db = conn.Tracker \n",
    "    server = \"120.126.136.17\"\n",
    "    port = 1883 #port\n",
    "\n",
    "    collection = [db.prediction]\n",
    "    userInfo = []\n",
    "    for col in collection:\n",
    "        cursor = col.find({})\n",
    "        dfprediction = pd.DataFrame(list(cursor))\n",
    "    dfprediction = dfprediction.loc[(dfprediction['year'] == datetime.datetime.now().year) & \n",
    "                                    (dfprediction['month'] == datetime.datetime.now().month) &\n",
    "                                    (dfprediction['hour'] == datetime.datetime.now().hour) &\n",
    "                                    (dfprediction['day'] == datetime.datetime.now().day)]\n",
    "\n",
    "    dfrealtimetotalsteps = pd.DataFrame({})\n",
    "    while dfprediction.shape[0] != dfrealtimetotalsteps.shape[0]:\n",
    "        collection = [db.realtimetotalsteps]# db.db2, db.dn2, db.james, db.leo\n",
    "        userInfo = []\n",
    "        for col in collection:\n",
    "            cursor = col.find({})\n",
    "            dfrealtimetotalsteps = pd.DataFrame(list(cursor))\n",
    "    result = (dfprediction['prediction'] * datetime.datetime.now().minute / 60).values < \\\n",
    "                    (dfrealtimetotalsteps['hourtotalstep'].values * datetime.datetime.now().minute / 60)\n",
    "    diff = (dfprediction['prediction'] * datetime.datetime.now().minute / 60).values \\\n",
    "                - (dfrealtimetotalsteps['hourtotalstep'].values * datetime.datetime.now().minute / 60)\n",
    "    conn.close()\n",
    "    lis = list(zip(dfprediction['user'].values,result,diff))\n",
    "    for name,result,diff in lis:\n",
    "        if result == False:\n",
    "            mqttc = mqtt.Client()\n",
    "            mqttc.connect(server, port)\n",
    "            mqttc.publish(name, \"你在偷懶歐! 還差\" + str(int(diff)) +\"步\")"
   ]
  },
  {
   "cell_type": "code",
   "execution_count": 3,
   "metadata": {},
   "outputs": [],
   "source": [
    "def realtimetotalstep():\n",
    "    conn = MongoClient('120.126.136.17')\n",
    "    db = conn.Tracker\n",
    "    collection = [db.User_Info]# db.db2, db.dn2, db.james, db.leo\n",
    "    userInfo = []\n",
    "    for col in collection:\n",
    "        cursor = col.find({})\n",
    "        df_user = pd.DataFrame(list(cursor))\n",
    "    collection = db.realtimetotalsteps\n",
    "    collection.delete_many({})\n",
    "    for username in df_user['username']:\n",
    "        if username == 'pitest' or username == 'jack' or username == 'manager':\n",
    "            continue\n",
    "        collection = [db[username]]\n",
    "        clean_data = []\n",
    "        end = datetime.datetime.now().timestamp()\n",
    "        start = (datetime.datetime.now().replace(hour=0,minute=0,second=0,microsecond=0)).timestamp()\n",
    "        for col in collection:\n",
    "            cursor = col.find({'timestamp': {'$gte': start, '$lt': end}})\n",
    "            df = pd.DataFrame(list(cursor))\n",
    "        df.replace('', np.nan, inplace=True)\n",
    "        df.fillna(method='ffill', inplace=True)\n",
    "        if 'hr_value' in df:\n",
    "            df['hr_value'] = df['hr_value'].astype(float)\n",
    "        if 'o2_value' in df:\n",
    "            df['o2_value'] = df['o2_value'].astype(float)\n",
    "        if 'latitude' in df:\n",
    "            df['latitude'] = df['latitude'].astype(float)\n",
    "        if 'longitude' in df:\n",
    "            df['longitude'] = df['longitude'].astype(float)\n",
    "        if 'step_value' in df:\n",
    "            df['step_value'] = df['step_value'].astype(float)\n",
    "        if 'hr_value' in df:    \n",
    "            df = df[(df['hr_value'] != 0)]\n",
    "        if 'step_value'  in df:\n",
    "            totalstep = df['step_value'].sum()\n",
    "            hourtotalstep = df.loc[df['hour'] == datetime.datetime.now().hour,['step_value']].values.sum()\n",
    "        else:\n",
    "            totalstep = 0\n",
    "            hourtotalstep = 0\n",
    "        now = datetime.datetime.now()\n",
    "        dateStr = now.strftime('%Y-%m-%d-%H-%M')\n",
    "        lis = dateStr.split('-')\n",
    "        lis = list(map(int, lis))\n",
    "        collection = db.realtimetotalsteps# db.db2, db.dn2, db.james, db.leo\n",
    "        mydict = { 'year':lis[0], 'month':lis[1], 'day':lis[2], 'hour':lis[3], 'minute':lis[4],\n",
    "                 'totalsteps':totalstep,'hourtotalstep':hourtotalstep,'user':username}\n",
    "        \n",
    "        collection.insert_one(mydict)\n",
    "        conn.close()"
   ]
  },
  {
   "cell_type": "code",
   "execution_count": 4,
   "metadata": {},
   "outputs": [
    {
     "data": {
      "text/plain": [
       "Every 5 minutes do lazyreminder() (last run: [never], next run: 2019-05-11 16:08:53)"
      ]
     },
     "execution_count": 4,
     "metadata": {},
     "output_type": "execute_result"
    }
   ],
   "source": [
    "schedule.every(1).minutes.do(realtimetotalstep)\n",
    "schedule.every(5).minutes.do(lazyreminder)"
   ]
  },
  {
   "cell_type": "code",
   "execution_count": null,
   "metadata": {},
   "outputs": [],
   "source": [
    "while True:\n",
    "    schedule.run_pending()\n",
    "    time.sleep(1)"
   ]
  },
  {
   "cell_type": "code",
   "execution_count": null,
   "metadata": {},
   "outputs": [],
   "source": [
    "conn = MongoClient('120.126.136.17')\n",
    "db = conn.Tracker\n",
    "collection = [db.prediction]# db.db2, db.dn2, db.james, db.leo\n",
    "user = []\n",
    "\n",
    "for col in collection:\n",
    "    cursor = col.find({})\n",
    "    prediction = pd.DataFrame(list(cursor))\n",
    "timedf = prediction.loc[(prediction['month'] == datetime.datetime.now().month) \n",
    "                        & (prediction['day']== datetime.datetime.now().day) \n",
    "                        & (prediction['hour'] == datetime.datetime.now().hour)].reset_index()\n",
    "timedf.drop(['index','_id'], inplace=True, axis=1)\n",
    "timedf = timedf.set_index('user')\n",
    "# remove duplicate index\n",
    "timedf = timedf.loc[~timedf.index.duplicated(keep='last')]\n",
    "for i in timedf.index:\n",
    "    timedf[i] = 0\n",
    "for index, row in timedf.iterrows():\n",
    "    for i in timedf.index:\n",
    "        timedf.loc[index,i] = timedf.loc[i,'totalsteps'] - timedf.loc[index,'totalsteps']\n",
    "timedf.drop(['prediction', 'totalsteps', 'type'], inplace=True, axis=1)\n",
    "timedf.reset_index(inplace=True)\n",
    "records = timedf.to_dict('records')\n",
    "if records != []:\n",
    "    collection = db.rank\n",
    "    collection.insert_many(records)\n",
    "else:\n",
    "    print('records', records)\n",
    "conn.close()"
   ]
  }
 ],
 "metadata": {
  "kernelspec": {
   "display_name": "Python 3",
   "language": "python",
   "name": "python3"
  },
  "language_info": {
   "codemirror_mode": {
    "name": "ipython",
    "version": 3
   },
   "file_extension": ".py",
   "mimetype": "text/x-python",
   "name": "python",
   "nbconvert_exporter": "python",
   "pygments_lexer": "ipython3",
   "version": "3.6.7"
  }
 },
 "nbformat": 4,
 "nbformat_minor": 2
}
