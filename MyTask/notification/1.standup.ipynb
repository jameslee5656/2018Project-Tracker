{
 "cells": [
  {
   "cell_type": "code",
   "execution_count": 20,
   "metadata": {},
   "outputs": [],
   "source": [
    "import paho.mqtt.client as mqtt\n",
    "import paho.mqtt.publish as publish\n",
    "\n",
    "from pymongo import MongoClient\n",
    "from bson.objectid import ObjectId\n",
    "\n",
    "import time,datetime\n",
    "import os \n",
    "import schedule\n",
    "\n",
    "import pandas as pd\n",
    "import pandas_datareader.data as web\n",
    "import numpy as np\n",
    "\n",
    "import matplotlib.pyplot as plt\n",
    "from matplotlib import style\n",
    "\n",
    "from copy import deepcopy\n",
    "from IPython.display import clear_output"
   ]
  },
  {
   "cell_type": "code",
   "execution_count": 14,
   "metadata": {},
   "outputs": [
    {
     "data": {
      "text/plain": [
       "0"
      ]
     },
     "execution_count": 14,
     "metadata": {},
     "output_type": "execute_result"
    }
   ],
   "source": [
    "def on_connect(client, userdata, flags, rc):\n",
    "    print(\"Connected with result code \"+str(rc))\n",
    "    client.subscribe(\"IOT_NEAT_TOPIC01\")\n",
    "\n",
    "def on_message(client, userdata, msg):\n",
    "    print(msg.topic+\" \"+str(msg.payload))\n",
    "\n",
    "client = mqtt.Client()\n",
    "client.on_connect = on_connect\n",
    "client.on_message = on_message\n",
    "client.connect(\"120.126.136.17\", 1883, 60)"
   ]
  },
  {
   "cell_type": "code",
   "execution_count": 19,
   "metadata": {},
   "outputs": [
    {
     "data": {
      "text/plain": [
       "<paho.mqtt.client.MQTTMessageInfo at 0x7fef4a1cc7c8>"
      ]
     },
     "execution_count": 19,
     "metadata": {},
     "output_type": "execute_result"
    }
   ],
   "source": [
    "\n",
    "topic = \"t\" #TOPIC name\n",
    "\n"
   ]
  },
  {
   "cell_type": "code",
   "execution_count": 109,
   "metadata": {},
   "outputs": [
    {
     "data": {
      "text/html": [
       "<div>\n",
       "<style scoped>\n",
       "    .dataframe tbody tr th:only-of-type {\n",
       "        vertical-align: middle;\n",
       "    }\n",
       "\n",
       "    .dataframe tbody tr th {\n",
       "        vertical-align: top;\n",
       "    }\n",
       "\n",
       "    .dataframe thead th {\n",
       "        text-align: right;\n",
       "    }\n",
       "</style>\n",
       "<table border=\"1\" class=\"dataframe\">\n",
       "  <thead>\n",
       "    <tr style=\"text-align: right;\">\n",
       "      <th></th>\n",
       "      <th>_id</th>\n",
       "      <th>day</th>\n",
       "      <th>hour</th>\n",
       "      <th>hourtotalstep</th>\n",
       "      <th>minute</th>\n",
       "      <th>month</th>\n",
       "      <th>totalsteps</th>\n",
       "      <th>user</th>\n",
       "      <th>year</th>\n",
       "    </tr>\n",
       "  </thead>\n",
       "  <tbody>\n",
       "    <tr>\n",
       "      <th>0</th>\n",
       "      <td>5cd680a55b1b0b7a70371085</td>\n",
       "      <td>11</td>\n",
       "      <td>15</td>\n",
       "      <td>0.0</td>\n",
       "      <td>58</td>\n",
       "      <td>5</td>\n",
       "      <td>2617.0</td>\n",
       "      <td>leo</td>\n",
       "      <td>2019</td>\n",
       "    </tr>\n",
       "    <tr>\n",
       "      <th>1</th>\n",
       "      <td>5cd680a55b1b0b7a70371086</td>\n",
       "      <td>11</td>\n",
       "      <td>15</td>\n",
       "      <td>31.0</td>\n",
       "      <td>58</td>\n",
       "      <td>5</td>\n",
       "      <td>2472.0</td>\n",
       "      <td>james</td>\n",
       "      <td>2019</td>\n",
       "    </tr>\n",
       "    <tr>\n",
       "      <th>2</th>\n",
       "      <td>5cd680a65b1b0b7a70371087</td>\n",
       "      <td>11</td>\n",
       "      <td>15</td>\n",
       "      <td>0.0</td>\n",
       "      <td>58</td>\n",
       "      <td>5</td>\n",
       "      <td>0.0</td>\n",
       "      <td>shuan</td>\n",
       "      <td>2019</td>\n",
       "    </tr>\n",
       "    <tr>\n",
       "      <th>3</th>\n",
       "      <td>5cd680a75b1b0b7a70371088</td>\n",
       "      <td>11</td>\n",
       "      <td>15</td>\n",
       "      <td>0.0</td>\n",
       "      <td>58</td>\n",
       "      <td>5</td>\n",
       "      <td>0.0</td>\n",
       "      <td>t</td>\n",
       "      <td>2019</td>\n",
       "    </tr>\n",
       "    <tr>\n",
       "      <th>4</th>\n",
       "      <td>5cd680a75b1b0b7a70371089</td>\n",
       "      <td>11</td>\n",
       "      <td>15</td>\n",
       "      <td>0.0</td>\n",
       "      <td>58</td>\n",
       "      <td>5</td>\n",
       "      <td>5534.0</td>\n",
       "      <td>jeng</td>\n",
       "      <td>2019</td>\n",
       "    </tr>\n",
       "  </tbody>\n",
       "</table>\n",
       "</div>"
      ],
      "text/plain": [
       "                        _id  day  hour  hourtotalstep  minute  month  \\\n",
       "0  5cd680a55b1b0b7a70371085   11    15            0.0      58      5   \n",
       "1  5cd680a55b1b0b7a70371086   11    15           31.0      58      5   \n",
       "2  5cd680a65b1b0b7a70371087   11    15            0.0      58      5   \n",
       "3  5cd680a75b1b0b7a70371088   11    15            0.0      58      5   \n",
       "4  5cd680a75b1b0b7a70371089   11    15            0.0      58      5   \n",
       "\n",
       "   totalsteps   user  year  \n",
       "0      2617.0    leo  2019  \n",
       "1      2472.0  james  2019  \n",
       "2         0.0  shuan  2019  \n",
       "3         0.0      t  2019  \n",
       "4      5534.0   jeng  2019  "
      ]
     },
     "execution_count": 109,
     "metadata": {},
     "output_type": "execute_result"
    }
   ],
   "source": [
    "conn = MongoClient('120.126.136.17')\n",
    "db = conn.Tracker \n",
    "server = \"120.126.136.17\"\n",
    "port = 1883 #port\n",
    "\n",
    "collection = [db.prediction]\n",
    "userInfo = []\n",
    "for col in collection:\n",
    "    cursor = col.find({})\n",
    "    dfprediction = pd.DataFrame(list(cursor))\n",
    "dfprediction = dfprediction.loc[(dfprediction['year'] == datetime.datetime.now().year) & \n",
    "                                (dfprediction['month'] == datetime.datetime.now().month) &\n",
    "                                (dfprediction['hour'] == datetime.datetime.now().hour) &\n",
    "                                (dfprediction['day'] == datetime.datetime.now().day)]\n",
    "\n",
    "dfrealtimetotalsteps = pd.DataFrame({})\n",
    "while dfprediction.shape[0] != dfrealtimetotalsteps.shape[0]:\n",
    "    collection = [db.realtimetotalsteps]# db.db2, db.dn2, db.james, db.leo\n",
    "    userInfo = []\n",
    "    for col in collection:\n",
    "        cursor = col.find({})\n",
    "        dfrealtimetotalsteps = pd.DataFrame(list(cursor))\n",
    "result = (dfprediction['prediction'] * datetime.datetime.now().minute / 60).values < \\\n",
    "                (dfrealtimetotalsteps['hourtotalstep'].values * datetime.datetime.now().minute / 60)\n",
    "diff = (dfprediction['prediction'] * datetime.datetime.now().minute / 60).values \\\n",
    "            - (dfrealtimetotalsteps['hourtotalstep'].values * datetime.datetime.now().minute / 60)\n",
    "conn.close()\n",
    "lis = list(zip(dfprediction['user'].values,result,diff))\n",
    "for name,result,diff in lis:\n",
    "    if result == False:\n",
    "        mqttc = mqtt.Client()\n",
    "        mqttc.connect(server, port)\n",
    "        mqttc.publish(name, \"你在偷懶歐! 還差\" + str(int(diff)) +\"步\")"
   ]
  },
  {
   "cell_type": "code",
   "execution_count": 70,
   "metadata": {},
   "outputs": [
    {
     "data": {
      "text/html": [
       "<div>\n",
       "<style scoped>\n",
       "    .dataframe tbody tr th:only-of-type {\n",
       "        vertical-align: middle;\n",
       "    }\n",
       "\n",
       "    .dataframe tbody tr th {\n",
       "        vertical-align: top;\n",
       "    }\n",
       "\n",
       "    .dataframe thead th {\n",
       "        text-align: right;\n",
       "    }\n",
       "</style>\n",
       "<table border=\"1\" class=\"dataframe\">\n",
       "  <thead>\n",
       "    <tr style=\"text-align: right;\">\n",
       "      <th></th>\n",
       "      <th>_id</th>\n",
       "      <th>day</th>\n",
       "      <th>hour</th>\n",
       "      <th>hourtotalstep</th>\n",
       "      <th>minute</th>\n",
       "      <th>month</th>\n",
       "      <th>totalsteps</th>\n",
       "      <th>user</th>\n",
       "      <th>year</th>\n",
       "    </tr>\n",
       "  </thead>\n",
       "  <tbody>\n",
       "    <tr>\n",
       "      <th>0</th>\n",
       "      <td>5cd67c6b5b1b0b7a7037102b</td>\n",
       "      <td>11</td>\n",
       "      <td>15</td>\n",
       "      <td>0.0</td>\n",
       "      <td>40</td>\n",
       "      <td>5</td>\n",
       "      <td>2617.0</td>\n",
       "      <td>leo</td>\n",
       "      <td>2019</td>\n",
       "    </tr>\n",
       "    <tr>\n",
       "      <th>1</th>\n",
       "      <td>5cd67c745b1b0b7a7037102c</td>\n",
       "      <td>11</td>\n",
       "      <td>15</td>\n",
       "      <td>31.0</td>\n",
       "      <td>40</td>\n",
       "      <td>5</td>\n",
       "      <td>2472.0</td>\n",
       "      <td>james</td>\n",
       "      <td>2019</td>\n",
       "    </tr>\n",
       "    <tr>\n",
       "      <th>2</th>\n",
       "      <td>5cd67c775b1b0b7a7037102d</td>\n",
       "      <td>11</td>\n",
       "      <td>15</td>\n",
       "      <td>0.0</td>\n",
       "      <td>40</td>\n",
       "      <td>5</td>\n",
       "      <td>0.0</td>\n",
       "      <td>shuan</td>\n",
       "      <td>2019</td>\n",
       "    </tr>\n",
       "    <tr>\n",
       "      <th>3</th>\n",
       "      <td>5cd67c7c5b1b0b7a7037102e</td>\n",
       "      <td>11</td>\n",
       "      <td>15</td>\n",
       "      <td>0.0</td>\n",
       "      <td>40</td>\n",
       "      <td>5</td>\n",
       "      <td>0.0</td>\n",
       "      <td>t</td>\n",
       "      <td>2019</td>\n",
       "    </tr>\n",
       "    <tr>\n",
       "      <th>4</th>\n",
       "      <td>5cd67c825b1b0b7a7037102f</td>\n",
       "      <td>11</td>\n",
       "      <td>15</td>\n",
       "      <td>0.0</td>\n",
       "      <td>40</td>\n",
       "      <td>5</td>\n",
       "      <td>5534.0</td>\n",
       "      <td>jeng</td>\n",
       "      <td>2019</td>\n",
       "    </tr>\n",
       "  </tbody>\n",
       "</table>\n",
       "</div>"
      ],
      "text/plain": [
       "                        _id  day  hour  hourtotalstep  minute  month  \\\n",
       "0  5cd67c6b5b1b0b7a7037102b   11    15            0.0      40      5   \n",
       "1  5cd67c745b1b0b7a7037102c   11    15           31.0      40      5   \n",
       "2  5cd67c775b1b0b7a7037102d   11    15            0.0      40      5   \n",
       "3  5cd67c7c5b1b0b7a7037102e   11    15            0.0      40      5   \n",
       "4  5cd67c825b1b0b7a7037102f   11    15            0.0      40      5   \n",
       "\n",
       "   totalsteps   user  year  \n",
       "0      2617.0    leo  2019  \n",
       "1      2472.0  james  2019  \n",
       "2         0.0  shuan  2019  \n",
       "3         0.0      t  2019  \n",
       "4      5534.0   jeng  2019  "
      ]
     },
     "execution_count": 70,
     "metadata": {},
     "output_type": "execute_result"
    }
   ],
   "source": [
    "df"
   ]
  },
  {
   "cell_type": "code",
   "execution_count": 97,
   "metadata": {},
   "outputs": [
    {
     "data": {
      "text/plain": [
       "<bound method MongoClient.close of MongoClient(host=['120.126.136.17:27017'], document_class=dict, tz_aware=False, connect=True)>"
      ]
     },
     "execution_count": 97,
     "metadata": {},
     "output_type": "execute_result"
    }
   ],
   "source": []
  },
  {
   "cell_type": "code",
   "execution_count": 98,
   "metadata": {},
   "outputs": [],
   "source": []
  },
  {
   "cell_type": "code",
   "execution_count": 99,
   "metadata": {},
   "outputs": [
    {
     "data": {
      "text/plain": [
       "[('leo', False, 132.6),\n",
       " ('james', False, 125.66666666666666),\n",
       " ('shuan', True, -19.066666666666666),\n",
       " ('t', False, 0.0),\n",
       " ('jeng', False, 136.93333333333334)]"
      ]
     },
     "execution_count": 99,
     "metadata": {},
     "output_type": "execute_result"
    }
   ],
   "source": [
    "lis"
   ]
  },
  {
   "cell_type": "code",
   "execution_count": 106,
   "metadata": {},
   "outputs": [],
   "source": []
  },
  {
   "cell_type": "code",
   "execution_count": null,
   "metadata": {},
   "outputs": [],
   "source": []
  }
 ],
 "metadata": {
  "kernelspec": {
   "display_name": "Python 3",
   "language": "python",
   "name": "python3"
  },
  "language_info": {
   "codemirror_mode": {
    "name": "ipython",
    "version": 3
   },
   "file_extension": ".py",
   "mimetype": "text/x-python",
   "name": "python",
   "nbconvert_exporter": "python",
   "pygments_lexer": "ipython3",
   "version": "3.6.7"
  }
 },
 "nbformat": 4,
 "nbformat_minor": 2
}
