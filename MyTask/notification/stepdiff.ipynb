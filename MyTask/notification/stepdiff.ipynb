{
 "cells": [
  {
   "cell_type": "code",
   "execution_count": 2,
   "metadata": {},
   "outputs": [],
   "source": [
    "import paho.mqtt.client as mqtt\n",
    "import paho.mqtt.publish as publish\n",
    "\n",
    "from pymongo import MongoClient\n",
    "from bson.objectid import ObjectId\n",
    "\n",
    "import time,datetime\n",
    "import os \n",
    "import schedule\n",
    "\n",
    "import pandas as pd\n",
    "import numpy as np\n",
    "\n",
    "import math\n",
    "\n",
    "import matplotlib.pyplot as plt\n",
    "from matplotlib import style\n",
    "\n",
    "from copy import deepcopy\n",
    "from IPython.display import clear_output"
   ]
  },
  {
   "cell_type": "code",
   "execution_count": 3,
   "metadata": {},
   "outputs": [],
   "source": [
    "# def realtimetotalstep():\n",
    "conn = MongoClient('120.126.136.17')\n",
    "db = conn.Tracker\n",
    "collection = [db.rank]# db.db2, db.dn2, db.james, db.leo\n",
    "for col in collection:\n",
    "    cursor = col.find({})\n",
    "    df = pd.DataFrame(list(cursor))\n",
    "    \n",
    "# df"
   ]
  },
  {
   "cell_type": "code",
   "execution_count": 66,
   "metadata": {},
   "outputs": [],
   "source": [
    "def insert_rank_relationship():\n",
    "    conn = MongoClient('120.126.136.17')\n",
    "    db = conn.Tracker\n",
    "    collection = [db.prediction]# db.db2, db.dn2, db.james, db.leo\n",
    "    server = \"120.126.136.17\"\n",
    "    port = 1883 #port\n",
    "    \n",
    "    for col in collection:\n",
    "        cursor = col.find({})\n",
    "        prediction = pd.DataFrame(list(cursor))\n",
    "    timedf = prediction.loc[(prediction['month'] == datetime.datetime.now().month) \n",
    "                            & (prediction['day']== datetime.datetime.now().day) \n",
    "                            & (prediction['hour'] == datetime.datetime.now().hour)].reset_index()\n",
    "    timedf.drop(['index','_id'], inplace=True, axis=1)\n",
    "    timedf = timedf.set_index('user')\n",
    "    # remove duplicate index\n",
    "    timedf = timedf.loc[~timedf.index.duplicated(keep='last')]\n",
    "    for i in timedf.index:\n",
    "        timedf[i] = 0\n",
    "    for index, row in timedf.iterrows():\n",
    "        for i in timedf.index:\n",
    "            timedf.loc[index,i] = timedf.loc[i,'totalsteps'] - timedf.loc[index,'totalsteps']\n",
    "    timedf.drop(['prediction', 'totalsteps', 'type'], inplace=True, axis=1)\n",
    "    timedf.reset_index(inplace=True)\n",
    "#     print(timedf)\n",
    "    for index, rows in timedf.iterrows():\n",
    "#         print(rows[0])\n",
    "        for i in range(5,len(rows)):\n",
    "#             print(timedf.columns[i],rows[i])\n",
    "            if (int(rows[i]) <= 50) and (int(rows[i]) >= 20):\n",
    "                mqttc = mqtt.Client()\n",
    "                mqttc.connect(server, port)\n",
    "                mqttc.publish(rows[0], \"快被超越\" + rows[0] + \"差\" + str(int(rows[i])) +\"步\")\n",
    "            elif (int(rows[i]) >= -50) and (int(rows[i]) <= -20):\n",
    "                mqttc = mqtt.Client()\n",
    "                mqttc.connect(server, port)\n",
    "                mqttc.publish(rows[0], \"快超越\" + rows[0] + \"差\" + str(int(rows[i])) +\"步\")\n",
    "    records = timedf.to_dict('records')\n",
    "    if records != []:\n",
    "        collection = db.rank\n",
    "        collection.delete_many({})\n",
    "        collection.insert_many(records)\n",
    "    else:\n",
    "        print('records', records)\n",
    "    conn.close()"
   ]
  },
  {
   "cell_type": "code",
   "execution_count": 67,
   "metadata": {},
   "outputs": [],
   "source": [
    "insert_rank_relationship()"
   ]
  },
  {
   "cell_type": "code",
   "execution_count": null,
   "metadata": {},
   "outputs": [],
   "source": []
  }
 ],
 "metadata": {
  "kernelspec": {
   "display_name": "Python 3",
   "language": "python",
   "name": "python3"
  },
  "language_info": {
   "codemirror_mode": {
    "name": "ipython",
    "version": 3
   },
   "file_extension": ".py",
   "mimetype": "text/x-python",
   "name": "python",
   "nbconvert_exporter": "python",
   "pygments_lexer": "ipython3",
   "version": "3.6.7"
  }
 },
 "nbformat": 4,
 "nbformat_minor": 2
}
