{
 "cells": [
  {
   "cell_type": "code",
   "execution_count": 1,
   "metadata": {},
   "outputs": [],
   "source": [
    "import math\n",
    "from pymongo import MongoClient\n",
    "import pprint\n",
    "import json\n",
    "import matplotlib.pyplot as plt\n",
    "import matplotlib.path as mplPath\n",
    "import numpy as np\n",
    "import urllib.request, json "
   ]
  },
  {
   "cell_type": "code",
   "execution_count": 52,
   "metadata": {},
   "outputs": [],
   "source": [
    "class electricFence():\n",
    "    def __init__(self):\n",
    "        self.latitude = []\n",
    "        self.longitude = []\n",
    "        self.location = []\n",
    "        self.frequency = {}\n",
    "        self.chosenPoint = []\n",
    "        self.user = ''\n",
    "        \n",
    "    def pullData(self, user): #pull latitude and longitude\n",
    "        \n",
    "        self.user = user\n",
    "        \n",
    "        client = MongoClient('120.126.136.17',27017)\n",
    "        db = client['Tracker']\n",
    "        collection = db[user]\n",
    "        cursor = collection.find({})\n",
    "\n",
    "        jsonData = [d for d in cursor]\n",
    "\n",
    "        for x in jsonData:\n",
    "            self.latitude.append(float(x['latitude']))\n",
    "            self.longitude.append(float(x['longitude']))\n",
    "            \n",
    "    def onlySanxia(self):\n",
    "        \n",
    "        with urllib.request.urlopen(\"https://sheethub.com/ronnywang/%E9%84%89%E9%8E%AE%E5%B8%82%E5%8D%80%E8%A1%8C%E6%94%BF%E5%8D%80%E5%9F%9F%E7%95%8C%E7%B7%9A/uri/19260593?format=geojson\") as url:\n",
    "            data = json.loads(url.read().decode())\n",
    "        \n",
    "        # from scipy.spatial import ConvexHull\n",
    "        boarderData = data['features'][0]['geometry']['coordinates'][0]\n",
    "        \n",
    "        #make out a path\n",
    "        borderPath = mplPath.Path(boarderData) \n",
    "        \n",
    "        for x in range(len(self.latitude)):\n",
    "            if borderPath.contains_points(np.array([[self.longitude[x], self.latitude[x]]])):       \n",
    "                self.location.append([round(self.latitude[x],4), round(self.longitude[x],4)])\n",
    "                \n",
    "    def removeOutlier(self):\n",
    "        #remove that the variance is too large\n",
    "        trainingset = np.array(self.location)\n",
    "        mean = np.mean(trainingset, axis=0)\n",
    "        sd = np.std(trainingset, axis=0)\n",
    "        final_list = [x for x in self.location if ((x[0] > mean[0] - 6 * sd[0])and(x[1] > mean[1] - 6 * sd[1]))]\n",
    "        final_list = [x for x in final_list if ((x[0] < mean[0] + 6 * sd[0])and(x[1] < mean[1] + 6 * sd[1]))]       \n",
    "        self.location = final_list\n",
    "        \n",
    "    def abDistance(a, b):# calculate a and b distance  a[a緯, a經], b[b緯, b經]\n",
    "        \"\"\"\n",
    "        兩點間距離D(x1,y1,x2,y2)=r×acos(sin(x1) ×sin(x2)+cos(x1) ×cos(x2) ×cos(y1-y2))\n",
    "        x,y是緯度，經度的弧度單位，r是地球半徑\n",
    "        \"\"\"\n",
    "        op = math.pi/180\n",
    "        r = 6378.39\n",
    "        return r*math.acos(math.sin(a[0]*op) * math.sin(b[0]*op) + \n",
    "                           math.cos(a[0]*op) * math.cos(b[0]*op) * math.cos(a[1]*op-b[1]*op))\n",
    "    \n",
    "    def addFrequency(self):#establish a dict to count how many duplicate location\n",
    "        for x in self.location:\n",
    "            if tuple(x) in self.frequency:\n",
    "                self.frequency[tuple(x)] += 1\n",
    "            else:\n",
    "                self.frequency[tuple(x)] = 1\n",
    "                \n",
    "    def chosePoint(self):#point without duplicate\n",
    "        for x in list(elFence.frequency.keys()):\n",
    "            self.chosenPoint.append(list(x))\n",
    "        return self.chosenPoint"
   ]
  },
  {
   "cell_type": "code",
   "execution_count": 57,
   "metadata": {},
   "outputs": [
    {
     "data": {
      "image/png": "[encoded data removed]",
      "text/plain": [
       "<Figure size 432x288 with 1 Axes>"
      ]
     },
     "metadata": {},
     "output_type": "display_data"
    }
   ],
   "source": [
    "elFence = electricFence()\n",
    "elFence.pullData('james')\n",
    "elFence.onlySanxia()\n",
    "elFence.removeOutlier()\n",
    "elFence.addFrequency()\n",
    "lis = elFence.chosePoint()# == (lis = elFence.chosenPoint)\n",
    "\n",
    "trainingset = np.array(lis)\n",
    "plt.plot(trainingset[:,1], trainingset[:,0], 'o')\n",
    "plt.show()"
   ]
  },
  {
   "cell_type": "code",
   "execution_count": null,
   "metadata": {},
   "outputs": [],
   "source": []
  }
 ],
 "metadata": {
  "kernelspec": {
   "display_name": "Python 3",
   "language": "python",
   "name": "python3"
  },
  "language_info": {
   "codemirror_mode": {
    "name": "ipython",
    "version": 3
   },
   "file_extension": ".py",
   "mimetype": "text/x-python",
   "name": "python",
   "nbconvert_exporter": "python",
   "pygments_lexer": "ipython3",
   "version": "3.6.5"
  }
 },
 "nbformat": 4,
 "nbformat_minor": 2
}
