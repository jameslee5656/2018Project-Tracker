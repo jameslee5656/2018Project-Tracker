{
 "cells": [
  {
   "cell_type": "code",
   "execution_count": 4,
   "metadata": {},
   "outputs": [],
   "source": [
    "import math\n",
    "from pymongo import MongoClient\n",
    "import pprint\n",
    "import json\n",
    "import matplotlib.pyplot as plt\n",
    "import matplotlib.path as mplPath\n",
    "import numpy as np\n",
    "import urllib.request, json "
   ]
  },
  {
   "cell_type": "code",
   "execution_count": 46,
   "metadata": {},
   "outputs": [],
   "source": [
    "class electricFence():\n",
    "    def __init__(self):\n",
    "        self.latitude = []\n",
    "        self.longitude = []\n",
    "        self.location = []\n",
    "        self.frequency = {}\n",
    "        self.chosenPoint = []\n",
    "        \n",
    "    def pullData(self): #pull latitude and longitude\n",
    "        client = MongoClient('120.126.136.17',27017)\n",
    "        db = client['Tracker']\n",
    "        collection_leo = db['leo']\n",
    "        collection_james = db['james']\n",
    "        collection_dn2 = db['dn2']\n",
    "        collection_db2 = db['db2']\n",
    "\n",
    "        cursor_james = collection_james.find({})\n",
    "        cursor_leo = collection_leo.find({})\n",
    "        cursor_dn2 = collection_dn2.find({})\n",
    "        cursor_db2 = collection_db2.find({})\n",
    "\n",
    "        jsonData_james = [d for d in cursor_james]\n",
    "        jsonData_leo = [d for d in cursor_leo]\n",
    "        jsonData_dn2 = [d for d in cursor_dn2]\n",
    "        jsonData_db2 = [d for d in cursor_db2]\n",
    "\n",
    "        for x in jsonData_james:\n",
    "            self.latitude.append(float(x['latitude']))\n",
    "            self.longitude.append(float(x['longitude']))\n",
    "        for x in jsonData_leo:\n",
    "            self.latitude.append(float(x['latitude']))\n",
    "            self.longitude.append(float(x['longitude']))\n",
    "        for x in jsonData_dn2:\n",
    "            self.latitude.append(float(x['latitude']))\n",
    "            self.longitude.append(float(x['longitude']))\n",
    "        for x in jsonData_db2:\n",
    "            self.latitude.append(float(x['latitude']))\n",
    "            self.longitude.append(float(x['longitude']))\n",
    "            \n",
    "    def onlySanxia(self):\n",
    "        \n",
    "        with urllib.request.urlopen(\"https://sheethub.com/ronnywang/%E9%84%89%E9%8E%AE%E5%B8%82%E5%8D%80%E8%A1%8C%E6%94%BF%E5%8D%80%E5%9F%9F%E7%95%8C%E7%B7%9A/uri/19260593?format=geojson\") as url:\n",
    "            data = json.loads(url.read().decode())\n",
    "        \n",
    "        # from scipy.spatial import ConvexHull\n",
    "        boarderData = data['features'][0]['geometry']['coordinates'][0]\n",
    "        \n",
    "        #make out a path\n",
    "        borderPath = mplPath.Path(boarderData) \n",
    "        \n",
    "        for x in range(len(self.latitude)):\n",
    "            if borderPath.contains_points(np.array([[self.longitude[x], self.latitude[x]]])):       \n",
    "                self.location.append([round(self.latitude[x],4), round(self.longitude[x],4)])\n",
    "                \n",
    "    def removeOutlier(self):\n",
    "        #remove that the variance is too large\n",
    "        trainingset = np.array(self.location)\n",
    "        mean = np.mean(trainingset, axis=0)\n",
    "        sd = np.std(trainingset, axis=0)\n",
    "        final_list = [x for x in self.location if ((x[0] > mean[0] - 6 * sd[0])and(x[1] > mean[1] - 6 * sd[1]))]\n",
    "        final_list = [x for x in final_list if ((x[0] < mean[0] + 6 * sd[0])and(x[1] < mean[1] + 6 * sd[1]))]       \n",
    "        self.location = final_list\n",
    "        \n",
    "    def abDistance(a, b):# calculate a and b distance  a[a緯, a經], b[b緯, b經]\n",
    "        \"\"\"\n",
    "        兩點間距離D(x1,y1,x2,y2)=r×acos(sin(x1) ×sin(x2)+cos(x1) ×cos(x2) ×cos(y1-y2))\n",
    "        x,y是緯度，經度的弧度單位，r是地球半徑\n",
    "        \"\"\"\n",
    "        op = math.pi/180\n",
    "\n",
    "        r = 6378.39\n",
    "        return r*math.acos(math.sin(a[0]*op) * math.sin(b[0]*op) + \n",
    "                           math.cos(a[0]*op) * math.cos(b[0]*op) * math.cos(a[1]*op-b[1]*op))\n",
    "    \n",
    "    def addFrequency(self):#establish a dict to count how many duplicate location\n",
    "        for x in self.location:\n",
    "            if tuple(x) in self.frequency:\n",
    "                self.frequency[tuple(x)] += 1\n",
    "            else:\n",
    "                self.frequency[tuple(x)] = 1\n",
    "                \n",
    "    def chosePoint(self):#point without duplicate\n",
    "        self.chosenPoint = list(self.frequency.keys())\n",
    "        return self.chosenPoint"
   ]
  },
  {
   "cell_type": "code",
   "execution_count": 47,
   "metadata": {},
   "outputs": [
    {
     "data": {
      "image/png": "[encoded data removed]",
      "text/plain": [
       "<Figure size 432x288 with 1 Axes>"
      ]
     },
     "metadata": {
      "needs_background": "light"
     },
     "output_type": "display_data"
    }
   ],
   "source": [
    "elFence = electricFence()\n",
    "elFence.pullData()\n",
    "elFence.onlySanxia()\n",
    "elFence.removeOutlier()\n",
    "elFence.addFrequency()\n",
    "lis = elFence.chosePoint()# == (lis = elFence.chosenPoint)\n",
    "\n",
    "trainingset = np.array(lis)\n",
    "plt.plot(trainingset[:,1], trainingset[:,0], 'o')\n",
    "plt.show()"
   ]
  },
  {
   "cell_type": "code",
   "execution_count": 43,
   "metadata": {},
   "outputs": [],
   "source": []
  },
  {
   "cell_type": "code",
   "execution_count": null,
   "metadata": {},
   "outputs": [],
   "source": []
  }
 ],
 "metadata": {
  "kernelspec": {
   "display_name": "Python 3",
   "language": "python",
   "name": "python3"
  },
  "language_info": {
   "codemirror_mode": {
    "name": "ipython",
    "version": 3
   },
   "file_extension": ".py",
   "mimetype": "text/x-python",
   "name": "python",
   "nbconvert_exporter": "python",
   "pygments_lexer": "ipython3",
   "version": "3.6.6"
  }
 },
 "nbformat": 4,
 "nbformat_minor": 2
}
