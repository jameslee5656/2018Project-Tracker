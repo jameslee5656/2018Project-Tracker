{
 "cells": [
  {
   "cell_type": "code",
   "execution_count": null,
   "metadata": {},
   "outputs": [],
   "source": [
    "import  socket\n",
    "import  time\n",
    "\n",
    "address = ( '120.126.136.17' ,  5687 )\n",
    "s = socket.socket(socket.AF_INET, socket.SOCK_DGRAM)\n",
    "s.bind(address)\n",
    "print(\"Connect to 120.126.136.17:5687\")\n",
    "\n",
    "while True :\n",
    "    data, addr = s.recvfrom( 2048 )\n",
    "    f = open('nbiotdata', 'a+')\n",
    "    Nowtime = time.time()\n",
    "    if not data:\n",
    "        print (\"client has exist\")\n",
    "        break\n",
    "    data = data.decode('utf-8')\n",
    "    lis = data.split(':')\n",
    "    sendlng = lis[0]\n",
    "    sendlat = lis[1]\n",
    "    sendTime = time.asctime(time.localtime(float(lis[3])))\n",
    "    recevieTime = time.asctime(time.localtime(Nowtime))\n",
    "    lag = round(Nowtime - float(lis[3]), 2)\n",
    "    print (\"Package\", lis[2], \"Send Time\", sendTime,\n",
    "                  \"Recevie Time\", recevieTime,\n",
    "                  \"Lag\", lag)\n",
    "    f.write(data + ':' + str(Nowtime) + '\\r\\n')\n",
    "    f.close()\n",
    "s.close()\n"
   ]
  }
 ],
 "metadata": {
  "kernelspec": {
   "display_name": "Python 3",
   "language": "python",
   "name": "python3"
  },
  "language_info": {
   "codemirror_mode": {
    "name": "ipython",
    "version": 3
   },
   "file_extension": ".py",
   "mimetype": "text/x-python",
   "name": "python",
   "nbconvert_exporter": "python",
   "pygments_lexer": "ipython3",
   "version": "3.6.7"
  }
 },
 "nbformat": 4,
 "nbformat_minor": 2
}
