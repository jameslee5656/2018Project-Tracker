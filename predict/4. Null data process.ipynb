{
 "cells": [
  {
   "cell_type": "code",
   "execution_count": 23,
   "metadata": {},
   "outputs": [],
   "source": [
    "from pymongo import MongoClient\n",
    "from bson.objectid import ObjectId\n",
    "import time,datetime\n",
    "conn = MongoClient()\n",
    "db = conn.Tracker\n",
    "collection = [db.james]# db.db2, db.dn2, db.james, db.leo\n",
    "clean_data = []\n",
    "for col in collection:\n",
    "    cursor = col.find({})\n",
    "    data = [d for d in cursor]\n",
    "    # print('In',str(col))\n",
    "    count = 0\n",
    "    for dic in data:\n",
    "#         if 'o2_value' and 'hr_value' in dic.keys():\n",
    "#             if (dic['longitude'] != 0) and (dic['longitude'] != '') and (dic['latitude'] != '') \\\n",
    "#                             and (dic['o2_value'] != '') and (dic['hr_value']!= ''):\n",
    "        if 'hr_value' in dic.keys():\n",
    "            if dic['hr_value']  != '' and dic['timestamp'] != 3:\n",
    "                clean_data.append(dic)"
   ]
  },
  {
   "cell_type": "code",
   "execution_count": 30,
   "metadata": {},
   "outputs": [],
   "source": [
    "import os \n",
    "from datetime import datetime\n",
    "import numpy as np\n",
    "import collections\n",
    "from matplotlib import pyplot as plt\n",
    "import pandas as pd"
   ]
  },
  {
   "cell_type": "code",
   "execution_count": 32,
   "metadata": {},
   "outputs": [
    {
     "data": {
      "text/html": [
       "<div>\n",
       "<style scoped>\n",
       "    .dataframe tbody tr th:only-of-type {\n",
       "        vertical-align: middle;\n",
       "    }\n",
       "\n",
       "    .dataframe tbody tr th {\n",
       "        vertical-align: top;\n",
       "    }\n",
       "\n",
       "    .dataframe thead th {\n",
       "        text-align: right;\n",
       "    }\n",
       "</style>\n",
       "<table border=\"1\" class=\"dataframe\">\n",
       "  <thead>\n",
       "    <tr style=\"text-align: right;\">\n",
       "      <th></th>\n",
       "      <th>_id</th>\n",
       "      <th>day</th>\n",
       "      <th>hour</th>\n",
       "      <th>hr_value</th>\n",
       "      <th>latitude</th>\n",
       "      <th>longitude</th>\n",
       "      <th>minute</th>\n",
       "      <th>month</th>\n",
       "      <th>o2_value</th>\n",
       "      <th>second</th>\n",
       "      <th>step_value</th>\n",
       "      <th>timestamp</th>\n",
       "      <th>year</th>\n",
       "    </tr>\n",
       "  </thead>\n",
       "  <tbody>\n",
       "    <tr>\n",
       "      <th>0</th>\n",
       "      <td>5c9b3935c4e5a668b7e9be2c</td>\n",
       "      <td>27</td>\n",
       "      <td>16</td>\n",
       "      <td>84</td>\n",
       "      <td>24.94519427</td>\n",
       "      <td>121.37227724</td>\n",
       "      <td>49</td>\n",
       "      <td>3</td>\n",
       "      <td>95</td>\n",
       "      <td>47</td>\n",
       "      <td>0</td>\n",
       "      <td>1.553677e+09</td>\n",
       "      <td>2019</td>\n",
       "    </tr>\n",
       "    <tr>\n",
       "      <th>1</th>\n",
       "      <td>5c9b393fc4e5a668b7e9be2e</td>\n",
       "      <td>27</td>\n",
       "      <td>16</td>\n",
       "      <td>84</td>\n",
       "      <td>24.94519427</td>\n",
       "      <td>121.37227724</td>\n",
       "      <td>49</td>\n",
       "      <td>3</td>\n",
       "      <td>95</td>\n",
       "      <td>57</td>\n",
       "      <td>0</td>\n",
       "      <td>1.553677e+09</td>\n",
       "      <td>2019</td>\n",
       "    </tr>\n",
       "    <tr>\n",
       "      <th>2</th>\n",
       "      <td>5c9b3949c4e5a668b7e9be30</td>\n",
       "      <td>27</td>\n",
       "      <td>16</td>\n",
       "      <td>84</td>\n",
       "      <td>24.94519427</td>\n",
       "      <td>121.37227724</td>\n",
       "      <td>50</td>\n",
       "      <td>3</td>\n",
       "      <td>95</td>\n",
       "      <td>7</td>\n",
       "      <td>0</td>\n",
       "      <td>1.553677e+09</td>\n",
       "      <td>2019</td>\n",
       "    </tr>\n",
       "    <tr>\n",
       "      <th>3</th>\n",
       "      <td>5c9b3953c4e5a668b7e9be32</td>\n",
       "      <td>27</td>\n",
       "      <td>16</td>\n",
       "      <td>84</td>\n",
       "      <td>24.94519427</td>\n",
       "      <td>121.37227724</td>\n",
       "      <td>50</td>\n",
       "      <td>3</td>\n",
       "      <td>95</td>\n",
       "      <td>17</td>\n",
       "      <td>0</td>\n",
       "      <td>1.553677e+09</td>\n",
       "      <td>2019</td>\n",
       "    </tr>\n",
       "    <tr>\n",
       "      <th>4</th>\n",
       "      <td>5c9b395dc4e5a668b7e9be34</td>\n",
       "      <td>27</td>\n",
       "      <td>16</td>\n",
       "      <td>79</td>\n",
       "      <td>24.94519427</td>\n",
       "      <td>121.37227724</td>\n",
       "      <td>50</td>\n",
       "      <td>3</td>\n",
       "      <td>98</td>\n",
       "      <td>27</td>\n",
       "      <td>0</td>\n",
       "      <td>1.553677e+09</td>\n",
       "      <td>2019</td>\n",
       "    </tr>\n",
       "  </tbody>\n",
       "</table>\n",
       "</div>"
      ],
      "text/plain": [
       "                        _id  day  hour hr_value     latitude     longitude  \\\n",
       "0  5c9b3935c4e5a668b7e9be2c   27    16       84  24.94519427  121.37227724   \n",
       "1  5c9b393fc4e5a668b7e9be2e   27    16       84  24.94519427  121.37227724   \n",
       "2  5c9b3949c4e5a668b7e9be30   27    16       84  24.94519427  121.37227724   \n",
       "3  5c9b3953c4e5a668b7e9be32   27    16       84  24.94519427  121.37227724   \n",
       "4  5c9b395dc4e5a668b7e9be34   27    16       79  24.94519427  121.37227724   \n",
       "\n",
       "   minute  month o2_value  second step_value     timestamp  year  \n",
       "0      49      3       95      47          0  1.553677e+09  2019  \n",
       "1      49      3       95      57          0  1.553677e+09  2019  \n",
       "2      50      3       95       7          0  1.553677e+09  2019  \n",
       "3      50      3       95      17          0  1.553677e+09  2019  \n",
       "4      50      3       98      27          0  1.553677e+09  2019  "
      ]
     },
     "execution_count": 32,
     "metadata": {},
     "output_type": "execute_result"
    }
   ],
   "source": [
    "# observe data's structure\n",
    "df = pd.DataFrame(clean_data)\n",
    "df.head()"
   ]
  },
  {
   "cell_type": "code",
   "execution_count": 33,
   "metadata": {},
   "outputs": [
    {
     "data": {
      "text/plain": [
       "(17639, 13)"
      ]
     },
     "execution_count": 33,
     "metadata": {},
     "output_type": "execute_result"
    }
   ],
   "source": [
    "df.shape"
   ]
  },
  {
   "cell_type": "code",
   "execution_count": 28,
   "metadata": {},
   "outputs": [
    {
     "name": "stdout",
     "output_type": "stream",
     "text": [
      "2067272.0\n",
      "0.06369848766877315\n"
     ]
    }
   ],
   "source": [
    "lis = []\n",
    "count = 0\n",
    "misstime = 0\n",
    "for i in range(len(clean_data) - 1):\n",
    "    lis.append(clean_data[i+1]['timestamp'] - clean_data[i]['timestamp'])\n",
    "    if clean_data[i+1]['timestamp'] - clean_data[i]['timestamp'] > 18:\n",
    "        misstime += clean_data[i+1]['timestamp'] - clean_data[i]['timestamp']\n",
    "print\n",
    "print(max(lis) - min(lis))\n",
    "print((misstime / 10)/(max(lis) - min(lis)))"
   ]
  },
  {
   "cell_type": "code",
   "execution_count": 27,
   "metadata": {},
   "outputs": [
    {
     "data": {
      "text/plain": [
       "[<matplotlib.lines.Line2D at 0x7febd384f6a0>]"
      ]
     },
     "execution_count": 27,
     "metadata": {},
     "output_type": "execute_result"
    },
    {
     "data": {
      "image/png": "[encoded data removed]",
      "text/plain": [
       "<Figure size 432x288 with 1 Axes>"
      ]
     },
     "metadata": {
      "needs_background": "light"
     },
     "output_type": "display_data"
    }
   ],
   "source": [
    "temp = np.array(lis)\n",
    "plt.plot(range(len(temp)), temp)"
   ]
  },
  {
   "cell_type": "code",
   "execution_count": 5,
   "metadata": {},
   "outputs": [],
   "source": [
    "float_hr = np.zeros((len(clean_data),1))\n",
    "float_o2 = np.zeros((len(clean_data),1))\n",
    "float_timestamp = np.zeros((len(clean_data),1))\n",
    "# dic = {3:0, 4:1, 5:2, 8:3, 11:4, 12: 5}\n",
    "for i, line in enumerate(clean_data):\n",
    "    for j, (key, value) in enumerate(line.items()):\n",
    "        if key == 'hr_value':\n",
    "            if value != '':\n",
    "                float_hr[i,0] = float(value)\n",
    "            else:\n",
    "                float_hr[i,0]= 0\n",
    "        elif key == 'o2_value':\n",
    "            if value != '':\n",
    "                float_o2[i,0]=float(value)\n",
    "            else:\n",
    "                float_o2[i,0]= 0\n",
    "        elif key == 'timestamp':\n",
    "            if value == 3:\n",
    "                print(i, line)\n",
    "                print(j,key, value)\n",
    "            float_timestamp[i,0] = float(value)"
   ]
  },
  {
   "cell_type": "code",
   "execution_count": 6,
   "metadata": {},
   "outputs": [
    {
     "data": {
      "text/plain": [
       "83.64067020250724"
      ]
     },
     "execution_count": 6,
     "metadata": {},
     "output_type": "execute_result"
    }
   ],
   "source": [
    "np.true_divide(float_hr.sum(), (float_hr!=0).sum() )"
   ]
  },
  {
   "cell_type": "code",
   "execution_count": 7,
   "metadata": {},
   "outputs": [
    {
     "data": {
      "text/plain": [
       "96.82521697203471"
      ]
     },
     "execution_count": 7,
     "metadata": {},
     "output_type": "execute_result"
    }
   ],
   "source": [
    "np.true_divide(float_o2.sum(), (float_o2!=0).sum())"
   ]
  },
  {
   "cell_type": "code",
   "execution_count": 8,
   "metadata": {},
   "outputs": [
    {
     "data": {
      "text/plain": [
       "8296"
      ]
     },
     "execution_count": 8,
     "metadata": {},
     "output_type": "execute_result"
    }
   ],
   "source": [
    "(float_hr!=0).sum()"
   ]
  },
  {
   "cell_type": "code",
   "execution_count": 9,
   "metadata": {},
   "outputs": [
    {
     "data": {
      "text/plain": [
       "85.0"
      ]
     },
     "execution_count": 9,
     "metadata": {},
     "output_type": "execute_result"
    }
   ],
   "source": [
    "float_hr = float_hr.reshape(float_hr.shape[0],)\n",
    "np.median(float_hr)"
   ]
  },
  {
   "cell_type": "code",
   "execution_count": 10,
   "metadata": {},
   "outputs": [
    {
     "data": {
      "text/plain": [
       "[<matplotlib.lines.Line2D at 0x7febe11bbf60>]"
      ]
     },
     "execution_count": 10,
     "metadata": {},
     "output_type": "execute_result"
    },
    {
     "data": {
      "image/png": "[encoded data removed]",
      "text/plain": [
       "<Figure size 432x288 with 1 Axes>"
      ]
     },
     "metadata": {
      "needs_background": "light"
     },
     "output_type": "display_data"
    }
   ],
   "source": [
    "temp = np.array([x['hr_value'] for x in clean_data])\n",
    "plt.plot(range(len(temp)), temp)"
   ]
  },
  {
   "cell_type": "code",
   "execution_count": 11,
   "metadata": {},
   "outputs": [],
   "source": [
    "mu, sigma = 60, 20\n",
    "s = np.random.normal(mu, sigma, 1)"
   ]
  },
  {
   "cell_type": "code",
   "execution_count": 13,
   "metadata": {},
   "outputs": [
    {
     "data": {
      "image/png": "[encoded data removed]",
      "text/plain": [
       "<Figure size 432x288 with 1 Axes>"
      ]
     },
     "metadata": {
      "needs_background": "light"
     },
     "output_type": "display_data"
    }
   ],
   "source": [
    "count, bins, ignored = plt.hist(s, 30, normed=True)\n",
    "plt.plot(bins, 1/(sigma * np.sqrt(2 * np.pi)) *\n",
    "         np.exp( - (bins - mu)**2 / (2 * sigma**2) ),\n",
    "        linewidth=2, color='r')\n",
    "plt.show()"
   ]
  },
  {
   "cell_type": "code",
   "execution_count": 14,
   "metadata": {},
   "outputs": [
    {
     "name": "stdout",
     "output_type": "stream",
     "text": [
      "[37.99303133]\n",
      "[78.64151211]\n",
      "[91.83876817]\n",
      "[83.37317337]\n",
      "[38.56653913]\n",
      "[52.88110512]\n",
      "[70.82775975]\n",
      "[96.5178037]\n",
      "[61.75498752]\n",
      "[33.00979535]\n"
     ]
    }
   ],
   "source": [
    "for _ in range(10):\n",
    "    s = np.random.normal(mu, sigma, 1)\n",
    "    print(s)"
   ]
  },
  {
   "cell_type": "code",
   "execution_count": 15,
   "metadata": {},
   "outputs": [
    {
     "ename": "KeyboardInterrupt",
     "evalue": "",
     "output_type": "error",
     "traceback": [
      "\u001b[0;31m---------------------------------------------------------------------------\u001b[0m",
      "\u001b[0;31mKeyboardInterrupt\u001b[0m                         Traceback (most recent call last)",
      "\u001b[0;32m<ipython-input-15-08246b62c468>\u001b[0m in \u001b[0;36m<module>\u001b[0;34m\u001b[0m\n\u001b[1;32m      9\u001b[0m \u001b[0;31m# print(len(float_timestamp))\u001b[0m\u001b[0;34m\u001b[0m\u001b[0;34m\u001b[0m\u001b[0;34m\u001b[0m\u001b[0m\n\u001b[1;32m     10\u001b[0m \u001b[0;32mfor\u001b[0m \u001b[0mi\u001b[0m \u001b[0;32min\u001b[0m \u001b[0mrange\u001b[0m\u001b[0;34m(\u001b[0m\u001b[0mmintime\u001b[0m\u001b[0;34m,\u001b[0m\u001b[0mmaxtime\u001b[0m\u001b[0;34m,\u001b[0m\u001b[0;36m10\u001b[0m\u001b[0;34m)\u001b[0m\u001b[0;34m:\u001b[0m\u001b[0;34m\u001b[0m\u001b[0;34m\u001b[0m\u001b[0m\n\u001b[0;32m---> 11\u001b[0;31m     \u001b[0;32mif\u001b[0m \u001b[0mi\u001b[0m \u001b[0;32min\u001b[0m \u001b[0mlist\u001b[0m\u001b[0;34m(\u001b[0m\u001b[0mlis\u001b[0m\u001b[0;34m)\u001b[0m\u001b[0;34m:\u001b[0m\u001b[0;34m\u001b[0m\u001b[0;34m\u001b[0m\u001b[0m\n\u001b[0m\u001b[1;32m     12\u001b[0m         \u001b[0mcount\u001b[0m \u001b[0;34m+=\u001b[0m \u001b[0;36m1\u001b[0m\u001b[0;31m# too slow\u001b[0m\u001b[0;34m\u001b[0m\u001b[0;34m\u001b[0m\u001b[0m\n\u001b[1;32m     13\u001b[0m \u001b[0mprint\u001b[0m\u001b[0;34m(\u001b[0m\u001b[0mcount\u001b[0m\u001b[0;34m,\u001b[0m \u001b[0mlen\u001b[0m\u001b[0;34m(\u001b[0m\u001b[0mlis\u001b[0m\u001b[0;34m)\u001b[0m\u001b[0;34m)\u001b[0m\u001b[0;34m\u001b[0m\u001b[0;34m\u001b[0m\u001b[0m\n",
      "\u001b[0;31mKeyboardInterrupt\u001b[0m: "
     ]
    }
   ],
   "source": [
    "mu, sigma = 60, 20\n",
    "s = np.random.normal(mu, sigma, 1)\n",
    "# np.true_divide(float_o2.sum(), (float_o2!=0).sum())\n",
    "lis = list(float_timestamp.reshape(len(float_timestamp),).astype(int))\n",
    "maxtime = int(max(float_timestamp.reshape(len(float_timestamp),))) \n",
    "mintime = int(min(float_timestamp.reshape(len(float_timestamp),)))\n",
    "count = 0\n",
    "# print((maxtime - mintime) / 10)\n",
    "# print(len(float_timestamp))\n",
    "for i in range(mintime,maxtime,10):\n",
    "    if i in list(lis):\n",
    "        count += 1# too slow\n",
    "print(count, len(lis))"
   ]
  },
  {
   "cell_type": "code",
   "execution_count": 16,
   "metadata": {},
   "outputs": [],
   "source": [
    "timest = float_timestamp.reshape(len(float_timestamp),)"
   ]
  },
  {
   "cell_type": "code",
   "execution_count": 17,
   "metadata": {},
   "outputs": [],
   "source": [
    "timediff = np.diff(timest)"
   ]
  },
  {
   "cell_type": "code",
   "execution_count": 18,
   "metadata": {},
   "outputs": [],
   "source": [
    "count = 0\n",
    "for x in timediff:\n",
    "    if x > 10:\n",
    "        count += 1"
   ]
  },
  {
   "cell_type": "code",
   "execution_count": 19,
   "metadata": {},
   "outputs": [
    {
     "data": {
      "text/plain": [
       "array([[ 919],\n",
       "       [ 933],\n",
       "       [ 997],\n",
       "       [ 999],\n",
       "       [1002],\n",
       "       [1009],\n",
       "       [1031],\n",
       "       [1034],\n",
       "       [1048],\n",
       "       [1176],\n",
       "       [1734],\n",
       "       [2202],\n",
       "       [2247],\n",
       "       [3865],\n",
       "       [4099],\n",
       "       [4101],\n",
       "       [4132],\n",
       "       [4133],\n",
       "       [4134],\n",
       "       [4140],\n",
       "       [4142],\n",
       "       [4145],\n",
       "       [4146],\n",
       "       [4149],\n",
       "       [4150],\n",
       "       [4151],\n",
       "       [4297],\n",
       "       [5426],\n",
       "       [6124],\n",
       "       [6219],\n",
       "       [6352],\n",
       "       [6361],\n",
       "       [6362],\n",
       "       [6365],\n",
       "       [6366],\n",
       "       [6367],\n",
       "       [6368],\n",
       "       [6371]])"
      ]
     },
     "execution_count": 19,
     "metadata": {},
     "output_type": "execute_result"
    }
   ],
   "source": [
    "np.argwhere(timediff > 600)"
   ]
  },
  {
   "cell_type": "code",
   "execution_count": 20,
   "metadata": {},
   "outputs": [
    {
     "data": {
      "text/plain": [
       "array([119.])"
      ]
     },
     "execution_count": 20,
     "metadata": {},
     "output_type": "execute_result"
    }
   ],
   "source": [
    "float_timestamp[173] - float_timestamp[172]"
   ]
  },
  {
   "cell_type": "code",
   "execution_count": null,
   "metadata": {},
   "outputs": [],
   "source": []
  },
  {
   "cell_type": "code",
   "execution_count": null,
   "metadata": {},
   "outputs": [],
   "source": []
  }
 ],
 "metadata": {
  "kernelspec": {
   "display_name": "Python 3",
   "language": "python",
   "name": "python3"
  },
  "language_info": {
   "codemirror_mode": {
    "name": "ipython",
    "version": 3
   },
   "file_extension": ".py",
   "mimetype": "text/x-python",
   "name": "python",
   "nbconvert_exporter": "python",
   "pygments_lexer": "ipython3",
   "version": "3.6.7"
  }
 },
 "nbformat": 4,
 "nbformat_minor": 2
}
