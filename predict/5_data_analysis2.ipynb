{
 "cells": [
  {
   "cell_type": "code",
   "execution_count": 2,
   "metadata": {},
   "outputs": [
    {
     "data": {
      "text/plain": [
       "['/job:localhost/replica:0/task:0/device:GPU:0']"
      ]
     },
     "execution_count": 2,
     "metadata": {},
     "output_type": "execute_result"
    }
   ],
   "source": [
    "from keras import backend as K\n",
    "K.tensorflow_backend._get_available_gpus()"
   ]
  },
  {
   "cell_type": "code",
   "execution_count": 3,
   "metadata": {},
   "outputs": [],
   "source": [
    "from pymongo import MongoClient\n",
    "from bson.objectid import ObjectId\n",
    "\n",
    "import time,datetime\n",
    "import os\n",
    "\n",
    "import pandas as pd\n",
    "import pandas_datareader.data as web\n",
    "import numpy as np\n",
    "\n",
    "import matplotlib.pyplot as plt\n",
    "from matplotlib import style\n",
    "\n",
    "from keras.models import Model, Sequential\n",
    "from keras.layers import Input\n",
    "from keras.layers import Dense\n",
    "from keras.layers import Flatten\n",
    "from keras.layers.convolutional import Conv1D\n",
    "from keras.layers.convolutional import MaxPooling1D"
   ]
  },
  {
   "cell_type": "code",
   "execution_count": 4,
   "metadata": {},
   "outputs": [],
   "source": [
    "conn = MongoClient()\n",
    "db = conn.Tracker\n",
    "collection = [db.james]# db.db2, db.dn2, db.james, db.leo\n",
    "clean_data = []\n",
    "for col in collection:\n",
    "    cursor = col.find({})\n",
    "    df = pd.DataFrame(list(cursor))"
   ]
  },
  {
   "cell_type": "code",
   "execution_count": 5,
   "metadata": {},
   "outputs": [],
   "source": [
    "df.replace('', np.nan, inplace=True)"
   ]
  },
  {
   "cell_type": "code",
   "execution_count": 6,
   "metadata": {},
   "outputs": [
    {
     "data": {
      "text/plain": [
       "0"
      ]
     },
     "execution_count": 6,
     "metadata": {},
     "output_type": "execute_result"
    }
   ],
   "source": [
    "df.fillna(method='ffill', inplace=True)\n",
    "df.isnull().sum().sum()"
   ]
  },
  {
   "cell_type": "code",
   "execution_count": 7,
   "metadata": {},
   "outputs": [],
   "source": [
    "df['hr_value'] = df['hr_value'].astype(float)\n",
    "df['o2_value'] = df['o2_value'].astype(float)"
   ]
  },
  {
   "cell_type": "code",
   "execution_count": 8,
   "metadata": {},
   "outputs": [
    {
     "name": "stdout",
     "output_type": "stream",
     "text": [
      "[[0, 108], [212, 238], [259, 371], [407, 511], [532, 650], [672, 782], [805, 830], [1072, 1176], [1197, 1485], [1506, 1757], [1845, 1867], [1888, 2240], [2261, 2263], [2313, 2381], [2466, 2859], [2994, 3101], [3129, 3864], [3980, 4169], [4275, 4373], [4448, 4797], [4818, 4986], [5018, 5024], [5115, 5533], [5554, 5886], [5912, 5926], [6046, 6065], [6087, 6151], [6265, 6295], [6360, 6420], [6554, 6582], [6619, 6624], [6683, 6748], [6769, 6820], [6886, 6948], [6970, 7108], [7129, 7137], [7169, 7193], [7373, 7507], [7554, 7671], [7714, 7738], [7761, 7852], [7874, 7905], [7979, 8428], [8576, 8598], [8680, 8735], [8758, 8905], [8929, 8968], [9013, 9135], [9163, 9207], [9309, 9349], [9386, 9454], [9513, 9747], [9782, 10038], [10059, 10346], [10504, 10518], [10523, 10532], [10539, 10541], [10577, 10656], [10711, 10808], [10856, 10966], [11005, 11276], [11297, 11371], [11418, 11426], [11459, 11700], [11763, 11778], [11799, 14477], [14498, 14706], [14738, 15224], [15245, 15379], [15443, 15465], [15521, 15525], [15574, 15580], [15736, 15778], [15803, 16230], [16251, 16508], [16550, 16829], [16854, 16908], [17013, 17196], [17222, 17284], [17306, 17462], [17483, 17618], [17658, 17727], [17763, 18099], [18246, 18269], [18342, 18363], [18463, 18497], [18518, 18645], [18668, 18952], [18998, 19084], [19105, 19254], [19276, 19285], [19306, 19359], [19457, 19649], [19670, 19947], [20192, 20293], [20321, 20404], [20441, 20444], [20474, 20525], [20546, 20895], [20916, 21388], [21452, 21641], [21662, 21685], [21853, 21871], [21935, 21989], [22010, 22032], [22243, 22362], [22383, 22544], [22571, 22832], [22857, 23298], [23320, 23462], [23485, 23568], [23593, 23686], [23724, 23821], [23850, 23860], [23891, 24109], [24129, 31134], [31164, 31446], [31491, 31517], [31563, 31784], [31805, 31970], [31999, 32069], [32121, 32121], [32154, 32161], [32194, 32286], [32318, 32641], [32672, 32721], [32749, 33205], [33356, 33546], [33572, 36892], [36913, 36915], [36937, 37194], [37215, 37766], [37799, 37958], [37987, 38062], [38117, 38212], [38236, 38242], [38263, 38524], [38549, 38686], [38732, 38837], [38907, 38968], [38994, 39148], [39269, 39712], [39742, 39779], [39968, 39971], [40083, 40181], [40358, 40824], [40866, 40987], [41016, 41607], [41628, 41744], [41765, 42286], [42356, 42740], [42774, 42843], [42904, 43076], [43118, 43169], [43190, 43277], [43323, 43338], [43359, 44358], [44392, 44397], [44506, 44805], [44863, 45085]]\n"
     ]
    }
   ],
   "source": [
    "dftspdiff = df['timestamp'].diff()\n",
    "dftfdiffSTD = dftspdiff.rolling(20).std()\n",
    "\n",
    "# find the place that std is smaller than 5\n",
    "lis = []\n",
    "changeFlag = 0\n",
    "tempt = [0]\n",
    "for i in range(len(dftfdiffSTD)):\n",
    "    if dftfdiffSTD[i] < 5 and changeFlag == True and len(tempt) < 2:\n",
    "        tempt.append(i)\n",
    "        changeFlag = False\n",
    "    if dftfdiffSTD[i] >= 5 and changeFlag == False and len(tempt) < 2:\n",
    "        tempt.append(i-1)\n",
    "        changeFlag = True\n",
    "    if len(tempt) == 2:\n",
    "        lis.append(tempt)\n",
    "        tempt = []\n",
    "print(lis)"
   ]
  },
  {
   "cell_type": "code",
   "execution_count": 12,
   "metadata": {},
   "outputs": [],
   "source": [
    "data_with_gap = []\n",
    "for i in lis:\n",
    "    data_with_gap.append(df[i[0]:i[1]])"
   ]
  },
  {
   "cell_type": "code",
   "execution_count": 17,
   "metadata": {},
   "outputs": [
    {
     "data": {
      "text/html": [
       "<div>\n",
       "<style scoped>\n",
       "    .dataframe tbody tr th:only-of-type {\n",
       "        vertical-align: middle;\n",
       "    }\n",
       "\n",
       "    .dataframe tbody tr th {\n",
       "        vertical-align: top;\n",
       "    }\n",
       "\n",
       "    .dataframe thead th {\n",
       "        text-align: right;\n",
       "    }\n",
       "</style>\n",
       "<table border=\"1\" class=\"dataframe\">\n",
       "  <thead>\n",
       "    <tr style=\"text-align: right;\">\n",
       "      <th></th>\n",
       "      <th>_id</th>\n",
       "      <th>day</th>\n",
       "      <th>hour</th>\n",
       "      <th>hr_value</th>\n",
       "      <th>latitude</th>\n",
       "      <th>longitude</th>\n",
       "      <th>minute</th>\n",
       "      <th>month</th>\n",
       "      <th>o2_value</th>\n",
       "      <th>second</th>\n",
       "      <th>step_value</th>\n",
       "      <th>timestamp</th>\n",
       "      <th>year</th>\n",
       "    </tr>\n",
       "  </thead>\n",
       "  <tbody>\n",
       "    <tr>\n",
       "      <th>0</th>\n",
       "      <td>5c9b3935c4e5a668b7e9be2c</td>\n",
       "      <td>27</td>\n",
       "      <td>16</td>\n",
       "      <td>84.0</td>\n",
       "      <td>24.94519427</td>\n",
       "      <td>121.37227724</td>\n",
       "      <td>49</td>\n",
       "      <td>3</td>\n",
       "      <td>95.0</td>\n",
       "      <td>47</td>\n",
       "      <td>0</td>\n",
       "      <td>1.553677e+09</td>\n",
       "      <td>2019</td>\n",
       "    </tr>\n",
       "    <tr>\n",
       "      <th>1</th>\n",
       "      <td>5c9b393fc4e5a668b7e9be2e</td>\n",
       "      <td>27</td>\n",
       "      <td>16</td>\n",
       "      <td>84.0</td>\n",
       "      <td>24.94519427</td>\n",
       "      <td>121.37227724</td>\n",
       "      <td>49</td>\n",
       "      <td>3</td>\n",
       "      <td>95.0</td>\n",
       "      <td>57</td>\n",
       "      <td>0</td>\n",
       "      <td>1.553677e+09</td>\n",
       "      <td>2019</td>\n",
       "    </tr>\n",
       "    <tr>\n",
       "      <th>2</th>\n",
       "      <td>5c9b3949c4e5a668b7e9be30</td>\n",
       "      <td>27</td>\n",
       "      <td>16</td>\n",
       "      <td>84.0</td>\n",
       "      <td>24.94519427</td>\n",
       "      <td>121.37227724</td>\n",
       "      <td>50</td>\n",
       "      <td>3</td>\n",
       "      <td>95.0</td>\n",
       "      <td>7</td>\n",
       "      <td>0</td>\n",
       "      <td>1.553677e+09</td>\n",
       "      <td>2019</td>\n",
       "    </tr>\n",
       "    <tr>\n",
       "      <th>3</th>\n",
       "      <td>5c9b3953c4e5a668b7e9be32</td>\n",
       "      <td>27</td>\n",
       "      <td>16</td>\n",
       "      <td>84.0</td>\n",
       "      <td>24.94519427</td>\n",
       "      <td>121.37227724</td>\n",
       "      <td>50</td>\n",
       "      <td>3</td>\n",
       "      <td>95.0</td>\n",
       "      <td>17</td>\n",
       "      <td>0</td>\n",
       "      <td>1.553677e+09</td>\n",
       "      <td>2019</td>\n",
       "    </tr>\n",
       "    <tr>\n",
       "      <th>4</th>\n",
       "      <td>5c9b395dc4e5a668b7e9be34</td>\n",
       "      <td>27</td>\n",
       "      <td>16</td>\n",
       "      <td>79.0</td>\n",
       "      <td>24.94519427</td>\n",
       "      <td>121.37227724</td>\n",
       "      <td>50</td>\n",
       "      <td>3</td>\n",
       "      <td>98.0</td>\n",
       "      <td>27</td>\n",
       "      <td>0</td>\n",
       "      <td>1.553677e+09</td>\n",
       "      <td>2019</td>\n",
       "    </tr>\n",
       "  </tbody>\n",
       "</table>\n",
       "</div>"
      ],
      "text/plain": [
       "                        _id  day  hour  hr_value     latitude     longitude  \\\n",
       "0  5c9b3935c4e5a668b7e9be2c   27    16      84.0  24.94519427  121.37227724   \n",
       "1  5c9b393fc4e5a668b7e9be2e   27    16      84.0  24.94519427  121.37227724   \n",
       "2  5c9b3949c4e5a668b7e9be30   27    16      84.0  24.94519427  121.37227724   \n",
       "3  5c9b3953c4e5a668b7e9be32   27    16      84.0  24.94519427  121.37227724   \n",
       "4  5c9b395dc4e5a668b7e9be34   27    16      79.0  24.94519427  121.37227724   \n",
       "\n",
       "   minute  month  o2_value  second step_value     timestamp  year  \n",
       "0      49      3      95.0      47          0  1.553677e+09  2019  \n",
       "1      49      3      95.0      57          0  1.553677e+09  2019  \n",
       "2      50      3      95.0       7          0  1.553677e+09  2019  \n",
       "3      50      3      95.0      17          0  1.553677e+09  2019  \n",
       "4      50      3      98.0      27          0  1.553677e+09  2019  "
      ]
     },
     "execution_count": 17,
     "metadata": {},
     "output_type": "execute_result"
    }
   ],
   "source": [
    "data_with_gap[0].head()"
   ]
  },
  {
   "cell_type": "code",
   "execution_count": null,
   "metadata": {},
   "outputs": [],
   "source": []
  }
 ],
 "metadata": {
  "kernelspec": {
   "display_name": "Python 3",
   "language": "python",
   "name": "python3"
  },
  "language_info": {
   "codemirror_mode": {
    "name": "ipython",
    "version": 3
   },
   "file_extension": ".py",
   "mimetype": "text/x-python",
   "name": "python",
   "nbconvert_exporter": "python",
   "pygments_lexer": "ipython3",
   "version": "3.6.7"
  }
 },
 "nbformat": 4,
 "nbformat_minor": 2
}
