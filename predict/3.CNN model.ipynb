{
 "cells": [
  {
   "cell_type": "code",
   "execution_count": 2,
   "metadata": {},
   "outputs": [
    {
     "name": "stderr",
     "output_type": "stream",
     "text": [
      "Using TensorFlow backend.\n"
     ]
    },
    {
     "data": {
      "text/plain": [
       "['/job:localhost/replica:0/task:0/device:GPU:0']"
      ]
     },
     "execution_count": 2,
     "metadata": {},
     "output_type": "execute_result"
    }
   ],
   "source": [
    "from keras import backend as K\n",
    "K.tensorflow_backend._get_available_gpus()"
   ]
  },
  {
   "cell_type": "code",
   "execution_count": 3,
   "metadata": {},
   "outputs": [],
   "source": [
    "import os \n",
    "from datetime import datetime\n",
    "import numpy as np\n",
    "from matplotlib import pyplot as plt"
   ]
  },
  {
   "cell_type": "code",
   "execution_count": 4,
   "metadata": {},
   "outputs": [],
   "source": [
    "# split a multivariate sequence into samples\n",
    "def split_sequences(sequences, n_steps_in, n_steps_out):\n",
    "    X, y = list(), list()\n",
    "    for i in range(len(sequences)):\n",
    "        # find the end of this pattern\n",
    "        end_ix = i + n_steps_in\n",
    "#         print('end_ix',end_ix)\n",
    "        out_end_ix = end_ix + n_steps_out\n",
    "#         print('out_end_ix',out_end_ix)\n",
    "        # check if we are beyond the dataset\n",
    "        if out_end_ix > len(sequences):\n",
    "            break\n",
    "        # gather input and output parts of the pattern\n",
    "        seq_x, seq_y = sequences[i:end_ix, :], sequences[end_ix:out_end_ix, :]\n",
    "        X.append(seq_x)\n",
    "        y.append(seq_y)\n",
    "    return np.array(X), np.array(y)"
   ]
  },
  {
   "cell_type": "code",
   "execution_count": 5,
   "metadata": {},
   "outputs": [
    {
     "name": "stdout",
     "output_type": "stream",
     "text": [
      "[[ 10  15  25]\n",
      " [ 20  25  45]\n",
      " [ 30  35  65]\n",
      " [ 40  45  85]\n",
      " [ 50  55 105]\n",
      " [ 60  65 125]\n",
      " [ 70  75 145]\n",
      " [ 80  85 165]\n",
      " [ 90  95 185]]\n",
      "(5, 3, 3) (5, 2, 3)\n",
      "[[10 15 25]\n",
      " [20 25 45]\n",
      " [30 35 65]] [[ 40  45  85]\n",
      " [ 50  55 105]]\n",
      "[[20 25 45]\n",
      " [30 35 65]\n",
      " [40 45 85]] [[ 50  55 105]\n",
      " [ 60  65 125]]\n",
      "[[ 30  35  65]\n",
      " [ 40  45  85]\n",
      " [ 50  55 105]] [[ 60  65 125]\n",
      " [ 70  75 145]]\n",
      "[[ 40  45  85]\n",
      " [ 50  55 105]\n",
      " [ 60  65 125]] [[ 70  75 145]\n",
      " [ 80  85 165]]\n",
      "[[ 50  55 105]\n",
      " [ 60  65 125]\n",
      " [ 70  75 145]] [[ 80  85 165]\n",
      " [ 90  95 185]]\n"
     ]
    }
   ],
   "source": [
    "# This is a example\n",
    "#defin input sequence\n",
    "in_seq1 = np.array([10, 20, 30, 40, 50, 60, 70, 80, 90])\n",
    "in_seq2 = np.array([15, 25, 35, 45, 55, 65, 75, 85, 95])\n",
    "out_seq = np.array([in_seq1[i] + in_seq2[i] for i in range(len(in_seq1))])\n",
    "# convert to [rows, columns] structure\n",
    "in_seq1 = in_seq1.reshape((len(in_seq1), 1))\n",
    "in_seq2 = in_seq2.reshape((len(in_seq2), 1))\n",
    "out_seq = out_seq.reshape((len(out_seq), 1))\n",
    "# horizontally stack columns\n",
    "dataset = np.hstack((in_seq1, in_seq2, out_seq))\n",
    "print(dataset)\n",
    "# choose a number of time steps\n",
    "n_steps_in, n_steps_out = 3, 2\n",
    "X, y = split_sequences(dataset, n_steps_in, n_steps_out)\n",
    "print(X.shape, y.shape)\n",
    "for i in range(len(X)):\n",
    "    print(X[i], y[i])"
   ]
  },
  {
   "cell_type": "code",
   "execution_count": 6,
   "metadata": {},
   "outputs": [],
   "source": [
    "from pymongo import MongoClient\n",
    "from bson.objectid import ObjectId\n",
    "import time,datetime\n",
    "conn = MongoClient()\n",
    "db = conn.Tracker\n",
    "collection = [db.james]# db.db2, db.dn2, db.james, db.leo\n",
    "clean_data = []\n",
    "for col in collection:\n",
    "    cursor = col.find({})\n",
    "    data = [d for d in cursor]\n",
    "    # print('In',str(col))\n",
    "    count = 0\n",
    "    for dic in data:\n",
    "#         if 'o2_value' and 'hr_value' in dic.keys():\n",
    "#             if (dic['longitude'] != 0) and (dic['longitude'] != '') and (dic['latitude'] != '') \\\n",
    "#                             and (dic['o2_value'] != '') and (dic['hr_value']!= ''):\n",
    "        if 'hr_value' in dic.keys():\n",
    "            if dic['hr_value']  != '':\n",
    "                clean_data.append(dic)"
   ]
  },
  {
   "cell_type": "code",
   "execution_count": 7,
   "metadata": {},
   "outputs": [
    {
     "data": {
      "text/plain": [
       "{'_id': ObjectId('5c9b3935c4e5a668b7e9be2c'),\n",
       " 'hour': 16,\n",
       " 'day': 27,\n",
       " 'minute': 49,\n",
       " 'latitude': '24.94519427',\n",
       " 'step_value': '0',\n",
       " 'year': 2019,\n",
       " 'longitude': '121.37227724',\n",
       " 'second': 47,\n",
       " 'hr_value': '84',\n",
       " 'timestamp': 1553676587.0,\n",
       " 'o2_value': '95',\n",
       " 'month': 3}"
      ]
     },
     "execution_count": 7,
     "metadata": {},
     "output_type": "execute_result"
    }
   ],
   "source": [
    "# Here start the project\n",
    "clean_data[0]"
   ]
  },
  {
   "cell_type": "code",
   "execution_count": 8,
   "metadata": {},
   "outputs": [
    {
     "name": "stdout",
     "output_type": "stream",
     "text": [
      "0 _id 5c9b3935c4e5a668b7e9be2c\n",
      "1 hour 16\n",
      "2 day 27\n",
      "3 minute 49\n",
      "4 latitude 24.94519427\n",
      "5 step_value 0\n",
      "6 year 2019\n",
      "7 longitude 121.37227724\n",
      "8 second 47\n",
      "9 hr_value 84\n",
      "10 timestamp 1553676587.0\n",
      "11 o2_value 95\n",
      "12 month 3\n"
     ]
    }
   ],
   "source": [
    "for i, line in enumerate(clean_data):\n",
    "    for j, (key, value) in enumerate(line.items()):\n",
    "        print(j , key, value)\n",
    "    break"
   ]
  },
  {
   "cell_type": "code",
   "execution_count": 9,
   "metadata": {},
   "outputs": [],
   "source": [
    "float_hr = np.zeros((len(clean_data),1))\n",
    "float_o2 = np.zeros((len(clean_data),1))\n",
    "float_timestamp = np.zeros((len(clean_data),1))\n",
    "# dic = {3:0, 4:1, 5:2, 8:3, 11:4, 12: 5}\n",
    "for i, line in enumerate(clean_data):\n",
    "    for j, (key, value) in enumerate(line.items()):\n",
    "        if key == 'hr_value':\n",
    "            if value != '':\n",
    "                float_hr[i,0] = float(value)\n",
    "            else:\n",
    "                float_hr[i,0]= 0\n",
    "        elif key == 'o2_value':\n",
    "            if value != '':\n",
    "                float_o2[i,0]=float(value)\n",
    "            else:\n",
    "                float_o2[i,0]= 0\n",
    "        elif key == 'timestamp':\n",
    "            if value == 3:\n",
    "                print(i, line)\n",
    "                print(j,key, value)\n",
    "            float_timestamp[i,0] = float(value)"
   ]
  },
  {
   "cell_type": "code",
   "execution_count": 10,
   "metadata": {},
   "outputs": [
    {
     "name": "stdout",
     "output_type": "stream",
     "text": [
      "(8296, 1)\n",
      "(8296, 2, 1)\n",
      "[[84.]\n",
      " [95.]]\n"
     ]
    }
   ],
   "source": [
    "out_seq = np.array([(float_hr[x], float_o2[x]) for x in range(len(float_o2))])\n",
    "print(float_hr.shape)\n",
    "print(out_seq.shape)\n",
    "print(out_seq[0])"
   ]
  },
  {
   "cell_type": "code",
   "execution_count": 11,
   "metadata": {},
   "outputs": [
    {
     "name": "stdout",
     "output_type": "stream",
     "text": [
      "[[84. 95. 84. 95.]\n",
      " [84. 95. 84. 95.]\n",
      " [84. 95. 84. 95.]\n",
      " [84. 95. 84. 95.]\n",
      " [79. 98. 79. 98.]\n",
      " [79. 98. 79. 98.]\n",
      " [79. 98. 79. 98.]\n",
      " [79. 98. 79. 98.]\n",
      " [79. 98. 79. 98.]\n",
      " [79. 98. 79. 98.]]\n"
     ]
    }
   ],
   "source": [
    "float_hr = float_hr.reshape((len(float_hr), 1))\n",
    "float_o2 = float_o2.reshape((len(float_o2), 1))\n",
    "float_timestamp = float_timestamp.reshape((len(float_o2), 1))\n",
    "out_seq = out_seq.reshape((len(out_seq), 2))\n",
    "dataset = np.hstack((float_hr, float_o2, out_seq))\n",
    "print(dataset[:10])"
   ]
  },
  {
   "cell_type": "code",
   "execution_count": 12,
   "metadata": {},
   "outputs": [],
   "source": [
    "# split a multivariate sequence into samples\n",
    "def split_sequences(sequences, n_steps_in, n_steps_out):\n",
    "    X, y = list(), list()\n",
    "    for i in range(len(sequences)):\n",
    "        # find the end of this pattern\n",
    "        end_ix = i + n_steps_in\n",
    "#         print('end_ix',end_ix)\n",
    "        out_end_ix = end_ix + n_steps_out\n",
    "#         print('out_end_ix',out_end_ix)\n",
    "        # check if we are beyond the dataset\n",
    "        if out_end_ix > len(sequences):\n",
    "            break\n",
    "        # gather input and output parts of the pattern\n",
    "        seq_x, seq_y = sequences[i:end_ix, :2], sequences[end_ix:out_end_ix, :2]\n",
    "        X.append(seq_x)\n",
    "        y.append(seq_y)\n",
    "    return np.array(X), np.array(y)"
   ]
  },
  {
   "cell_type": "code",
   "execution_count": 13,
   "metadata": {},
   "outputs": [
    {
     "data": {
      "text/plain": [
       "8295"
      ]
     },
     "execution_count": 13,
     "metadata": {},
     "output_type": "execute_result"
    }
   ],
   "source": [
    "timest = float_timestamp.reshape(len(float_timestamp),)\n",
    "timediff = np.diff(timest)\n",
    "len(timediff)\n",
    "# "
   ]
  },
  {
   "cell_type": "code",
   "execution_count": 17,
   "metadata": {},
   "outputs": [],
   "source": [
    "n_steps_in, n_steps_out = 3, 2\n",
    "timest = float_timestamp.reshape(len(float_timestamp),)\n",
    "prev = 0\n",
    "for i in np.argwhere(np.diff(timest) > 600):\n",
    "#     print(len(dataset[prev:i[0]+1]))\n",
    "    prev = i+1\n",
    "# print(len(dataset[prev:len(dataset)]))\n",
    "#     X, y = split_sequences(dataset[0:i], n_steps_in, n_steps_out)\n",
    "#     print(X.shape, y.shape)\n",
    "#     for i in range(5, 10):\n",
    "#         print(X[i], y[i])"
   ]
  },
  {
   "cell_type": "code",
   "execution_count": 18,
   "metadata": {},
   "outputs": [
    {
     "data": {
      "text/plain": [
       "array([1.55367659e+09, 1.55367660e+09, 1.55367661e+09, ...,\n",
       "       1.55411269e+09, 1.55411276e+09, 1.55411284e+09])"
      ]
     },
     "execution_count": 18,
     "metadata": {},
     "output_type": "execute_result"
    }
   ],
   "source": [
    "timest"
   ]
  },
  {
   "cell_type": "code",
   "execution_count": 19,
   "metadata": {},
   "outputs": [
    {
     "data": {
      "text/plain": [
       "array([[   0],\n",
       "       [   1],\n",
       "       [   2],\n",
       "       ...,\n",
       "       [8292],\n",
       "       [8293],\n",
       "       [8294]])"
      ]
     },
     "execution_count": 19,
     "metadata": {},
     "output_type": "execute_result"
    }
   ],
   "source": [
    "np.argwhere(np.diff(timest))"
   ]
  },
  {
   "cell_type": "code",
   "execution_count": null,
   "metadata": {},
   "outputs": [],
   "source": []
  }
 ],
 "metadata": {
  "kernelspec": {
   "display_name": "Python 3",
   "language": "python",
   "name": "python3"
  },
  "language_info": {
   "codemirror_mode": {
    "name": "ipython",
    "version": 3
   },
   "file_extension": ".py",
   "mimetype": "text/x-python",
   "name": "python",
   "nbconvert_exporter": "python",
   "pygments_lexer": "ipython3",
   "version": "3.6.7"
  }
 },
 "nbformat": 4,
 "nbformat_minor": 2
}
