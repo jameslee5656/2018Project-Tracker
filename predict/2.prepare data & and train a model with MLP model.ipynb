{
 "cells": [
  {
   "cell_type": "code",
   "execution_count": 1,
   "metadata": {},
   "outputs": [
    {
     "name": "stderr",
     "output_type": "stream",
     "text": [
      "Using TensorFlow backend.\n"
     ]
    },
    {
     "data": {
      "text/plain": [
       "['/job:localhost/replica:0/task:0/device:GPU:0']"
      ]
     },
     "execution_count": 1,
     "metadata": {},
     "output_type": "execute_result"
    }
   ],
   "source": [
    "from keras import backend as K\n",
    "K.tensorflow_backend._get_available_gpus()"
   ]
  },
  {
   "cell_type": "code",
   "execution_count": 2,
   "metadata": {},
   "outputs": [],
   "source": [
    "from pymongo import MongoClient\n",
    "from bson.objectid import ObjectId\n",
    "import time,datetime\n",
    "conn = MongoClient()\n",
    "db = conn.Tracker\n",
    "collection = [db.james]# db.db2, db.dn2, db.james, db.leo\n",
    "clean_data = []\n",
    "for col in collection:\n",
    "    cursor = col.find({})\n",
    "    data = [d for d in cursor]\n",
    "    # print('In',str(col))\n",
    "    count = 0\n",
    "    for dic in data:\n",
    "#         if 'o2_value' and 'hr_value' in dic.keys():\n",
    "#             if (dic['longitude'] != 0) and (dic['longitude'] != '') and (dic['latitude'] != '') \\\n",
    "#                             and (dic['o2_value'] != '') and (dic['hr_value']!= ''):\n",
    "        if 'hr_value' in dic.keys():\n",
    "            if dic['hr_value']  != '':\n",
    "                clean_data.append(dic)"
   ]
  },
  {
   "cell_type": "code",
   "execution_count": 3,
   "metadata": {},
   "outputs": [],
   "source": [
    "import os \n",
    "from datetime import datetime\n",
    "import numpy as np\n",
    "from matplotlib import pyplot as plt"
   ]
  },
  {
   "cell_type": "code",
   "execution_count": 4,
   "metadata": {},
   "outputs": [
    {
     "data": {
      "text/plain": [
       "{'_id': ObjectId('5c88be22c4e5a626a3d9e610'),\n",
       " 'hour': 16,\n",
       " 'year': 2019,\n",
       " 'hr_value': '67',\n",
       " 'step_value': '0',\n",
       " 'longitude': '',\n",
       " 'minute': 24,\n",
       " 'second': 0,\n",
       " 'latitude': '',\n",
       " 'month': 3,\n",
       " 'day': 13,\n",
       " 'o2_value': '96',\n",
       " 'timestamp': 1552465440.0}"
      ]
     },
     "execution_count": 4,
     "metadata": {},
     "output_type": "execute_result"
    }
   ],
   "source": [
    "clean_data[0]"
   ]
  },
  {
   "cell_type": "code",
   "execution_count": 42,
   "metadata": {},
   "outputs": [
    {
     "name": "stdout",
     "output_type": "stream",
     "text": [
      "0 _id 5c88be22c4e5a626a3d9e610\n",
      "1 hour 16\n",
      "2 year 2019\n",
      "3 hr_value 67\n",
      "4 step_value 0\n",
      "5 longitude \n",
      "6 minute 24\n",
      "7 second 0\n",
      "8 latitude \n",
      "9 month 3\n",
      "10 day 13\n",
      "11 o2_value 96\n",
      "12 timestamp 1552465440.0\n"
     ]
    }
   ],
   "source": [
    "for i, line in enumerate(clean_data):\n",
    "    for j, (key, value) in enumerate(line.items()):\n",
    "        print(j , key, value)\n",
    "    break"
   ]
  },
  {
   "cell_type": "code",
   "execution_count": 7,
   "metadata": {},
   "outputs": [],
   "source": [
    "float_data = np.zeros((len(clean_data),1))\n",
    "dic = {3:0, 4:1, 5:2, 8:3, 11:4, 12: 5}\n",
    "for i, line in enumerate(clean_data):\n",
    "    for j, (key, value) in enumerate(line.items()):\n",
    "        if j in [3]:\n",
    "            if value != '':\n",
    "                float_data[i,dic[j]] = float(value)\n",
    "            else:\n",
    "                float_data[i,dic[j]] = 0"
   ]
  },
  {
   "cell_type": "code",
   "execution_count": 8,
   "metadata": {},
   "outputs": [
    {
     "data": {
      "text/plain": [
       "13054"
      ]
     },
     "execution_count": 8,
     "metadata": {},
     "output_type": "execute_result"
    }
   ],
   "source": [
    "len(clean_data)"
   ]
  },
  {
   "cell_type": "code",
   "execution_count": 12,
   "metadata": {},
   "outputs": [
    {
     "data": {
      "text/plain": [
       "[<matplotlib.lines.Line2D at 0x7f16c3d394a8>]"
      ]
     },
     "execution_count": 12,
     "metadata": {},
     "output_type": "execute_result"
    },
    {
     "data": {
      "image/png": "[encoded data removed]",
      "text/plain": [
       "<Figure size 432x288 with 1 Axes>"
      ]
     },
     "metadata": {
      "needs_background": "light"
     },
     "output_type": "display_data"
    }
   ],
   "source": [
    "temp = float_data[:,0]\n",
    "plt.plot(range(len(temp)), temp)"
   ]
  },
  {
   "cell_type": "code",
   "execution_count": 23,
   "metadata": {},
   "outputs": [],
   "source": [
    "def split_sequence(sequence, n_steps):\n",
    "    X, y = list(), list()\n",
    "    for i in range(len(sequence)):\n",
    "        # find the end of the pattern\n",
    "        end_ix = i + n_steps\n",
    "        # check if we are beyond the sequence\n",
    "        if end_ix > len(sequence)-1:\n",
    "            break\n",
    "        # gather input and output parts of the pattern\n",
    "        seq_x, seq_y = sequence[i:end_ix], sequence[end_ix]\n",
    "        X.append(seq_x)\n",
    "        y.append(seq_y)\n",
    "    return np.array(X), np.array(y)"
   ]
  },
  {
   "cell_type": "code",
   "execution_count": 24,
   "metadata": {},
   "outputs": [
    {
     "name": "stdout",
     "output_type": "stream",
     "text": [
      "(13054,)\n",
      "(13054,)\n",
      "[67. 67. 67. 73. 73. 73. 73. 73. 72. 90.]\n"
     ]
    }
   ],
   "source": [
    "print(float_data.shape)\n",
    "float_data = float_data.reshape(len(float_data),)\n",
    "print(float_data.shape)\n",
    "print(float_data[:10])"
   ]
  },
  {
   "cell_type": "code",
   "execution_count": 41,
   "metadata": {},
   "outputs": [
    {
     "name": "stdout",
     "output_type": "stream",
     "text": [
      "(13051, 3) (13051,)\n",
      "(13051, 3, 1)\n"
     ]
    }
   ],
   "source": [
    "X, y = split_sequence(float_data, 3)\n",
    "print(X.shape, y.shape)\n",
    "X_LSTM = X.reshape((X.shape[0], X.shape[1], 1))\n",
    "print(X_LSTM.shape)"
   ]
  },
  {
   "cell_type": "code",
   "execution_count": 27,
   "metadata": {},
   "outputs": [
    {
     "name": "stdout",
     "output_type": "stream",
     "text": [
      "[67. 67. 67.] 73.0\n",
      "[67. 67. 73.] 73.0\n",
      "[67. 73. 73.] 73.0\n",
      "[73. 73. 73.] 73.0\n",
      "[73. 73. 73.] 73.0\n",
      "[73. 73. 73.] 72.0\n",
      "[73. 73. 72.] 90.0\n",
      "[73. 72. 90.] 79.0\n",
      "[72. 90. 79.] 78.0\n",
      "[90. 79. 78.] 80.0\n"
     ]
    }
   ],
   "source": [
    "for i in range(10):\n",
    "    print(X[i], y[i])"
   ]
  },
  {
   "cell_type": "code",
   "execution_count": 30,
   "metadata": {},
   "outputs": [],
   "source": [
    "from keras.models import Sequential\n",
    "from keras import layers"
   ]
  },
  {
   "cell_type": "code",
   "execution_count": 37,
   "metadata": {},
   "outputs": [
    {
     "data": {
      "text/plain": [
       "<keras.callbacks.History at 0x7f16b919fc50>"
      ]
     },
     "execution_count": 37,
     "metadata": {},
     "output_type": "execute_result"
    }
   ],
   "source": [
    "n_steps = 3\n",
    "model = Sequential()\n",
    "model.add(layers.Dense(100, activation='relu', input_dim=n_steps))\n",
    "model.add(layers.Dense(1))\n",
    "model.compile(optimizer='adam', loss='mse')\n",
    "model.fit(X, y, epochs=20, verbose=0)"
   ]
  },
  {
   "cell_type": "code",
   "execution_count": 39,
   "metadata": {},
   "outputs": [
    {
     "name": "stdout",
     "output_type": "stream",
     "text": [
      "[[88.48395]]\n"
     ]
    }
   ],
   "source": [
    "x_input = np.array([97,98,96])\n",
    "x_input = x_input.reshape((1, n_steps))\n",
    "yhat = model.predict(x_input, verbose=0)\n",
    "print(yhat)"
   ]
  },
  {
   "cell_type": "code",
   "execution_count": 43,
   "metadata": {},
   "outputs": [
    {
     "name": "stdout",
     "output_type": "stream",
     "text": [
      "0 _id 5c88be22c4e5a626a3d9e610\n",
      "1 hour 16\n",
      "2 year 2019\n",
      "3 hr_value 67\n",
      "4 step_value 0\n",
      "5 longitude \n",
      "6 minute 24\n",
      "7 second 0\n",
      "8 latitude \n",
      "9 month 3\n",
      "10 day 13\n",
      "11 o2_value 96\n",
      "12 timestamp 1552465440.0\n"
     ]
    }
   ],
   "source": [
    "for i, line in enumerate(clean_data):\n",
    "    for j, (key, value) in enumerate(line.items()):\n",
    "        print(j , key, value)\n",
    "    break"
   ]
  },
  {
   "cell_type": "code",
   "execution_count": 52,
   "metadata": {},
   "outputs": [],
   "source": [
    "float_hr = np.zeros((len(clean_data),1))\n",
    "float_o2 = np.zeros((len(clean_data),1))\n",
    "# dic = {3:0, 4:1, 5:2, 8:3, 11:4, 12: 5}\n",
    "for i, line in enumerate(clean_data):\n",
    "    for j, (key, value) in enumerate(line.items()):\n",
    "        if j is 3:\n",
    "            if value != '':\n",
    "                float_hr[i,0]=float(value)\n",
    "            else:\n",
    "                float_hr[i,0]= 0\n",
    "        elif j is 11:\n",
    "            if value != '':\n",
    "                float_o2[i,0]=float(value)\n",
    "            else:\n",
    "                float_o2[i,0]= 0"
   ]
  },
  {
   "cell_type": "code",
   "execution_count": 60,
   "metadata": {},
   "outputs": [
    {
     "name": "stdout",
     "output_type": "stream",
     "text": [
      "(13054, 1)\n",
      "(13054, 2, 1)\n",
      "[[67.]\n",
      " [96.]]\n"
     ]
    }
   ],
   "source": [
    "out_seq = np.array([(float_hr[x], float_o2[x]) for x in range(len(float_o2))])\n",
    "print(float_hr.shape)\n",
    "print(out_seq.shape)\n",
    "print(out_seq[0])"
   ]
  },
  {
   "cell_type": "code",
   "execution_count": 66,
   "metadata": {},
   "outputs": [
    {
     "name": "stdout",
     "output_type": "stream",
     "text": [
      "[[67. 96. 67. 96.]\n",
      " [67. 96. 67. 96.]\n",
      " [67. 96. 67. 96.]\n",
      " [73. 97. 73. 97.]\n",
      " [73. 97. 73. 97.]\n",
      " [73. 97. 73. 97.]\n",
      " [73. 97. 73. 97.]\n",
      " [73. 97. 73. 97.]\n",
      " [72. 96. 72. 96.]\n",
      " [90. 98. 90. 98.]]\n"
     ]
    }
   ],
   "source": [
    "float_hr = float_hr.reshape((len(float_hr), 1))\n",
    "float_o2 = float_o2.reshape((len(float_o2), 1))\n",
    "out_seq = out_seq.reshape((len(out_seq), 2))\n",
    "dataset  = np.hstack((float_hr, float_o2, out_seq))\n",
    "print(dataset[:10])"
   ]
  },
  {
   "cell_type": "code",
   "execution_count": 120,
   "metadata": {},
   "outputs": [],
   "source": [
    "def split_sequences(sequences, n_steps):\n",
    "    X, y = list(), list()\n",
    "    for i in range(len(sequences)):\n",
    "        end_ix = i + n_steps\n",
    "        if end_ix > len(sequences)-1:\n",
    "            break\n",
    "        seq_x, seq_y = sequences[i:end_ix, :-2], sequences[end_ix, :-2]\n",
    "        X.append(seq_x)\n",
    "        y.append(seq_y)\n",
    "    return np.array(X), np.array(y)"
   ]
  },
  {
   "cell_type": "code",
   "execution_count": 130,
   "metadata": {},
   "outputs": [
    {
     "name": "stdout",
     "output_type": "stream",
     "text": [
      "(13051, 3, 2) (13051, 2)\n",
      "[[73. 97.]\n",
      " [73. 97.]\n",
      " [73. 97.]] [72. 96.]\n",
      "[[73. 97.]\n",
      " [73. 97.]\n",
      " [72. 96.]] [90. 98.]\n",
      "[[73. 97.]\n",
      " [72. 96.]\n",
      " [90. 98.]] [79. 98.]\n",
      "[[72. 96.]\n",
      " [90. 98.]\n",
      " [79. 98.]] [78. 97.]\n",
      "[[90. 98.]\n",
      " [79. 98.]\n",
      " [78. 97.]] [80. 97.]\n"
     ]
    }
   ],
   "source": [
    "X, y = split_sequences(dataset, n_steps)\n",
    "print(X.shape, y.shape)\n",
    "for i in range(5, 10):\n",
    "    print(X[i], y[i])"
   ]
  },
  {
   "cell_type": "code",
   "execution_count": 131,
   "metadata": {},
   "outputs": [],
   "source": [
    "n_input = X.shape[1] * X.shape[2]\n",
    "X = X.reshape((X.shape[0], n_input))\n",
    "n_ouput = y.shape[1]"
   ]
  },
  {
   "cell_type": "code",
   "execution_count": 132,
   "metadata": {},
   "outputs": [
    {
     "data": {
      "text/plain": [
       "<keras.callbacks.History at 0x7f16c11526a0>"
      ]
     },
     "execution_count": 132,
     "metadata": {},
     "output_type": "execute_result"
    }
   ],
   "source": [
    "model = Sequential()\n",
    "model.add(layers.Dense(100, activation='relu', input_dim=n_input))\n",
    "model.add(layers.Dense(n_ouput))\n",
    "model.compile(optimizer='adam', loss='mse')\n",
    "model.fit(X, y, epochs=20, verbose=0)"
   ]
  },
  {
   "cell_type": "code",
   "execution_count": 136,
   "metadata": {},
   "outputs": [
    {
     "name": "stdout",
     "output_type": "stream",
     "text": [
      "[[73.276505 97.779594]]\n"
     ]
    }
   ],
   "source": [
    "x_input = np.array([[73., 97.],[73., 97.], [73., 97.]])\n",
    "x_input = x_input.reshape((1, n_input))\n",
    "yhat = model.predict(x_input, verbose=0)\n",
    "print(yhat)"
   ]
  },
  {
   "cell_type": "code",
   "execution_count": null,
   "metadata": {},
   "outputs": [],
   "source": []
  }
 ],
 "metadata": {
  "kernelspec": {
   "display_name": "Python 3",
   "language": "python",
   "name": "python3"
  },
  "language_info": {
   "codemirror_mode": {
    "name": "ipython",
    "version": 3
   },
   "file_extension": ".py",
   "mimetype": "text/x-python",
   "name": "python",
   "nbconvert_exporter": "python",
   "pygments_lexer": "ipython3",
   "version": "3.6.7"
  }
 },
 "nbformat": 4,
 "nbformat_minor": 2
}
