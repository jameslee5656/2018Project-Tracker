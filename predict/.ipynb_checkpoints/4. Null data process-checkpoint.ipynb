{
 "cells": [
  {
   "cell_type": "code",
   "execution_count": 104,
   "metadata": {},
   "outputs": [],
   "source": [
    "from pymongo import MongoClient\n",
    "from bson.objectid import ObjectId\n",
    "import time,datetime\n",
    "conn = MongoClient()\n",
    "db = conn.Tracker\n",
    "collection = [db.james]# db.db2, db.dn2, db.james, db.leo\n",
    "clean_data = []\n",
    "for col in collection:\n",
    "    cursor = col.find({})\n",
    "    data = [d for d in cursor]\n",
    "    # print('In',str(col))\n",
    "    count = 0\n",
    "    for dic in data:\n",
    "#         if 'o2_value' and 'hr_value' in dic.keys():\n",
    "#             if (dic['longitude'] != 0) and (dic['longitude'] != '') and (dic['latitude'] != '') \\\n",
    "#                             and (dic['o2_value'] != '') and (dic['hr_value']!= ''):\n",
    "        if 'hr_value' in dic.keys():\n",
    "            if dic['hr_value']  != '' and dic['timestamp'] != 3:\n",
    "                clean_data.append(dic)"
   ]
  },
  {
   "cell_type": "code",
   "execution_count": 35,
   "metadata": {},
   "outputs": [],
   "source": [
    "import os \n",
    "from datetime import datetime\n",
    "import numpy as np\n",
    "import collections\n",
    "from matplotlib import pyplot as plt"
   ]
  },
  {
   "cell_type": "code",
   "execution_count": 94,
   "metadata": {},
   "outputs": [
    {
     "name": "stdout",
     "output_type": "stream",
     "text": [
      "419862.0\n",
      "0.3250170294048997\n"
     ]
    }
   ],
   "source": [
    "lis = []\n",
    "count = 0\n",
    "misstime = 0\n",
    "for i in range(len(clean_data) - 1):\n",
    "    lis.append(clean_data[i+1]['timestamp'] - clean_data[i]['timestamp'])\n",
    "    if clean_data[i+1]['timestamp'] - clean_data[i]['timestamp'] > 18:\n",
    "        misstime += clean_data[i+1]['timestamp'] - clean_data[i]['timestamp']\n",
    "print\n",
    "print(max(lis) - min(lis))\n",
    "print((misstime / 10)/(max(lis) - min(lis)))"
   ]
  },
  {
   "cell_type": "code",
   "execution_count": 14,
   "metadata": {},
   "outputs": [
    {
     "data": {
      "text/plain": [
       "[<matplotlib.lines.Line2D at 0x7f97dd2ff550>]"
      ]
     },
     "execution_count": 14,
     "metadata": {},
     "output_type": "execute_result"
    },
    {
     "data": {
      "image/png": "[encoded data removed]",
      "text/plain": [
       "<Figure size 432x288 with 1 Axes>"
      ]
     },
     "metadata": {
      "needs_background": "light"
     },
     "output_type": "display_data"
    }
   ],
   "source": [
    "temp = np.array(lis)\n",
    "plt.plot(range(len(temp)), temp)"
   ]
  },
  {
   "cell_type": "code",
   "execution_count": 125,
   "metadata": {},
   "outputs": [],
   "source": [
    "float_hr = np.zeros((len(clean_data),1))\n",
    "float_o2 = np.zeros((len(clean_data),1))\n",
    "float_timestamp = np.zeros((len(clean_data),1))\n",
    "# dic = {3:0, 4:1, 5:2, 8:3, 11:4, 12: 5}\n",
    "for i, line in enumerate(clean_data):\n",
    "    for j, (key, value) in enumerate(line.items()):\n",
    "        if key == 'hr_value':\n",
    "            if value != '':\n",
    "                float_hr[i,0] = float(value)\n",
    "            else:\n",
    "                float_hr[i,0]= 0\n",
    "        elif key == 'o2_value':\n",
    "            if value != '':\n",
    "                float_o2[i,0]=float(value)\n",
    "            else:\n",
    "                float_o2[i,0]= 0\n",
    "        elif key == 'timestamp':\n",
    "            if value == 3:\n",
    "                print(i, line)\n",
    "                print(j,key, value)\n",
    "            float_timestamp[i,0] = float(value)"
   ]
  },
  {
   "cell_type": "code",
   "execution_count": 32,
   "metadata": {},
   "outputs": [
    {
     "data": {
      "text/plain": [
       "30.074673304293714"
      ]
     },
     "execution_count": 32,
     "metadata": {},
     "output_type": "execute_result"
    }
   ],
   "source": [
    "np.true_divide(float_hr.sum(), (float_hr!=0).sum() )"
   ]
  },
  {
   "cell_type": "code",
   "execution_count": 66,
   "metadata": {},
   "outputs": [
    {
     "data": {
      "text/plain": [
       "86.33811074918567"
      ]
     },
     "execution_count": 66,
     "metadata": {},
     "output_type": "execute_result"
    }
   ],
   "source": [
    "np.true_divide(float_o2.sum(), (float_o2!=0).sum())"
   ]
  },
  {
   "cell_type": "code",
   "execution_count": 33,
   "metadata": {},
   "outputs": [
    {
     "data": {
      "text/plain": [
       "12856"
      ]
     },
     "execution_count": 33,
     "metadata": {},
     "output_type": "execute_result"
    }
   ],
   "source": [
    "(float_hr!=0).sum()"
   ]
  },
  {
   "cell_type": "code",
   "execution_count": 46,
   "metadata": {},
   "outputs": [
    {
     "data": {
      "text/plain": [
       "29.0"
      ]
     },
     "execution_count": 46,
     "metadata": {},
     "output_type": "execute_result"
    }
   ],
   "source": [
    "float_hr = float_hr.reshape(float_hr.shape[0],)\n",
    "np.median(float_hr)"
   ]
  },
  {
   "cell_type": "code",
   "execution_count": 52,
   "metadata": {},
   "outputs": [
    {
     "data": {
      "text/plain": [
       "[<matplotlib.lines.Line2D at 0x7f97fe332f60>]"
      ]
     },
     "execution_count": 52,
     "metadata": {},
     "output_type": "execute_result"
    },
    {
     "data": {
      "image/png": "[encoded data removed]",
      "text/plain": [
       "<Figure size 432x288 with 1 Axes>"
      ]
     },
     "metadata": {
      "needs_background": "light"
     },
     "output_type": "display_data"
    }
   ],
   "source": [
    "temp = np.array([x['hr_value'] for x in clean_data])\n",
    "plt.plot(range(len(temp)), temp)"
   ]
  },
  {
   "cell_type": "code",
   "execution_count": 63,
   "metadata": {},
   "outputs": [],
   "source": [
    "mu, sigma = 60, 20\n",
    "s = np.random.normal(mu, sigma, 1)"
   ]
  },
  {
   "cell_type": "code",
   "execution_count": 61,
   "metadata": {},
   "outputs": [
    {
     "data": {
      "image/png": "[encoded data removed]",
      "text/plain": [
       "<Figure size 360x360 with 1 Axes>"
      ]
     },
     "metadata": {},
     "output_type": "display_data"
    }
   ],
   "source": [
    "count, bins, ignored = plt.hist(s, 30, normed=True)\n",
    "plt.plot(bins, 1/(sigma * np.sqrt(2 * np.pi)) *\n",
    "         np.exp( - (bins - mu)**2 / (2 * sigma**2) ),\n",
    "        linewidth=2, color='r')\n",
    "plt.show()"
   ]
  },
  {
   "cell_type": "code",
   "execution_count": 65,
   "metadata": {},
   "outputs": [
    {
     "name": "stdout",
     "output_type": "stream",
     "text": [
      "[55.74167416]\n",
      "[63.83278819]\n",
      "[71.70104603]\n",
      "[65.46217935]\n",
      "[43.90019465]\n",
      "[61.96431068]\n",
      "[39.42164695]\n",
      "[64.49435814]\n",
      "[33.06027172]\n",
      "[14.63582817]\n"
     ]
    }
   ],
   "source": [
    "for _ in range(10):\n",
    "    s = np.random.normal(mu, sigma, 1)\n",
    "    print(s)"
   ]
  },
  {
   "cell_type": "code",
   "execution_count": 181,
   "metadata": {},
   "outputs": [
    {
     "name": "stdout",
     "output_type": "stream",
     "text": [
      "1201 13054\n"
     ]
    }
   ],
   "source": [
    "mu, sigma = 60, 20\n",
    "s = np.random.normal(mu, sigma, 1)\n",
    "# np.true_divide(float_o2.sum(), (float_o2!=0).sum())\n",
    "lis = list(float_timestamp.reshape(len(float_timestamp),).astype(int))\n",
    "maxtime = int(max(float_timestamp.reshape(len(float_timestamp),))) \n",
    "mintime = int(min(float_timestamp.reshape(len(float_timestamp),)))\n",
    "count = 0\n",
    "# print((maxtime - mintime) / 10)\n",
    "# print(len(float_timestamp))\n",
    "for i in range(mintime,maxtime,10):\n",
    "    if i in list(lis):\n",
    "        count += 1# too slow\n",
    "print(count, len(lis))"
   ]
  },
  {
   "cell_type": "code",
   "execution_count": 182,
   "metadata": {},
   "outputs": [
    {
     "data": {
      "text/plain": [
       "1480494"
      ]
     },
     "execution_count": 182,
     "metadata": {},
     "output_type": "execute_result"
    }
   ],
   "source": [
    "maxtime - mintime"
   ]
  },
  {
   "cell_type": "code",
   "execution_count": null,
   "metadata": {},
   "outputs": [],
   "source": []
  }
 ],
 "metadata": {
  "kernelspec": {
   "display_name": "Python 3",
   "language": "python",
   "name": "python3"
  },
  "language_info": {
   "codemirror_mode": {
    "name": "ipython",
    "version": 3
   },
   "file_extension": ".py",
   "mimetype": "text/x-python",
   "name": "python",
   "nbconvert_exporter": "python",
   "pygments_lexer": "ipython3",
   "version": "3.6.7"
  }
 },
 "nbformat": 4,
 "nbformat_minor": 2
}
