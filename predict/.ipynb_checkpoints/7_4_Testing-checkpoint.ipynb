{
 "cells": [
  {
   "cell_type": "code",
   "execution_count": 74,
   "metadata": {},
   "outputs": [],
   "source": [
    "from pymongo import MongoClient\n",
    "from bson.objectid import ObjectId\n",
    "\n",
    "import datetime\n",
    "\n",
    "import pandas as pd\n",
    "import pandas_datareader.data as web\n",
    "import numpy as np"
   ]
  },
  {
   "cell_type": "code",
   "execution_count": 78,
   "metadata": {},
   "outputs": [],
   "source": [
    "def insert_rank_relationship():\n",
    "    conn = MongoClient('120.126.136.17')\n",
    "    db = conn.Tracker\n",
    "    collection = [db.prediction]# db.db2, db.dn2, db.james, db.leo\n",
    "    user = []\n",
    "\n",
    "    for col in collection:\n",
    "        cursor = col.find({})\n",
    "        prediction = pd.DataFrame(list(cursor))\n",
    "    timedf = prediction.loc[(prediction['month'] == datetime.datetime.now().month) \n",
    "                            & (prediction['day']== datetime.datetime.now().day) \n",
    "                            & (prediction['hour'] == datetime.datetime.now().hour)].reset_index()\n",
    "    timedf.drop(['index','_id'], inplace=True, axis=1)\n",
    "    timedf = timedf.set_index('user')\n",
    "    for i in timedf.index:\n",
    "        timedf[i] = 0\n",
    "    for index, row in timedf.iterrows():\n",
    "        for i in timedf.index:\n",
    "            timedf.loc[index,i] = timedf.loc[index,'totalsteps'] - timedf.loc[i,'totalsteps']\n",
    "    timedf.drop(['prediction', 'totalsteps', 'type'], inplace=True, axis=1)\n",
    "    records = timedf.to_dict('records')\n",
    "    collection = db.rank\n",
    "    collection.insert_many(records)"
   ]
  },
  {
   "cell_type": "code",
   "execution_count": 82,
   "metadata": {},
   "outputs": [
    {
     "data": {
      "text/plain": [
       "<pymongo.results.InsertManyResult at 0x7f772c4a7888>"
      ]
     },
     "execution_count": 82,
     "metadata": {},
     "output_type": "execute_result"
    }
   ],
   "source": [
    "insert_rank_relationship()"
   ]
  },
  {
   "cell_type": "code",
   "execution_count": 11,
   "metadata": {},
   "outputs": [],
   "source": [
    "collection = [db[df_user['username'][0]]]# db.db2, db.dn2, db.james, db.leo\n",
    "user = []\n",
    "for col in collection:\n",
    "    cursor = col.find({})\n",
    "    df = pd.DataFrame(list(cursor))"
   ]
  },
  {
   "cell_type": "code",
   "execution_count": 83,
   "metadata": {},
   "outputs": [
    {
     "ename": "NameError",
     "evalue": "name 'insert_rank_relationship' is not defined",
     "output_type": "error",
     "traceback": [
      "\u001b[0;31m---------------------------------------------------------------------------\u001b[0m",
      "\u001b[0;31mNameError\u001b[0m                                 Traceback (most recent call last)",
      "\u001b[0;32m<ipython-input-83-66e8de84e723>\u001b[0m in \u001b[0;36m<module>\u001b[0;34m\u001b[0m\n\u001b[0;32m----> 1\u001b[0;31m \u001b[0minsert_rank_relationship\u001b[0m\u001b[0;34m\u001b[0m\u001b[0;34m\u001b[0m\u001b[0m\n\u001b[0m",
      "\u001b[0;31mNameError\u001b[0m: name 'insert_rank_relationship' is not defined"
     ]
    }
   ],
   "source": [
    "insert_rank_relationship"
   ]
  },
  {
   "cell_type": "code",
   "execution_count": null,
   "metadata": {},
   "outputs": [],
   "source": []
  }
 ],
 "metadata": {
  "kernelspec": {
   "display_name": "Python 3",
   "language": "python",
   "name": "python3"
  },
  "language_info": {
   "codemirror_mode": {
    "name": "ipython",
    "version": 3
   },
   "file_extension": ".py",
   "mimetype": "text/x-python",
   "name": "python",
   "nbconvert_exporter": "python",
   "pygments_lexer": "ipython3",
   "version": "3.6.7"
  }
 },
 "nbformat": 4,
 "nbformat_minor": 2
}
