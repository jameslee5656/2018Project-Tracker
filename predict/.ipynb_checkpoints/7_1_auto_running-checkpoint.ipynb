{
 "cells": [
  {
   "cell_type": "code",
   "execution_count": 1,
   "metadata": {},
   "outputs": [
    {
     "name": "stderr",
     "output_type": "stream",
     "text": [
      "Using TensorFlow backend.\n"
     ]
    },
    {
     "data": {
      "text/plain": [
       "['/job:localhost/replica:0/task:0/device:GPU:0']"
      ]
     },
     "execution_count": 1,
     "metadata": {},
     "output_type": "execute_result"
    }
   ],
   "source": [
    "from keras import backend as K\n",
    "K.tensorflow_backend._get_available_gpus()"
   ]
  },
  {
   "cell_type": "code",
   "execution_count": 2,
   "metadata": {},
   "outputs": [],
   "source": [
    "from pymongo import MongoClient\n",
    "from bson.objectid import ObjectId\n",
    "\n",
    "import time,datetime\n",
    "import os\n",
    "\n",
    "import pandas as pd\n",
    "import pandas_datareader.data as web\n",
    "import numpy as np\n",
    "\n",
    "import matplotlib.pyplot as plt\n",
    "from matplotlib import style\n",
    "\n",
    "from keras.models import Model, Sequential\n",
    "from keras.layers import Input\n",
    "from keras.layers import Dense\n",
    "from keras.layers import Flatten\n",
    "from keras.layers.convolutional import Conv1D\n",
    "from keras.layers.convolutional import MaxPooling1D\n",
    "import keras\n",
    "\n",
    "from sklearn import preprocessing\n",
    "\n",
    "from copy import deepcopy\n",
    "from IPython.display import clear_output"
   ]
  },
  {
   "cell_type": "code",
   "execution_count": 3,
   "metadata": {},
   "outputs": [],
   "source": [
    "style.use('ggplot')"
   ]
  },
  {
   "cell_type": "code",
   "execution_count": 4,
   "metadata": {},
   "outputs": [],
   "source": [
    "conn = MongoClient('120.126.136.17')\n",
    "db = conn.Tracker\n",
    "collection = [db.james]# db.db2, db.dn2, db.james, db.leo\n",
    "clean_data = []\n",
    "for col in collection:\n",
    "    cursor = col.find({})\n",
    "    df = pd.DataFrame(list(cursor))\n",
    "    \n",
    "df.replace('', np.nan, inplace=True)\n",
    "df.fillna(method='ffill', inplace=True)\n",
    "\n",
    "df['hr_value'] = df['hr_value'].astype(float)\n",
    "df['o2_value'] = df['o2_value'].astype(float)\n",
    "df['latitude'] = df['latitude'].astype(float)\n",
    "df['longitude'] = df['longitude'].astype(float)\n",
    "df['step_value'] = df['step_value'].astype(float)\n",
    "\n",
    "df = df[(df['hr_value'] != 0)]\n",
    "# map out the weekday\n",
    "df['weekday'] = df['timestamp'].apply(lambda x: datetime.datetime.fromtimestamp(x).strftime('%w'))\n",
    "df['week'] = df['timestamp'].apply(lambda x: datetime.datetime.fromtimestamp(x).isocalendar()[1]\n",
    "          - (datetime.datetime.fromtimestamp(x).isoweekday() < 7)) # do this so that week may start on sunday"
   ]
  },
  {
   "cell_type": "code",
   "execution_count": 5,
   "metadata": {},
   "outputs": [],
   "source": [
    "dfsteptotal = pd.DataFrame()\n",
    "dfsteptotal = df[['week', 'weekday']].set_index(['week', 'weekday'])\n",
    "dfsteptotal = dfsteptotal[~dfsteptotal.index.duplicated(keep='first')]\n",
    "dfsteptotal['steps'] = 0\n",
    "dfsteptotal.reset_index(inplace=True)\n",
    "dfadd = pd.DataFrame({'week' : [12], 'weekday':['5'], 'steps':[0]})\n",
    "dfsteptotal = dfsteptotal.append(dfadd, ignore_index=True)\n",
    "dfsteptotal = dfsteptotal.set_index(['week', 'weekday'])\n",
    "dfsteptotal.sort_index(inplace=True)"
   ]
  },
  {
   "cell_type": "code",
   "execution_count": 6,
   "metadata": {},
   "outputs": [],
   "source": [
    "# here I map between integer and the sting it's mean\n",
    "timeslidemap = {0:'morning', 1:'afternoon', 2:'evening'}\n",
    "basestamp = df['timestamp'][0]\n",
    "endstamp = df['timestamp'][-1:].values[0]\n",
    "# for num, row in df[:30000].iterrows():\n",
    "while True:\n",
    "    try:\n",
    "        dfbetween = df.loc[df['timestamp'].between(\n",
    "            datetime.datetime.fromtimestamp(basestamp).replace(hour=0,minute=0,second=0).timestamp(),\n",
    "            datetime.datetime.fromtimestamp(basestamp).replace(hour=23,minute=59,second=59).timestamp()\n",
    "                    , inclusive=True)]\n",
    "        steps = dfbetween['step_value'].sum()\n",
    "    #     print(int(datetime.datetime.fromtimestamp(basestamp).strftime('%m')),\n",
    "    #             int(datetime.datetime.fromtimestamp(basestamp).strftime('%d')),\n",
    "    #                 timeslidemap[estimedevide])\n",
    "\n",
    "        dfsteptotal.loc[[(datetime.datetime.fromtimestamp(basestamp).isocalendar()[1] - \n",
    "                                    (datetime.datetime.fromtimestamp(basestamp).isoweekday() < 7),\n",
    "                            datetime.datetime.fromtimestamp(basestamp).strftime('%w'))], \n",
    "                                           ['steps']] += steps\n",
    "\n",
    "        basestamp = (datetime.datetime.fromtimestamp(basestamp) + datetime.timedelta(days=1)).timestamp()\n",
    "        if basestamp > endstamp:\n",
    "            break\n",
    "    except Exception as e:\n",
    "        print(str(e))\n",
    "        basestamp = (datetime.datetime.fromtimestamp(basestamp) + datetime.timedelta(days=1)).timestamp()\n",
    "#     else:\n",
    "#         print(datetime.datetime.fromtimestamp(basestamp) ,datetime.datetime.fromtimestamp(endstamp))"
   ]
  },
  {
   "cell_type": "code",
   "execution_count": 7,
   "metadata": {},
   "outputs": [],
   "source": [
    "dfsteptotal.loc[(12,'5')] = dfsteptotal.xs('5', level=1).sum() / (dfsteptotal.xs('5', level=1).count() - 1)\n",
    "dfsteptotal['Comfort'] = 0\n",
    "dfsteptotal['Precp'] = 0"
   ]
  },
  {
   "cell_type": "code",
   "execution_count": 8,
   "metadata": {},
   "outputs": [
    {
     "name": "stdout",
     "output_type": "stream",
     "text": [
      "2019-03-27\n",
      "2019-03-28\n",
      "2019-03-29\n",
      "2019-03-30\n",
      "2019-03-31\n",
      "2019-04-01\n",
      "2019-04-02\n",
      "2019-04-03\n",
      "2019-04-04\n",
      "2019-04-05\n",
      "2019-04-06\n",
      "2019-04-07\n",
      "2019-04-08\n",
      "2019-04-09\n",
      "2019-04-10\n",
      "2019-04-11\n",
      "2019-04-12\n",
      "2019-04-13\n",
      "2019-04-14\n",
      "2019-04-15\n",
      "2019-04-16\n",
      "2019-04-17\n",
      "2019-04-18\n",
      "2019-04-19\n",
      "2019-04-20\n",
      "2019-04-21\n",
      "2019-04-22\n",
      "2019-04-23\n",
      "2019-04-24\n",
      "2019-04-25\n",
      "some data are not yet ready\n"
     ]
    }
   ],
   "source": [
    "# add wether \n",
    "coding = 'utf-8'\n",
    "table = pd.DataFrame()\n",
    "basetime = datetime.date(2019,3,27)\n",
    "num = 0\n",
    "for index, row in dfsteptotal.iterrows():\n",
    "    try:\n",
    "        # parsing part\n",
    "        date = basetime + datetime.timedelta(days = num)\n",
    "        print(date)\n",
    "        num += 1\n",
    "        dateStr = date.strftime('%Y-%m-%d')\n",
    "        url = 'https://e-service.cwb.gov.tw/HistoryDataQuery/DayDataController.do?command=viewMain&station=C0AC60'+ \\\n",
    "            '&stname=%25E4%25B8%2589%25E5%25B3%25BD&datepicker=' + dateStr\n",
    "        table = pd.read_html(url,encoding=coding,index_col=0,header=None,flavor='bs4')[1]\n",
    "        # start dataprocess\n",
    "        table.replace('/', np.nan, inplace=True)\n",
    "        table.replace('X', np.nan, inplace=True)  \n",
    "        table.fillna(method='ffill', inplace=True)\n",
    "        table.index -= 1\n",
    "        dfoneday = pd.DataFrame()\n",
    "        # the table data need to reshape and turn to a variable\n",
    "        T = table['temperature'].values.reshape(len(table['temperature'].values)).astype('float')\n",
    "        RH = table['RH'].values.reshape(len(table['RH'].values)).astype('float')\n",
    "        dfoneday['comfort'] = T - 0.55 *(1-RH/100)*(T - 14)\n",
    "        dfoneday['Precp'] = table['Precp']['降水量(mm)']\n",
    "        bins = [0,11,16,20,27,31,60]\n",
    "        labels=[0,1,2,3,4,5]\n",
    "        dfoneday['bins'] = pd.cut(dfoneday['comfort'], bins=bins, labels=labels, include_lowest=True)\n",
    "        # mComfort aComfort eComfort mPrecp aPrecp ePrecp\n",
    "        dfsteptotal.loc[[index], ['Comfort']] = dfoneday['bins'].astype(int).mean()\n",
    "        dfoneday['Precp'].astype(float)\n",
    "        dfsteptotal.loc[[index], ['Precp']] = dfoneday['Precp'].astype(float).sum()\n",
    "    except Exception as e:\n",
    "        if str(e) == \"could not convert string to float: '...'\":\n",
    "            print('some data are not yet ready')\n",
    "            break"
   ]
  },
  {
   "cell_type": "code",
   "execution_count": 9,
   "metadata": {},
   "outputs": [],
   "source": [
    "# split a multivariate sequence into samples\n",
    "def split_sequences(sequences, n_steps):\n",
    "    X, y = list(), list()\n",
    "    for i in range(len(sequences[0])):\n",
    "        # find the end of this pattern\n",
    "        end_ix = i + n_steps\n",
    "        # check if we are beyond the dataset\n",
    "        if end_ix > len(sequences[0])-1:\n",
    "            break\n",
    "        # gather input and output parts of the pattern\n",
    "        seq_x = sequences[0][i:end_ix].reshape(len(sequences[0][i:end_ix]),1) \n",
    "        seq_x = np.append(seq_x, sequences[1][i:end_ix].reshape(len(sequences[1][i:end_ix]),1), axis=1)\n",
    "        seq_x = np.append(seq_x, sequences[2][i:end_ix].reshape(len(sequences[2][i:end_ix]),1), axis=1)\n",
    "        seq_y1 =  sequences[0][end_ix]\n",
    "        X.append(seq_x)\n",
    "        y.append(seq_y1)\n",
    "    return np.array(X), np.array(y)"
   ]
  },
  {
   "cell_type": "code",
   "execution_count": 54,
   "metadata": {},
   "outputs": [],
   "source": [
    "steps = dfsteptotal['steps'][:-1].values\n",
    "Comfort = dfsteptotal['Comfort'][:-1].values\n",
    "Precp = dfsteptotal['Precp'][:-1].values\n",
    "\n",
    "scaler = preprocessing.StandardScaler()\n",
    "dataset = np.array([steps, Comfort, Precp])\n",
    "\n",
    "scaler = preprocessing.StandardScaler()\n",
    "dataset = np.array([steps, Comfort, Precp])\n",
    "normalized_dataset = scaler.fit_transform(dataset)\n",
    "n_steps = 3\n",
    "X, y = split_sequences(normalized_dataset, n_steps)"
   ]
  },
  {
   "cell_type": "code",
   "execution_count": 11,
   "metadata": {},
   "outputs": [
    {
     "name": "stdout",
     "output_type": "stream",
     "text": [
      "_________________________________________________________________\n",
      "Layer (type)                 Output Shape              Param #   \n",
      "=================================================================\n",
      "lstm_1 (LSTM)                (None, 3, 100)            41600     \n",
      "_________________________________________________________________\n",
      "lstm_2 (LSTM)                (None, 100)               80400     \n",
      "_________________________________________________________________\n",
      "dense_1 (Dense)              (None, 1)                 101       \n",
      "=================================================================\n",
      "Total params: 122,101\n",
      "Trainable params: 122,101\n",
      "Non-trainable params: 0\n",
      "_________________________________________________________________\n"
     ]
    }
   ],
   "source": [
    "n_features = 3\n",
    "model = Sequential()\n",
    "model.add(keras.layers.LSTM(100,activation='relu', return_sequences=True,input_shape=(n_steps, n_features)))\n",
    "# model.add(MaxPooling1D(pool_size=2))\n",
    "# model.add(Flatten())\n",
    "# model.add(Dense(50 ,activation='relu'))\n",
    "model.add(keras.layers.LSTM(100, activation='relu'))\n",
    "model.add(Dense(1))\n",
    "model.compile(optimizer='adam', loss='mse')\n",
    "model.summary()"
   ]
  },
  {
   "cell_type": "code",
   "execution_count": null,
   "metadata": {},
   "outputs": [],
   "source": [
    "history = model.fit(X, y, epochs=100, verbose=0, batch_size=128, validation_split=0.2)"
   ]
  },
  {
   "cell_type": "code",
   "execution_count": null,
   "metadata": {},
   "outputs": [],
   "source": [
    "%matplotlib notebook\n",
    "loss = history.history['loss']\n",
    "val_loss = history.history['val_loss']\n",
    "# acc = history.history['acc']\n",
    "# val_acc = history.history['val_acc']\n",
    "epochs = range(1, len(loss) + 1)\n",
    "plt.plot(epochs, loss, 'bo')\n",
    "plt.plot(epochs, val_loss, 'b')\n",
    "plt.show()"
   ]
  },
  {
   "cell_type": "code",
   "execution_count": 46,
   "metadata": {},
   "outputs": [],
   "source": [
    "# split a multivariate sequence into samples\n",
    "def split_sequences_for_predict(sequences, n_steps):\n",
    "    X, y = list(), list()\n",
    "    for i in range(len(sequences[0])):\n",
    "        # find the end of this pattern\n",
    "        end_ix = i + n_steps\n",
    "        # check if we are beyond the dataset\n",
    "        if end_ix > len(sequences[0]):\n",
    "            break\n",
    "        # gather input and output parts of the pattern\n",
    "        seq_x = sequences[i:end_ix].reshape(len(sequences[0][i:end_ix]),1) \n",
    "        seq_x = np.append(seq_x, sequences[1][i:end_ix].reshape(len(sequences[1][i:end_ix]),1), axis=1)\n",
    "        seq_x = np.append(seq_x, sequences[2][i:end_ix].reshape(len(sequences[2][i:end_ix]),1), axis=1)\n",
    "        X.append(seq_x)\n",
    "    return np.array(X)"
   ]
  },
  {
   "cell_type": "code",
   "execution_count": 106,
   "metadata": {},
   "outputs": [
    {
     "name": "stdout",
     "output_type": "stream",
     "text": [
      "[[1.15150000e+04 7.37600000e+03 8.27800000e+03]\n",
      " [3.25000000e+00 3.29166667e+00 3.41666667e+00]\n",
      " [1.00000000e+00 0.00000000e+00 0.00000000e+00]]\n",
      "[[[ 1.93511609  0.99227428  1.197745  ]\n",
      "  [-0.68719827 -0.68718878 -0.68716031]\n",
      "  [-0.68771081 -0.6879386  -0.6879386 ]]]\n"
     ]
    }
   ],
   "source": [
    "newdataset = dataset[:, -3:]\n",
    "print(dataset[:, -3:])\n",
    "normalized_dataset = scaler.fit_transform(newdataset.reshape(-1,1))\n",
    "normalized_dataset = normalized_dataset.reshape(1,3,3)\n",
    "print(normalized_dataset)\n",
    "# X = split_sequences_for_predict(normalized_dataset, n_steps)"
   ]
  },
  {
   "cell_type": "code",
   "execution_count": 107,
   "metadata": {},
   "outputs": [],
   "source": [
    "p = model.predict(normalized_dataset)[0]"
   ]
  },
  {
   "cell_type": "code",
   "execution_count": 130,
   "metadata": {},
   "outputs": [],
   "source": [
    "prediction = int(scaler.inverse_transform(p))"
   ]
  },
  {
   "cell_type": "code",
   "execution_count": 126,
   "metadata": {},
   "outputs": [],
   "source": [
    "date = basetime + datetime.timedelta(days = num)\n",
    "dateStr = date.strftime('%Y-%m-%d')\n",
    "lis = dateStr.split('-')\n",
    "lis = list(map(int, lis))"
   ]
  },
  {
   "cell_type": "code",
   "execution_count": null,
   "metadata": {},
   "outputs": [],
   "source": [
    "conn = MongoClient()\n",
    "db = conn.Tracker\n",
    "collection = db.prediction# db.db2, db.dn2, db.james, db.leo\n",
    "# clean_data = []\n",
    "# for col in collection:\n",
    "#     cursor = col.find({})\n",
    "#     df = pd.DataFrame(list(cursor))\n",
    "mydict = { 'year':lis[0], 'month':lis[1], 'day':lis[2], 'prediction':prediction}"
   ]
  }
 ],
 "metadata": {
  "kernelspec": {
   "display_name": "Python 3",
   "language": "python",
   "name": "python3"
  },
  "language_info": {
   "codemirror_mode": {
    "name": "ipython",
    "version": 3
   },
   "file_extension": ".py",
   "mimetype": "text/x-python",
   "name": "python",
   "nbconvert_exporter": "python",
   "pygments_lexer": "ipython3",
   "version": "3.6.7"
  }
 },
 "nbformat": 4,
 "nbformat_minor": 2
}
