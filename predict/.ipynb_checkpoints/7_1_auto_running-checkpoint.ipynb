{
 "cells": [
  {
   "cell_type": "code",
   "execution_count": 1,
   "metadata": {},
   "outputs": [
    {
     "name": "stderr",
     "output_type": "stream",
     "text": [
      "Using TensorFlow backend.\n"
     ]
    },
    {
     "data": {
      "text/plain": [
       "['/job:localhost/replica:0/task:0/device:GPU:0']"
      ]
     },
     "execution_count": 1,
     "metadata": {},
     "output_type": "execute_result"
    }
   ],
   "source": [
    "from keras import backend as K\n",
    "K.tensorflow_backend._get_available_gpus()"
   ]
  },
  {
   "cell_type": "code",
   "execution_count": 2,
   "metadata": {},
   "outputs": [],
   "source": [
    "from pymongo import MongoClient\n",
    "from bson.objectid import ObjectId\n",
    "\n",
    "import time,datetime\n",
    "import os\n",
    "\n",
    "import pandas as pd\n",
    "import pandas_datareader.data as web\n",
    "import numpy as np\n",
    "\n",
    "import matplotlib.pyplot as plt\n",
    "from matplotlib import style\n",
    "\n",
    "from keras.models import Model, Sequential\n",
    "from keras.layers import Input\n",
    "from keras.layers import Dense\n",
    "from keras.layers import Flatten\n",
    "from keras.layers.convolutional import Conv1D\n",
    "from keras.layers.convolutional import MaxPooling1D\n",
    "import keras\n",
    "\n",
    "from sklearn import preprocessing\n",
    "\n",
    "from copy import deepcopy\n",
    "from IPython.display import clear_output"
   ]
  },
  {
   "cell_type": "code",
   "execution_count": 3,
   "metadata": {},
   "outputs": [],
   "source": [
    "style.use('ggplot')"
   ]
  },
  {
   "cell_type": "code",
   "execution_count": 4,
   "metadata": {},
   "outputs": [],
   "source": [
    "conn = MongoClient('120.126.136.17')\n",
    "db = conn.Tracker\n",
    "collection = [db.james]# db.db2, db.dn2, db.james, db.leo\n",
    "clean_data = []\n",
    "for col in collection:\n",
    "    cursor = col.find({})\n",
    "    df = pd.DataFrame(list(cursor))\n",
    "    \n",
    "df.replace('', np.nan, inplace=True)\n",
    "df.fillna(method='ffill', inplace=True)\n",
    "\n",
    "df['hr_value'] = df['hr_value'].astype(float)\n",
    "df['o2_value'] = df['o2_value'].astype(float)\n",
    "df['latitude'] = df['latitude'].astype(float)\n",
    "df['longitude'] = df['longitude'].astype(float)\n",
    "df['step_value'] = df['step_value'].astype(float)\n",
    "\n",
    "df = df[(df['hr_value'] != 0)]\n",
    "# map out the weekday\n",
    "df['weekday'] = df['timestamp'].apply(lambda x: datetime.datetime.fromtimestamp(x).strftime('%w'))\n",
    "df['week'] = df['timestamp'].apply(lambda x: datetime.datetime.fromtimestamp(x).isocalendar()[1]\n",
    "          - (datetime.datetime.fromtimestamp(x).isoweekday() < 7)) # do this so that week may start on sunday"
   ]
  },
  {
   "cell_type": "code",
   "execution_count": 5,
   "metadata": {},
   "outputs": [],
   "source": [
    "dfsteptotal = pd.DataFrame()\n",
    "dfsteptotal = df[['week', 'weekday']].set_index(['week', 'weekday'])\n",
    "dfsteptotal = dfsteptotal[~dfsteptotal.index.duplicated(keep='first')]\n",
    "dfsteptotal['steps'] = 0\n",
    "dfsteptotal.reset_index(inplace=True)\n",
    "dfadd = pd.DataFrame({'week' : [12], 'weekday':['5'], 'steps':[0]})\n",
    "dfsteptotal = dfsteptotal.append(dfadd, ignore_index=True)\n",
    "dfsteptotal = dfsteptotal.set_index(['week', 'weekday'])\n",
    "dfsteptotal.sort_index(inplace=True)"
   ]
  },
  {
   "cell_type": "code",
   "execution_count": 6,
   "metadata": {},
   "outputs": [],
   "source": [
    "# here I map between integer and the sting it's mean\n",
    "timeslidemap = {0:'morning', 1:'afternoon', 2:'evening'}\n",
    "basestamp = df['timestamp'][0]\n",
    "endstamp = df['timestamp'][-1:].values[0]\n",
    "# for num, row in df[:30000].iterrows():\n",
    "while True:\n",
    "    try:\n",
    "        dfbetween = df.loc[df['timestamp'].between(\n",
    "            datetime.datetime.fromtimestamp(basestamp).replace(hour=0,minute=0,second=0).timestamp(),\n",
    "            datetime.datetime.fromtimestamp(basestamp).replace(hour=23,minute=59,second=59).timestamp()\n",
    "                    , inclusive=True)]\n",
    "        steps = dfbetween['step_value'].sum()\n",
    "    #     print(int(datetime.datetime.fromtimestamp(basestamp).strftime('%m')),\n",
    "    #             int(datetime.datetime.fromtimestamp(basestamp).strftime('%d')),\n",
    "    #                 timeslidemap[estimedevide])\n",
    "\n",
    "        dfsteptotal.loc[[(datetime.datetime.fromtimestamp(basestamp).isocalendar()[1] - \n",
    "                                    (datetime.datetime.fromtimestamp(basestamp).isoweekday() < 7),\n",
    "                            datetime.datetime.fromtimestamp(basestamp).strftime('%w'))], \n",
    "                                           ['steps']] += steps\n",
    "\n",
    "        basestamp = (datetime.datetime.fromtimestamp(basestamp) + datetime.timedelta(days=1)).timestamp()\n",
    "        if basestamp > endstamp:\n",
    "            break\n",
    "    except Exception as e:\n",
    "        print(str(e))\n",
    "        basestamp = (datetime.datetime.fromtimestamp(basestamp) + datetime.timedelta(days=1)).timestamp()\n",
    "#     else:\n",
    "#         print(datetime.datetime.fromtimestamp(basestamp) ,datetime.datetime.fromtimestamp(endstamp))"
   ]
  },
  {
   "cell_type": "code",
   "execution_count": 7,
   "metadata": {},
   "outputs": [],
   "source": [
    "dfsteptotal.loc[(12,'5')] = dfsteptotal.xs('5', level=1).sum() / (dfsteptotal.xs('5', level=1).count() - 1)\n",
    "dfsteptotal['Comfort'] = 0\n",
    "dfsteptotal['Precp'] = 0"
   ]
  },
  {
   "cell_type": "code",
   "execution_count": 8,
   "metadata": {},
   "outputs": [
    {
     "name": "stdout",
     "output_type": "stream",
     "text": [
      "2019-03-27\n",
      "2019-03-28\n",
      "2019-03-29\n",
      "2019-03-30\n",
      "2019-03-31\n",
      "2019-04-01\n",
      "2019-04-02\n",
      "2019-04-03\n",
      "2019-04-04\n",
      "2019-04-05\n",
      "2019-04-06\n",
      "2019-04-07\n",
      "2019-04-08\n",
      "2019-04-09\n",
      "2019-04-10\n",
      "2019-04-11\n",
      "2019-04-12\n",
      "2019-04-13\n",
      "2019-04-14\n",
      "2019-04-15\n",
      "2019-04-16\n",
      "2019-04-17\n",
      "2019-04-18\n",
      "2019-04-19\n",
      "2019-04-20\n",
      "2019-04-21\n",
      "2019-04-22\n",
      "2019-04-23\n",
      "2019-04-24\n",
      "2019-04-25\n",
      "some data are not yet ready\n"
     ]
    }
   ],
   "source": [
    "# add wether \n",
    "coding = 'utf-8'\n",
    "table = pd.DataFrame()\n",
    "basetime = datetime.date(2019,3,27)\n",
    "num = 0\n",
    "for index, row in dfsteptotal.iterrows():\n",
    "    try:\n",
    "        # parsing part\n",
    "        date = basetime + datetime.timedelta(days = num)\n",
    "        print(date)\n",
    "        num += 1\n",
    "        dateStr = date.strftime('%Y-%m-%d')\n",
    "        url = 'https://e-service.cwb.gov.tw/HistoryDataQuery/DayDataController.do?command=viewMain&station=C0AC60'+ \\\n",
    "            '&stname=%25E4%25B8%2589%25E5%25B3%25BD&datepicker=' + dateStr\n",
    "        table = pd.read_html(url,encoding=coding,index_col=0,header=None,flavor='bs4')[1]\n",
    "        # start dataprocess\n",
    "        table.replace('/', np.nan, inplace=True)\n",
    "        table.replace('X', np.nan, inplace=True)  \n",
    "        table.fillna(method='ffill', inplace=True)\n",
    "        table.index -= 1\n",
    "        dfoneday = pd.DataFrame()\n",
    "        # the table data need to reshape and turn to a variable\n",
    "        T = table['temperature'].values.reshape(len(table['temperature'].values)).astype('float')\n",
    "        RH = table['RH'].values.reshape(len(table['RH'].values)).astype('float')\n",
    "        dfoneday['comfort'] = T - 0.55 *(1-RH/100)*(T - 14)\n",
    "        dfoneday['Precp'] = table['Precp']['降水量(mm)']\n",
    "        bins = [0,11,16,20,27,31,60]\n",
    "        labels=[0,1,2,3,4,5]\n",
    "        dfoneday['bins'] = pd.cut(dfoneday['comfort'], bins=bins, labels=labels, include_lowest=True)\n",
    "        # mComfort aComfort eComfort mPrecp aPrecp ePrecp\n",
    "        dfsteptotal.loc[[index], ['Comfort']] = dfoneday['bins'].astype(int).mean()\n",
    "        dfoneday['Precp'].astype(float)\n",
    "        dfsteptotal.loc[[index], ['Precp']] = dfoneday['Precp'].astype(float).sum()\n",
    "    except Exception as e:\n",
    "        if str(e) == \"could not convert string to float: '...'\":\n",
    "            print('some data are not yet ready')\n",
    "            break"
   ]
  },
  {
   "cell_type": "code",
   "execution_count": 9,
   "metadata": {},
   "outputs": [],
   "source": [
    "# split a multivariate sequence into samples\n",
    "def split_sequences(sequences, n_steps):\n",
    "    X, y = list(), list()\n",
    "    for i in range(len(sequences[0])):\n",
    "        # find the end of this pattern\n",
    "        end_ix = i + n_steps\n",
    "        # check if we are beyond the dataset\n",
    "        if end_ix > len(sequences[0])-1:\n",
    "            break\n",
    "        # gather input and output parts of the pattern\n",
    "        seq_x = sequences[0][i:end_ix].reshape(len(sequences[0][i:end_ix]),1) \n",
    "        seq_x = np.append(seq_x, sequences[1][i:end_ix].reshape(len(sequences[1][i:end_ix]),1), axis=1)\n",
    "        seq_x = np.append(seq_x, sequences[2][i:end_ix].reshape(len(sequences[2][i:end_ix]),1), axis=1)\n",
    "        seq_y1 =  sequences[0][end_ix]\n",
    "        X.append(seq_x)\n",
    "        y.append(seq_y1)\n",
    "    return np.array(X), np.array(y)"
   ]
  },
  {
   "cell_type": "code",
   "execution_count": null,
   "metadata": {},
   "outputs": [],
   "source": [
    "# split a multivariate sequence into samples\n",
    "def split_sequences(sequences, n_steps):\n",
    "    X, y = list(), list()\n",
    "    for i in range(len(sequences[0])):\n",
    "        # find the end of this pattern\n",
    "        end_ix = i + n_steps\n",
    "        # check if we are beyond the dataset\n",
    "        if end_ix > len(sequences[0]):\n",
    "            break\n",
    "        # gather input and output parts of the pattern\n",
    "        seq_x = sequences[0][i:end_ix].reshape(len(sequences[0][i:end_ix]),1) \n",
    "        seq_x = np.append(seq_x, sequences[1][i:end_ix].reshape(len(sequences[1][i:end_ix]),1), axis=1)\n",
    "        seq_x = np.append(seq_x, sequences[2][i:end_ix].reshape(len(sequences[2][i:end_ix]),1), axis=1)\n",
    "    return np.array(X)"
   ]
  },
  {
   "cell_type": "code",
   "execution_count": 32,
   "metadata": {},
   "outputs": [],
   "source": [
    "steps = dfsteptotal['steps'][:-1].values\n",
    "Comfort = dfsteptotal['Comfort'][:-1].values\n",
    "Precp = dfsteptotal['Precp'][:-1].values\n",
    "\n",
    "scaler = preprocessing.StandardScaler()\n",
    "dataset = np.array([steps, Comfort, Precp])\n",
    "\n",
    "scaler = preprocessing.StandardScaler()\n",
    "dataset = np.array([steps, Comfort, Precp])\n",
    "normalized_dataset = scaler.fit_transform(dataset)\n",
    "n_steps = 3\n",
    "X, y = split_sequences(normalized_dataset, n_steps)"
   ]
  },
  {
   "cell_type": "code",
   "execution_count": 11,
   "metadata": {},
   "outputs": [
    {
     "name": "stdout",
     "output_type": "stream",
     "text": [
      "_________________________________________________________________\n",
      "Layer (type)                 Output Shape              Param #   \n",
      "=================================================================\n",
      "lstm_1 (LSTM)                (None, 3, 100)            41600     \n",
      "_________________________________________________________________\n",
      "lstm_2 (LSTM)                (None, 100)               80400     \n",
      "_________________________________________________________________\n",
      "dense_1 (Dense)              (None, 1)                 101       \n",
      "=================================================================\n",
      "Total params: 122,101\n",
      "Trainable params: 122,101\n",
      "Non-trainable params: 0\n",
      "_________________________________________________________________\n"
     ]
    }
   ],
   "source": [
    "n_features = 3\n",
    "model = Sequential()\n",
    "model.add(keras.layers.LSTM(100,activation='relu', return_sequences=True,input_shape=(n_steps, n_features)))\n",
    "# model.add(MaxPooling1D(pool_size=2))\n",
    "# model.add(Flatten())\n",
    "# model.add(Dense(50 ,activation='relu'))\n",
    "model.add(keras.layers.LSTM(100, activation='relu'))\n",
    "model.add(Dense(1))\n",
    "model.compile(optimizer='adam', loss='mse')\n",
    "model.summary()"
   ]
  },
  {
   "cell_type": "code",
   "execution_count": null,
   "metadata": {},
   "outputs": [],
   "source": [
    "history = model.fit(X, y, epochs=100, verbose=0, batch_size=128, validation_split=0.2)"
   ]
  },
  {
   "cell_type": "code",
   "execution_count": null,
   "metadata": {},
   "outputs": [],
   "source": [
    "%matplotlib notebook\n",
    "loss = history.history['loss']\n",
    "val_loss = history.history['val_loss']\n",
    "# acc = history.history['acc']\n",
    "# val_acc = history.history['val_acc']\n",
    "epochs = range(1, len(loss) + 1)\n",
    "plt.plot(epochs, loss, 'bo')\n",
    "plt.plot(epochs, val_loss, 'b')\n",
    "plt.show()"
   ]
  },
  {
   "cell_type": "code",
   "execution_count": 34,
   "metadata": {},
   "outputs": [
    {
     "name": "stdout",
     "output_type": "stream",
     "text": [
      "[]\n"
     ]
    }
   ],
   "source": [
    "dataset = np.array([steps[-3:], Comfort[-3:], Precp[-3:]])\n",
    "normalized_dataset = scaler.fit_transform(dataset)\n",
    "X= split_sequences(normalized_dataset, n_steps)\n",
    "print(X)"
   ]
  },
  {
   "cell_type": "code",
   "execution_count": 29,
   "metadata": {},
   "outputs": [
    {
     "ename": "ValueError",
     "evalue": "Error when checking input: expected lstm_1_input to have 3 dimensions, but got array with shape (0, 1)",
     "output_type": "error",
     "traceback": [
      "\u001b[0;31m---------------------------------------------------------------------------\u001b[0m",
      "\u001b[0;31mValueError\u001b[0m                                Traceback (most recent call last)",
      "\u001b[0;32m<ipython-input-29-43a58eb494e8>\u001b[0m in \u001b[0;36m<module>\u001b[0;34m\u001b[0m\n\u001b[0;32m----> 1\u001b[0;31m \u001b[0mmodel\u001b[0m\u001b[0;34m.\u001b[0m\u001b[0mpredict\u001b[0m\u001b[0;34m(\u001b[0m\u001b[0mX\u001b[0m\u001b[0;34m)\u001b[0m\u001b[0;34m\u001b[0m\u001b[0;34m\u001b[0m\u001b[0m\n\u001b[0m",
      "\u001b[0;32m~/.local/lib/python3.6/site-packages/keras/engine/training.py\u001b[0m in \u001b[0;36mpredict\u001b[0;34m(self, x, batch_size, verbose, steps)\u001b[0m\n\u001b[1;32m   1147\u001b[0m                              'argument.')\n\u001b[1;32m   1148\u001b[0m         \u001b[0;31m# Validate user data.\u001b[0m\u001b[0;34m\u001b[0m\u001b[0;34m\u001b[0m\u001b[0;34m\u001b[0m\u001b[0m\n\u001b[0;32m-> 1149\u001b[0;31m         \u001b[0mx\u001b[0m\u001b[0;34m,\u001b[0m \u001b[0m_\u001b[0m\u001b[0;34m,\u001b[0m \u001b[0m_\u001b[0m \u001b[0;34m=\u001b[0m \u001b[0mself\u001b[0m\u001b[0;34m.\u001b[0m\u001b[0m_standardize_user_data\u001b[0m\u001b[0;34m(\u001b[0m\u001b[0mx\u001b[0m\u001b[0;34m)\u001b[0m\u001b[0;34m\u001b[0m\u001b[0;34m\u001b[0m\u001b[0m\n\u001b[0m\u001b[1;32m   1150\u001b[0m         \u001b[0;32mif\u001b[0m \u001b[0mself\u001b[0m\u001b[0;34m.\u001b[0m\u001b[0mstateful\u001b[0m\u001b[0;34m:\u001b[0m\u001b[0;34m\u001b[0m\u001b[0;34m\u001b[0m\u001b[0m\n\u001b[1;32m   1151\u001b[0m             \u001b[0;32mif\u001b[0m \u001b[0mx\u001b[0m\u001b[0;34m[\u001b[0m\u001b[0;36m0\u001b[0m\u001b[0;34m]\u001b[0m\u001b[0;34m.\u001b[0m\u001b[0mshape\u001b[0m\u001b[0;34m[\u001b[0m\u001b[0;36m0\u001b[0m\u001b[0;34m]\u001b[0m \u001b[0;34m>\u001b[0m \u001b[0mbatch_size\u001b[0m \u001b[0;32mand\u001b[0m \u001b[0mx\u001b[0m\u001b[0;34m[\u001b[0m\u001b[0;36m0\u001b[0m\u001b[0;34m]\u001b[0m\u001b[0;34m.\u001b[0m\u001b[0mshape\u001b[0m\u001b[0;34m[\u001b[0m\u001b[0;36m0\u001b[0m\u001b[0;34m]\u001b[0m \u001b[0;34m%\u001b[0m \u001b[0mbatch_size\u001b[0m \u001b[0;34m!=\u001b[0m \u001b[0;36m0\u001b[0m\u001b[0;34m:\u001b[0m\u001b[0;34m\u001b[0m\u001b[0;34m\u001b[0m\u001b[0m\n",
      "\u001b[0;32m~/.local/lib/python3.6/site-packages/keras/engine/training.py\u001b[0m in \u001b[0;36m_standardize_user_data\u001b[0;34m(self, x, y, sample_weight, class_weight, check_array_lengths, batch_size)\u001b[0m\n\u001b[1;32m    749\u001b[0m             \u001b[0mfeed_input_shapes\u001b[0m\u001b[0;34m,\u001b[0m\u001b[0;34m\u001b[0m\u001b[0;34m\u001b[0m\u001b[0m\n\u001b[1;32m    750\u001b[0m             \u001b[0mcheck_batch_axis\u001b[0m\u001b[0;34m=\u001b[0m\u001b[0;32mFalse\u001b[0m\u001b[0;34m,\u001b[0m  \u001b[0;31m# Don't enforce the batch size.\u001b[0m\u001b[0;34m\u001b[0m\u001b[0;34m\u001b[0m\u001b[0m\n\u001b[0;32m--> 751\u001b[0;31m             exception_prefix='input')\n\u001b[0m\u001b[1;32m    752\u001b[0m \u001b[0;34m\u001b[0m\u001b[0m\n\u001b[1;32m    753\u001b[0m         \u001b[0;32mif\u001b[0m \u001b[0my\u001b[0m \u001b[0;32mis\u001b[0m \u001b[0;32mnot\u001b[0m \u001b[0;32mNone\u001b[0m\u001b[0;34m:\u001b[0m\u001b[0;34m\u001b[0m\u001b[0;34m\u001b[0m\u001b[0m\n",
      "\u001b[0;32m~/.local/lib/python3.6/site-packages/keras/engine/training_utils.py\u001b[0m in \u001b[0;36mstandardize_input_data\u001b[0;34m(data, names, shapes, check_batch_axis, exception_prefix)\u001b[0m\n\u001b[1;32m    126\u001b[0m                         \u001b[0;34m': expected '\u001b[0m \u001b[0;34m+\u001b[0m \u001b[0mnames\u001b[0m\u001b[0;34m[\u001b[0m\u001b[0mi\u001b[0m\u001b[0;34m]\u001b[0m \u001b[0;34m+\u001b[0m \u001b[0;34m' to have '\u001b[0m \u001b[0;34m+\u001b[0m\u001b[0;34m\u001b[0m\u001b[0;34m\u001b[0m\u001b[0m\n\u001b[1;32m    127\u001b[0m                         \u001b[0mstr\u001b[0m\u001b[0;34m(\u001b[0m\u001b[0mlen\u001b[0m\u001b[0;34m(\u001b[0m\u001b[0mshape\u001b[0m\u001b[0;34m)\u001b[0m\u001b[0;34m)\u001b[0m \u001b[0;34m+\u001b[0m \u001b[0;34m' dimensions, but got array '\u001b[0m\u001b[0;34m\u001b[0m\u001b[0;34m\u001b[0m\u001b[0m\n\u001b[0;32m--> 128\u001b[0;31m                         'with shape ' + str(data_shape))\n\u001b[0m\u001b[1;32m    129\u001b[0m                 \u001b[0;32mif\u001b[0m \u001b[0;32mnot\u001b[0m \u001b[0mcheck_batch_axis\u001b[0m\u001b[0;34m:\u001b[0m\u001b[0;34m\u001b[0m\u001b[0;34m\u001b[0m\u001b[0m\n\u001b[1;32m    130\u001b[0m                     \u001b[0mdata_shape\u001b[0m \u001b[0;34m=\u001b[0m \u001b[0mdata_shape\u001b[0m\u001b[0;34m[\u001b[0m\u001b[0;36m1\u001b[0m\u001b[0;34m:\u001b[0m\u001b[0;34m]\u001b[0m\u001b[0;34m\u001b[0m\u001b[0;34m\u001b[0m\u001b[0m\n",
      "\u001b[0;31mValueError\u001b[0m: Error when checking input: expected lstm_1_input to have 3 dimensions, but got array with shape (0, 1)"
     ]
    }
   ],
   "source": [
    "model.predict(X)"
   ]
  },
  {
   "cell_type": "code",
   "execution_count": null,
   "metadata": {},
   "outputs": [],
   "source": []
  },
  {
   "cell_type": "code",
   "execution_count": 62,
   "metadata": {},
   "outputs": [],
   "source": [
    "scaler.inverse_transform"
   ]
  },
  {
   "cell_type": "code",
   "execution_count": 44,
   "metadata": {},
   "outputs": [
    {
     "data": {
      "text/plain": [
       "array([[ 2.36600000e+03,  2.10400000e+03,  5.33600000e+03,\n",
       "         3.09300000e+03,  1.14100000e+03,  1.04320000e+04,\n",
       "         6.94000000e+03,  5.91900000e+03,  5.47900000e+03,\n",
       "         4.19200000e+03,  5.14300000e+03,  8.83700000e+03,\n",
       "         5.70700000e+03,  4.13200000e+03,  5.91100000e+03,\n",
       "         2.84700000e+03,  5.63500000e+03,  6.11700000e+03,\n",
       "         8.26400000e+03,  1.37470000e+04,  5.92700000e+03,\n",
       "         7.31300000e+03,  9.57700000e+03,  6.18200000e+03,\n",
       "         7.80800000e+03,  5.81500000e+03,  1.15150000e+04,\n",
       "         7.37600000e+03],\n",
       "       [ 2.66666667e+00,  2.87500000e+00,  2.91666667e+00,\n",
       "         2.58333333e+00,  2.00000000e+00,  1.70833333e+00,\n",
       "         2.29166667e+00,  2.41666667e+00,  2.87500000e+00,\n",
       "        -3.84307168e+17,  2.70833333e+00,  2.83333333e+00,\n",
       "         3.00000000e+00,  3.04166667e+00,  3.00000000e+00,\n",
       "         2.62500000e+00,  2.08333333e+00,  2.70833333e+00,\n",
       "         2.83333333e+00,  2.08333333e+00,  2.00000000e+00,\n",
       "         2.54166667e+00,  2.75000000e+00,  3.00000000e+00,\n",
       "        -3.84307168e+17,  3.00000000e+00,  3.25000000e+00,\n",
       "         3.29166667e+00],\n",
       "       [ 0.00000000e+00,  0.00000000e+00,  1.30000000e+01,\n",
       "         3.50000000e+00,  5.00000000e-01,  5.00000000e+00,\n",
       "         0.00000000e+00,  0.00000000e+00, -2.27373675e-13,\n",
       "        -1.60000000e+01,  0.00000000e+00,  0.00000000e+00,\n",
       "         0.00000000e+00,  0.00000000e+00,  2.27373675e-13,\n",
       "         2.10000000e+01,  0.00000000e+00,  2.50000000e+00,\n",
       "         1.50000000e+00,  2.00000000e+00,  4.05000000e+01,\n",
       "         0.00000000e+00,  4.54747351e-13,  1.60000000e+01,\n",
       "         0.00000000e+00,  3.95000000e+01,  1.00000000e+00,\n",
       "         0.00000000e+00]])"
      ]
     },
     "execution_count": 44,
     "metadata": {},
     "output_type": "execute_result"
    }
   ],
   "source": [
    "scaler.inverse_transform(normalized_dataset)"
   ]
  },
  {
   "cell_type": "code",
   "execution_count": null,
   "metadata": {},
   "outputs": [],
   "source": []
  }
 ],
 "metadata": {
  "kernelspec": {
   "display_name": "Python 3",
   "language": "python",
   "name": "python3"
  },
  "language_info": {
   "codemirror_mode": {
    "name": "ipython",
    "version": 3
   },
   "file_extension": ".py",
   "mimetype": "text/x-python",
   "name": "python",
   "nbconvert_exporter": "python",
   "pygments_lexer": "ipython3",
   "version": "3.6.7"
  }
 },
 "nbformat": 4,
 "nbformat_minor": 2
}
