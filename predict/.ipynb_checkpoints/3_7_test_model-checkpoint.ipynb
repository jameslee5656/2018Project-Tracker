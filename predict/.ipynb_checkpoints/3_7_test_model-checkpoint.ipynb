{
 "cells": [
  {
   "cell_type": "code",
   "execution_count": 6,
   "metadata": {},
   "outputs": [
    {
     "name": "stderr",
     "output_type": "stream",
     "text": [
      "Using TensorFlow backend.\n"
     ]
    },
    {
     "data": {
      "text/plain": [
       "['/job:localhost/replica:0/task:0/device:GPU:0']"
      ]
     },
     "execution_count": 6,
     "metadata": {},
     "output_type": "execute_result"
    }
   ],
   "source": [
    "from keras import backend as K\n",
    "K.tensorflow_backend._get_available_gpus()"
   ]
  },
  {
   "cell_type": "code",
   "execution_count": 7,
   "metadata": {},
   "outputs": [],
   "source": [
    "from pymongo import MongoClient\n",
    "from bson.objectid import ObjectId\n",
    "\n",
    "import time,datetime\n",
    "import os\n",
    "\n",
    "import pandas as pd\n",
    "import pandas_datareader.data as web\n",
    "import numpy as np\n",
    "\n",
    "import matplotlib.pyplot as plt\n",
    "from matplotlib import style\n",
    "\n",
    "import pickle\n",
    "\n",
    "from keras.models import Model, Sequential\n",
    "from keras.layers import Input\n",
    "from keras.layers import Dense\n",
    "from keras.layers import Flatten\n",
    "from keras.layers.convolutional import Conv1D\n",
    "from keras.layers.convolutional import MaxPooling1D\n",
    "import keras\n",
    "from keras.callbacks import TensorBoard\n",
    "\n",
    "from sklearn import preprocessing\n",
    "\n",
    "from copy import deepcopy\n",
    "from IPython.display import clear_output"
   ]
  },
  {
   "cell_type": "code",
   "execution_count": 8,
   "metadata": {},
   "outputs": [],
   "source": [
    "style.use('ggplot')"
   ]
  },
  {
   "cell_type": "code",
   "execution_count": 11,
   "metadata": {},
   "outputs": [],
   "source": [
    "# split a multivariate sequence into samples\n",
    "def split_sequences_hour(sequences, n_steps):\n",
    "    X, y = list(), list()\n",
    "    for i in range(len(sequences)):\n",
    "       # find the end of this pattern\n",
    "        end_ix = i + n_steps\n",
    "#         print(end_ix)\n",
    "        #check if we are beyond the dataset\n",
    "        if end_ix > len(sequences)-1:\n",
    "            break\n",
    "        # gather input and output parts of the pattern\n",
    "        seq_x = sequences[i:end_ix]#.reshape(len(sequences[i:end_ix]),1) \n",
    "#         print(seq_x)\n",
    "#         break\n",
    "#         seq_x = np.append(seq_x, sequences[1][i:end_ix].reshape(len(sequences[1][i:end_ix]),1), axis=1)\n",
    "#         seq_x = np.append(seq_x, sequences[2][i:end_ix].reshape(len(sequences[2][i:end_ix]),1), axis=1)\n",
    "        seq_y = sequences[end_ix][-1]\n",
    "        X.append(seq_x)\n",
    "        y.append(seq_y)\n",
    "    return np.array(X), np.array(y)"
   ]
  },
  {
   "cell_type": "code",
   "execution_count": 12,
   "metadata": {},
   "outputs": [],
   "source": [
    "def start_hourly_predict(training_steps = 3,i):\n",
    "    conn = MongoClient('120.126.136.17')\n",
    "    db = conn.Tracker\n",
    "#     collection = [db.User_Info]# db.db2, db.dn2, db.james, db.leo\n",
    "#     userInfo = []\n",
    "#     for col in collection:\n",
    "#         cursor = col.find({})\n",
    "#         df_user = pd.DataFrame(list(cursor))\n",
    "\n",
    "#     for username in df_user['']:\n",
    "#         if username == 'pitest' or username == 'jack' or username == 'manager':\n",
    "#             continue\n",
    "    collection = [db['james']]\n",
    "\n",
    "# collection = [db.james]# db.db2, db.dn2, db.james, db.leo\n",
    "    clean_data = []\n",
    "    for col in collection:\n",
    "        cursor = col.find({})\n",
    "        df = pd.DataFrame(list(cursor))\n",
    "    df.replace('', np.nan, inplace=True)\n",
    "    df.fillna(method='ffill', inplace=True)\n",
    "\n",
    "    df['hr_value'] = df['hr_value'].astype(float)\n",
    "    df['o2_value'] = df['o2_value'].astype(float)\n",
    "    df['latitude'] = df['latitude'].astype(float)\n",
    "    df['longitude'] = df['longitude'].astype(float)\n",
    "    df['step_value'] = df['step_value'].astype(float)\n",
    "\n",
    "    # map out the weekday\n",
    "    df['weekday'] = df['timestamp'].apply(lambda x: datetime.datetime.fromtimestamp(x).strftime('%w'))\n",
    "    df['week'] = df['timestamp'].apply(lambda x: datetime.datetime.fromtimestamp(x).isocalendar()[1]\n",
    "              - (datetime.datetime.fromtimestamp(x).isoweekday() < 7)) # do this so that week may start on monday\n",
    "\n",
    "    dfstephour = pd.DataFrame({})\n",
    "    dfstephour = df[['week', 'weekday']].set_index(['week', 'weekday'])\n",
    "    dfstephour = dfstephour[~dfstephour.index.duplicated(keep='first')]\n",
    "    earlestweek = df['week'].values[0]\n",
    "    latestweek = df['week'].values[-1]\n",
    "    addindex = pd.DataFrame({})\n",
    "    for i in range(earlestweek, latestweek):\n",
    "        for j in range(7):\n",
    "            if not (i,str(j)) in dfstephour.index:\n",
    "                add = pd.DataFrame({'week':[i],'weekday':[str(j)]})\n",
    "                addindex = addindex.append(add)\n",
    "    dfstephour.reset_index(inplace=True)\n",
    "    dfstephour = dfstephour.append(addindex)\n",
    "    dfstephour = dfstephour.set_index(['week', 'weekday'])\n",
    "    dfstephour = dfstephour.sort_index()\n",
    "    for i in range(24):\n",
    "        dfstephour[i] = 0\n",
    "\n",
    "    # here I map between integer and the sting it's mean\n",
    "    timeslidemap = {0:'msteps', 1:'asteps', 2:'esteps'}\n",
    "    basestamp = df['timestamp'][0]\n",
    "    endstamp = df['timestamp'][-1:].values[0]\n",
    "    # for num, row in df[:30000].iterrows():\n",
    "    while True:\n",
    "        try:\n",
    "            hour = datetime.datetime.fromtimestamp(basestamp).hour\n",
    "            dfbetween = df.loc[df['timestamp'].between(\n",
    "                datetime.datetime.fromtimestamp(basestamp).replace(hour=hour,minute=0,second=0).timestamp(),\n",
    "                datetime.datetime.fromtimestamp(basestamp).replace(hour=hour,minute=59,second=59).timestamp()\n",
    "                        , inclusive=True)]\n",
    "            steps = dfbetween['step_value'].sum()\n",
    "        #     print(int(datetime.datetime.fromtimestamp(basestamp).strftime('%m')),\n",
    "        #             int(datetime.datetime.fromtimestamp(basestamp).strftime('%d')),\n",
    "        #                 timeslidemap[estimedevide])\n",
    "\n",
    "            dfstephour.loc[[(datetime.datetime.fromtimestamp(basestamp).isocalendar()[1] - \n",
    "                                        (datetime.datetime.fromtimestamp(basestamp).isoweekday() < 7),\n",
    "                                datetime.datetime.fromtimestamp(basestamp).strftime('%w'))], \n",
    "                                               [hour]] += steps\n",
    "\n",
    "            basestamp = (datetime.datetime.fromtimestamp(basestamp) + datetime.timedelta(hours=1)).timestamp()\n",
    "            if basestamp > endstamp:\n",
    "                break\n",
    "        except Exception as e:\n",
    "    #         print(str(e))\n",
    "            basestamp = (datetime.datetime.fromtimestamp(basestamp) + datetime.timedelta(hours=1)).timestamp()\n",
    "    #     else:\n",
    "    #         print(datetime.datetime.fromtimestamp(basestamp) ,datetime.datetime.fromtimestamp(endstamp))\n",
    "    steps = dfstephour.values\n",
    "    train_X = []\n",
    "    for weekday,i in enumerate(steps):\n",
    "        for hour,j in enumerate(i):\n",
    "            add = np.array([j])#[weekday, hour, j]\n",
    "            train_X.append(add)\n",
    "    # the ending of training data is the  hour of now \n",
    "    train_X = train_X[:-(24-datetime.datetime.now().time().hour + 1)]\n",
    "    train_X = np.array(train_X)\n",
    "\n",
    "    n_steps = training_steps\n",
    "    X, y = split_sequences_hour(train_X, n_steps)\n",
    "\n",
    "    n_features = 1\n",
    "    model = Sequential()\n",
    "    model.add(keras.layers.LSTM(100,activation='relu', return_sequences=True,input_shape=(n_steps, n_features),dropout=0.1))\n",
    "#     model.add(keras.layers.LSTM(50, activation='relu'))\n",
    "    model.add(Dense(1))\n",
    "    model.compile(optimizer='adam', loss='mse')\n",
    "    model.summary()\n",
    "    history = model.fit(X, y, epochs=100, verbose=0, batch_size=128, validation_split=0.2)\n",
    "\n",
    "    conn.close()\n",
    "\n",
    "    return 0"
   ]
  },
  {
   "cell_type": "code",
   "execution_count": 13,
   "metadata": {},
   "outputs": [
    {
     "name": "stdout",
     "output_type": "stream",
     "text": [
      "_________________________________________________________________\n",
      "Layer (type)                 Output Shape              Param #   \n",
      "=================================================================\n",
      "lstm_1 (LSTM)                (None, 7, 100)            40800     \n",
      "_________________________________________________________________\n",
      "dense_1 (Dense)              (None, 7, 1)              101       \n",
      "=================================================================\n",
      "Total params: 40,901\n",
      "Trainable params: 40,901\n",
      "Non-trainable params: 0\n",
      "_________________________________________________________________\n"
     ]
    }
   ],
   "source": [
    "with open('trainHistoryDict', 'wb') as f:\n",
    "    for i in range(2):\n",
    "        history = start_hourly_predict(training_steps=7,i)\n",
    "# pickle.dump(history.history, f)"
   ]
  },
  {
   "cell_type": "code",
   "execution_count": null,
   "metadata": {},
   "outputs": [],
   "source": []
  }
 ],
 "metadata": {
  "kernelspec": {
   "display_name": "Python 3",
   "language": "python",
   "name": "python3"
  },
  "language_info": {
   "codemirror_mode": {
    "name": "ipython",
    "version": 3
   },
   "file_extension": ".py",
   "mimetype": "text/x-python",
   "name": "python",
   "nbconvert_exporter": "python",
   "pygments_lexer": "ipython3",
   "version": "3.6.7"
  }
 },
 "nbformat": 4,
 "nbformat_minor": 2
}
