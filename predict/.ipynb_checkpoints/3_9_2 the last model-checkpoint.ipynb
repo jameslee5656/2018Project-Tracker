{
 "cells": [
  {
   "cell_type": "code",
   "execution_count": 1,
   "metadata": {},
   "outputs": [],
   "source": [
    "from pymongo import MongoClient\n",
    "from bson.objectid import ObjectId\n",
    "\n",
    "import time,datetime\n",
    "import os\n",
    "\n",
    "import pandas as pd\n",
    "import pandas_datareader.data as web\n",
    "import numpy as np\n",
    "\n",
    "import matplotlib.pyplot as plt\n",
    "from matplotlib import style\n",
    "\n",
    "from copy import deepcopy\n",
    "from IPython.display import clear_output"
   ]
  },
  {
   "cell_type": "code",
   "execution_count": 6,
   "metadata": {},
   "outputs": [],
   "source": [
    "start = datetime.datetime(2019,5,28).timestamp()\n",
    "end = datetime.datetime(2019,5,29).timestamp()"
   ]
  },
  {
   "cell_type": "code",
   "execution_count": 7,
   "metadata": {},
   "outputs": [],
   "source": [
    "conn = MongoClient('120.126.136.17')\n",
    "db = conn.Tracker\n",
    "collection = [db.prediction]# db.db2, db.dn2, db.james, db.leo\n",
    "clean_data = []\n",
    "for col in collection:\n",
    "    cursor = col.find({'timestamp': {'$gte': start, '$lt': end}})\n",
    "    df = pd.DataFrame(list(cursor))\n",
    "df['step_value'].replace('', 0, inplace=True)\n",
    "df.replace('', np.nan, inplace=True)\n",
    "df.fillna(method='ffill', inplace=True)"
   ]
  },
  {
   "cell_type": "code",
   "execution_count": null,
   "metadata": {},
   "outputs": [],
   "source": [
    "df"
   ]
  }
 ],
 "metadata": {
  "kernelspec": {
   "display_name": "Python 3",
   "language": "python",
   "name": "python3"
  },
  "language_info": {
   "codemirror_mode": {
    "name": "ipython",
    "version": 3
   },
   "file_extension": ".py",
   "mimetype": "text/x-python",
   "name": "python",
   "nbconvert_exporter": "python",
   "pygments_lexer": "ipython3",
   "version": "3.6.7"
  }
 },
 "nbformat": 4,
 "nbformat_minor": 2
}
