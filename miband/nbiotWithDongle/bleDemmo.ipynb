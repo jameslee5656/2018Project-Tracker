{
 "cells": [
  {
   "cell_type": "code",
   "execution_count": 3,
   "metadata": {},
   "outputs": [],
   "source": [
    "import sys"
   ]
  },
  {
   "cell_type": "code",
   "execution_count": 1,
   "metadata": {},
   "outputs": [],
   "source": [
    "from bluepy.btle import Scanner, DefaultDelegate"
   ]
  },
  {
   "cell_type": "code",
   "execution_count": 2,
   "metadata": {},
   "outputs": [
    {
     "name": "stdout",
     "output_type": "stream",
     "text": [
      "Discovered device d3:4a:ca:2d:ae:c9\n",
      "Device d3:4a:ca:2d:ae:c9 (random), RSSI=-67 dB\n",
      "  Flags = 06\n",
      "  Manufacturer = 5701005d397422b6a3f60ed4d12ccc7e97c9d603d34aca2daec9\n",
      "  Complete Local Name = MI Band 2\n",
      "  Incomplete 16b Services = 0000fee0-0000-1000-8000-00805f9b34fb\n"
     ]
    }
   ],
   "source": [
    "class ScanDelegate(DefaultDelegate):\n",
    "    def __init__(self):\n",
    "        DefaultDelegate.__init__(self)\n",
    "    def handleDiscovery(self, dev, isNewDev, isNewData):\n",
    "        if isNewDev:\n",
    "            print('Discovered device', dev.addr)\n",
    "        elif isNewData:\n",
    "            print('Received new data from', dev.addr)\n",
    "scanner = Scanner().withDelegate(ScanDelegate())\n",
    "devices = scanner.scan(3.0)\n",
    "\n",
    "for dev in devices:\n",
    "    print(\"Device %s (%s), RSSI=%d dB\" % (dev.addr, dev.addrType, dev.rssi))\n",
    "    for (adtype, desc, value) in dev.getScanData():\n",
    "        print(\"  %s = %s\" % (desc, value))"
   ]
  },
  {
   "cell_type": "code",
   "execution_count": null,
   "metadata": {},
   "outputs": [],
   "source": []
  }
 ],
 "metadata": {
  "kernelspec": {
   "display_name": "Python 3",
   "language": "python",
   "name": "python3"
  },
  "language_info": {
   "codemirror_mode": {
    "name": "ipython",
    "version": 3
   },
   "file_extension": ".py",
   "mimetype": "text/x-python",
   "name": "python",
   "nbconvert_exporter": "python",
   "pygments_lexer": "ipython3",
   "version": "3.6.7"
  }
 },
 "nbformat": 4,
 "nbformat_minor": 2
}
